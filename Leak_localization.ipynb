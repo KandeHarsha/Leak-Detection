{
 "cells": [
  {
   "cell_type": "code",
   "execution_count": null,
   "metadata": {
    "colab": {
     "base_uri": "https://localhost:8080/"
    },
    "id": "K4wrmV1yQhK9",
    "outputId": "953c306d-e4db-497f-d964-73cdfaf8ebdd"
   },
   "outputs": [
    {
     "name": "stdout",
     "output_type": "stream",
     "text": [
      "Mounted at /content/drive\n"
     ]
    }
   ],
   "source": [
    "import pandas as pd\n",
    "from google.colab import drive\n",
    "drive.mount('/content/drive')"
   ]
  },
  {
   "cell_type": "code",
   "execution_count": null,
   "metadata": {
    "id": "aRiOQQJgQv4B"
   },
   "outputs": [],
   "source": [
    "endpoint = '/content/drive/MyDrive/Leak_detection_code/Hanoi_CMH'"
   ]
  },
  {
   "cell_type": "code",
   "execution_count": null,
   "metadata": {
    "id": "IV2J6vL4Qv0g"
   },
   "outputs": [],
   "source": [
    "df1 = pd.read_csv(f\"{endpoint}/normalised_csv_file.csv\")"
   ]
  },
  {
   "cell_type": "code",
   "execution_count": null,
   "metadata": {
    "colab": {
     "base_uri": "https://localhost:8080/",
     "height": 505
    },
    "id": "pYbjigkTQ05w",
    "outputId": "e64ec38b-0531-484a-aa04-221611be6fcc"
   },
   "outputs": [
    {
     "data": {
      "text/html": [
       "\n",
       "  <div id=\"df-8e59ff85-317e-4782-98b3-5eb61b036fbe\">\n",
       "    <div class=\"colab-df-container\">\n",
       "      <div>\n",
       "<style scoped>\n",
       "    .dataframe tbody tr th:only-of-type {\n",
       "        vertical-align: middle;\n",
       "    }\n",
       "\n",
       "    .dataframe tbody tr th {\n",
       "        vertical-align: top;\n",
       "    }\n",
       "\n",
       "    .dataframe thead th {\n",
       "        text-align: right;\n",
       "    }\n",
       "</style>\n",
       "<table border=\"1\" class=\"dataframe\">\n",
       "  <thead>\n",
       "    <tr style=\"text-align: right;\">\n",
       "      <th></th>\n",
       "      <th>D_node-1</th>\n",
       "      <th>P_Node-1</th>\n",
       "      <th>F_Link-1</th>\n",
       "      <th>Leak_Node-1</th>\n",
       "      <th>D_node-2</th>\n",
       "      <th>P_Node-2</th>\n",
       "      <th>F_Link-2</th>\n",
       "      <th>Leak_Node-2</th>\n",
       "      <th>D_node-3</th>\n",
       "      <th>P_Node-3</th>\n",
       "      <th>...</th>\n",
       "      <th>P_Node-31</th>\n",
       "      <th>F_Link-31</th>\n",
       "      <th>Leak_Node-31</th>\n",
       "      <th>D_node-32</th>\n",
       "      <th>P_Node-32</th>\n",
       "      <th>F_Link-32</th>\n",
       "      <th>Leak_Node-32</th>\n",
       "      <th>F_Link-33</th>\n",
       "      <th>F_Link-34</th>\n",
       "      <th>Leak</th>\n",
       "    </tr>\n",
       "  </thead>\n",
       "  <tbody>\n",
       "    <tr>\n",
       "      <th>0</th>\n",
       "      <td>0.848724</td>\n",
       "      <td>0.0</td>\n",
       "      <td>0.151276</td>\n",
       "      <td>0.0</td>\n",
       "      <td>0.181159</td>\n",
       "      <td>0.961435</td>\n",
       "      <td>0.147599</td>\n",
       "      <td>0.0</td>\n",
       "      <td>0.166667</td>\n",
       "      <td>0.911553</td>\n",
       "      <td>...</td>\n",
       "      <td>0.917526</td>\n",
       "      <td>0.867925</td>\n",
       "      <td>0.0</td>\n",
       "      <td>0.200000</td>\n",
       "      <td>0.913288</td>\n",
       "      <td>0.932099</td>\n",
       "      <td>0.0</td>\n",
       "      <td>0.074713</td>\n",
       "      <td>0.113636</td>\n",
       "      <td>0.0</td>\n",
       "    </tr>\n",
       "    <tr>\n",
       "      <th>1</th>\n",
       "      <td>0.894144</td>\n",
       "      <td>0.0</td>\n",
       "      <td>0.105856</td>\n",
       "      <td>0.0</td>\n",
       "      <td>0.195652</td>\n",
       "      <td>0.973219</td>\n",
       "      <td>0.098790</td>\n",
       "      <td>0.0</td>\n",
       "      <td>0.103175</td>\n",
       "      <td>0.936695</td>\n",
       "      <td>...</td>\n",
       "      <td>0.942458</td>\n",
       "      <td>0.861635</td>\n",
       "      <td>0.0</td>\n",
       "      <td>0.150000</td>\n",
       "      <td>0.939471</td>\n",
       "      <td>0.938272</td>\n",
       "      <td>0.0</td>\n",
       "      <td>0.063218</td>\n",
       "      <td>0.083333</td>\n",
       "      <td>0.0</td>\n",
       "    </tr>\n",
       "    <tr>\n",
       "      <th>2</th>\n",
       "      <td>0.926802</td>\n",
       "      <td>0.0</td>\n",
       "      <td>0.073198</td>\n",
       "      <td>0.0</td>\n",
       "      <td>0.137681</td>\n",
       "      <td>0.980718</td>\n",
       "      <td>0.068333</td>\n",
       "      <td>0.0</td>\n",
       "      <td>0.087302</td>\n",
       "      <td>0.950994</td>\n",
       "      <td>...</td>\n",
       "      <td>0.956807</td>\n",
       "      <td>0.855346</td>\n",
       "      <td>0.0</td>\n",
       "      <td>0.158333</td>\n",
       "      <td>0.954298</td>\n",
       "      <td>0.956790</td>\n",
       "      <td>0.0</td>\n",
       "      <td>0.040230</td>\n",
       "      <td>0.071970</td>\n",
       "      <td>0.0</td>\n",
       "    </tr>\n",
       "    <tr>\n",
       "      <th>3</th>\n",
       "      <td>0.953453</td>\n",
       "      <td>0.0</td>\n",
       "      <td>0.046547</td>\n",
       "      <td>0.0</td>\n",
       "      <td>0.101449</td>\n",
       "      <td>0.986610</td>\n",
       "      <td>0.042171</td>\n",
       "      <td>0.0</td>\n",
       "      <td>0.063492</td>\n",
       "      <td>0.962074</td>\n",
       "      <td>...</td>\n",
       "      <td>0.967894</td>\n",
       "      <td>0.855346</td>\n",
       "      <td>0.0</td>\n",
       "      <td>0.116667</td>\n",
       "      <td>0.966091</td>\n",
       "      <td>0.950617</td>\n",
       "      <td>0.0</td>\n",
       "      <td>0.045977</td>\n",
       "      <td>0.056818</td>\n",
       "      <td>0.0</td>\n",
       "    </tr>\n",
       "    <tr>\n",
       "      <th>4</th>\n",
       "      <td>0.974474</td>\n",
       "      <td>0.0</td>\n",
       "      <td>0.025526</td>\n",
       "      <td>0.0</td>\n",
       "      <td>0.108696</td>\n",
       "      <td>0.990894</td>\n",
       "      <td>0.020305</td>\n",
       "      <td>0.0</td>\n",
       "      <td>0.055556</td>\n",
       "      <td>0.970644</td>\n",
       "      <td>...</td>\n",
       "      <td>0.976343</td>\n",
       "      <td>0.849057</td>\n",
       "      <td>0.0</td>\n",
       "      <td>0.100000</td>\n",
       "      <td>0.974850</td>\n",
       "      <td>0.956790</td>\n",
       "      <td>0.0</td>\n",
       "      <td>0.040230</td>\n",
       "      <td>0.045455</td>\n",
       "      <td>0.0</td>\n",
       "    </tr>\n",
       "    <tr>\n",
       "      <th>...</th>\n",
       "      <td>...</td>\n",
       "      <td>...</td>\n",
       "      <td>...</td>\n",
       "      <td>...</td>\n",
       "      <td>...</td>\n",
       "      <td>...</td>\n",
       "      <td>...</td>\n",
       "      <td>...</td>\n",
       "      <td>...</td>\n",
       "      <td>...</td>\n",
       "      <td>...</td>\n",
       "      <td>...</td>\n",
       "      <td>...</td>\n",
       "      <td>...</td>\n",
       "      <td>...</td>\n",
       "      <td>...</td>\n",
       "      <td>...</td>\n",
       "      <td>...</td>\n",
       "      <td>...</td>\n",
       "      <td>...</td>\n",
       "      <td>...</td>\n",
       "    </tr>\n",
       "    <tr>\n",
       "      <th>175195</th>\n",
       "      <td>0.624625</td>\n",
       "      <td>0.0</td>\n",
       "      <td>0.375375</td>\n",
       "      <td>0.0</td>\n",
       "      <td>0.362319</td>\n",
       "      <td>0.913230</td>\n",
       "      <td>0.370558</td>\n",
       "      <td>0.0</td>\n",
       "      <td>0.404762</td>\n",
       "      <td>0.914441</td>\n",
       "      <td>...</td>\n",
       "      <td>0.822187</td>\n",
       "      <td>0.924528</td>\n",
       "      <td>0.0</td>\n",
       "      <td>0.400000</td>\n",
       "      <td>0.812875</td>\n",
       "      <td>0.925926</td>\n",
       "      <td>0.0</td>\n",
       "      <td>0.097701</td>\n",
       "      <td>0.219697</td>\n",
       "      <td>0.0</td>\n",
       "    </tr>\n",
       "    <tr>\n",
       "      <th>175196</th>\n",
       "      <td>0.656156</td>\n",
       "      <td>0.0</td>\n",
       "      <td>0.343844</td>\n",
       "      <td>0.0</td>\n",
       "      <td>0.318841</td>\n",
       "      <td>0.923407</td>\n",
       "      <td>0.340492</td>\n",
       "      <td>0.0</td>\n",
       "      <td>0.365079</td>\n",
       "      <td>0.924195</td>\n",
       "      <td>...</td>\n",
       "      <td>0.842138</td>\n",
       "      <td>0.911950</td>\n",
       "      <td>0.0</td>\n",
       "      <td>0.350000</td>\n",
       "      <td>0.833990</td>\n",
       "      <td>0.919753</td>\n",
       "      <td>0.0</td>\n",
       "      <td>0.103448</td>\n",
       "      <td>0.200758</td>\n",
       "      <td>0.0</td>\n",
       "    </tr>\n",
       "    <tr>\n",
       "      <th>175197</th>\n",
       "      <td>0.692192</td>\n",
       "      <td>0.0</td>\n",
       "      <td>0.307808</td>\n",
       "      <td>0.0</td>\n",
       "      <td>0.326087</td>\n",
       "      <td>0.934119</td>\n",
       "      <td>0.302226</td>\n",
       "      <td>0.0</td>\n",
       "      <td>0.293651</td>\n",
       "      <td>0.935748</td>\n",
       "      <td>...</td>\n",
       "      <td>0.860844</td>\n",
       "      <td>0.905660</td>\n",
       "      <td>0.0</td>\n",
       "      <td>0.333333</td>\n",
       "      <td>0.853510</td>\n",
       "      <td>0.925926</td>\n",
       "      <td>0.0</td>\n",
       "      <td>0.086207</td>\n",
       "      <td>0.185606</td>\n",
       "      <td>0.0</td>\n",
       "    </tr>\n",
       "    <tr>\n",
       "      <th>175198</th>\n",
       "      <td>0.727102</td>\n",
       "      <td>0.0</td>\n",
       "      <td>0.272898</td>\n",
       "      <td>0.0</td>\n",
       "      <td>0.282609</td>\n",
       "      <td>0.944296</td>\n",
       "      <td>0.267864</td>\n",
       "      <td>0.0</td>\n",
       "      <td>0.277778</td>\n",
       "      <td>0.945597</td>\n",
       "      <td>...</td>\n",
       "      <td>0.883671</td>\n",
       "      <td>0.905660</td>\n",
       "      <td>0.0</td>\n",
       "      <td>0.300000</td>\n",
       "      <td>0.877346</td>\n",
       "      <td>0.944444</td>\n",
       "      <td>0.0</td>\n",
       "      <td>0.068966</td>\n",
       "      <td>0.155303</td>\n",
       "      <td>0.0</td>\n",
       "    </tr>\n",
       "    <tr>\n",
       "      <th>175199</th>\n",
       "      <td>0.775526</td>\n",
       "      <td>0.0</td>\n",
       "      <td>0.224474</td>\n",
       "      <td>0.0</td>\n",
       "      <td>0.246377</td>\n",
       "      <td>0.956615</td>\n",
       "      <td>0.219836</td>\n",
       "      <td>0.0</td>\n",
       "      <td>0.238095</td>\n",
       "      <td>0.958428</td>\n",
       "      <td>...</td>\n",
       "      <td>0.908870</td>\n",
       "      <td>0.899371</td>\n",
       "      <td>0.0</td>\n",
       "      <td>0.250000</td>\n",
       "      <td>0.903841</td>\n",
       "      <td>0.944444</td>\n",
       "      <td>0.0</td>\n",
       "      <td>0.063218</td>\n",
       "      <td>0.128788</td>\n",
       "      <td>0.0</td>\n",
       "    </tr>\n",
       "  </tbody>\n",
       "</table>\n",
       "<p>175200 rows × 131 columns</p>\n",
       "</div>\n",
       "      <button class=\"colab-df-convert\" onclick=\"convertToInteractive('df-8e59ff85-317e-4782-98b3-5eb61b036fbe')\"\n",
       "              title=\"Convert this dataframe to an interactive table.\"\n",
       "              style=\"display:none;\">\n",
       "        \n",
       "  <svg xmlns=\"http://www.w3.org/2000/svg\" height=\"24px\"viewBox=\"0 0 24 24\"\n",
       "       width=\"24px\">\n",
       "    <path d=\"M0 0h24v24H0V0z\" fill=\"none\"/>\n",
       "    <path d=\"M18.56 5.44l.94 2.06.94-2.06 2.06-.94-2.06-.94-.94-2.06-.94 2.06-2.06.94zm-11 1L8.5 8.5l.94-2.06 2.06-.94-2.06-.94L8.5 2.5l-.94 2.06-2.06.94zm10 10l.94 2.06.94-2.06 2.06-.94-2.06-.94-.94-2.06-.94 2.06-2.06.94z\"/><path d=\"M17.41 7.96l-1.37-1.37c-.4-.4-.92-.59-1.43-.59-.52 0-1.04.2-1.43.59L10.3 9.45l-7.72 7.72c-.78.78-.78 2.05 0 2.83L4 21.41c.39.39.9.59 1.41.59.51 0 1.02-.2 1.41-.59l7.78-7.78 2.81-2.81c.8-.78.8-2.07 0-2.86zM5.41 20L4 18.59l7.72-7.72 1.47 1.35L5.41 20z\"/>\n",
       "  </svg>\n",
       "      </button>\n",
       "      \n",
       "  <style>\n",
       "    .colab-df-container {\n",
       "      display:flex;\n",
       "      flex-wrap:wrap;\n",
       "      gap: 12px;\n",
       "    }\n",
       "\n",
       "    .colab-df-convert {\n",
       "      background-color: #E8F0FE;\n",
       "      border: none;\n",
       "      border-radius: 50%;\n",
       "      cursor: pointer;\n",
       "      display: none;\n",
       "      fill: #1967D2;\n",
       "      height: 32px;\n",
       "      padding: 0 0 0 0;\n",
       "      width: 32px;\n",
       "    }\n",
       "\n",
       "    .colab-df-convert:hover {\n",
       "      background-color: #E2EBFA;\n",
       "      box-shadow: 0px 1px 2px rgba(60, 64, 67, 0.3), 0px 1px 3px 1px rgba(60, 64, 67, 0.15);\n",
       "      fill: #174EA6;\n",
       "    }\n",
       "\n",
       "    [theme=dark] .colab-df-convert {\n",
       "      background-color: #3B4455;\n",
       "      fill: #D2E3FC;\n",
       "    }\n",
       "\n",
       "    [theme=dark] .colab-df-convert:hover {\n",
       "      background-color: #434B5C;\n",
       "      box-shadow: 0px 1px 3px 1px rgba(0, 0, 0, 0.15);\n",
       "      filter: drop-shadow(0px 1px 2px rgba(0, 0, 0, 0.3));\n",
       "      fill: #FFFFFF;\n",
       "    }\n",
       "  </style>\n",
       "\n",
       "      <script>\n",
       "        const buttonEl =\n",
       "          document.querySelector('#df-8e59ff85-317e-4782-98b3-5eb61b036fbe button.colab-df-convert');\n",
       "        buttonEl.style.display =\n",
       "          google.colab.kernel.accessAllowed ? 'block' : 'none';\n",
       "\n",
       "        async function convertToInteractive(key) {\n",
       "          const element = document.querySelector('#df-8e59ff85-317e-4782-98b3-5eb61b036fbe');\n",
       "          const dataTable =\n",
       "            await google.colab.kernel.invokeFunction('convertToInteractive',\n",
       "                                                     [key], {});\n",
       "          if (!dataTable) return;\n",
       "\n",
       "          const docLinkHtml = 'Like what you see? Visit the ' +\n",
       "            '<a target=\"_blank\" href=https://colab.research.google.com/notebooks/data_table.ipynb>data table notebook</a>'\n",
       "            + ' to learn more about interactive tables.';\n",
       "          element.innerHTML = '';\n",
       "          dataTable['output_type'] = 'display_data';\n",
       "          await google.colab.output.renderOutput(dataTable, element);\n",
       "          const docLink = document.createElement('div');\n",
       "          docLink.innerHTML = docLinkHtml;\n",
       "          element.appendChild(docLink);\n",
       "        }\n",
       "      </script>\n",
       "    </div>\n",
       "  </div>\n",
       "  "
      ],
      "text/plain": [
       "        D_node-1  P_Node-1  F_Link-1  Leak_Node-1  D_node-2  P_Node-2  \\\n",
       "0       0.848724       0.0  0.151276          0.0  0.181159  0.961435   \n",
       "1       0.894144       0.0  0.105856          0.0  0.195652  0.973219   \n",
       "2       0.926802       0.0  0.073198          0.0  0.137681  0.980718   \n",
       "3       0.953453       0.0  0.046547          0.0  0.101449  0.986610   \n",
       "4       0.974474       0.0  0.025526          0.0  0.108696  0.990894   \n",
       "...          ...       ...       ...          ...       ...       ...   \n",
       "175195  0.624625       0.0  0.375375          0.0  0.362319  0.913230   \n",
       "175196  0.656156       0.0  0.343844          0.0  0.318841  0.923407   \n",
       "175197  0.692192       0.0  0.307808          0.0  0.326087  0.934119   \n",
       "175198  0.727102       0.0  0.272898          0.0  0.282609  0.944296   \n",
       "175199  0.775526       0.0  0.224474          0.0  0.246377  0.956615   \n",
       "\n",
       "        F_Link-2  Leak_Node-2  D_node-3  P_Node-3  ...  P_Node-31  F_Link-31  \\\n",
       "0       0.147599          0.0  0.166667  0.911553  ...   0.917526   0.867925   \n",
       "1       0.098790          0.0  0.103175  0.936695  ...   0.942458   0.861635   \n",
       "2       0.068333          0.0  0.087302  0.950994  ...   0.956807   0.855346   \n",
       "3       0.042171          0.0  0.063492  0.962074  ...   0.967894   0.855346   \n",
       "4       0.020305          0.0  0.055556  0.970644  ...   0.976343   0.849057   \n",
       "...          ...          ...       ...       ...  ...        ...        ...   \n",
       "175195  0.370558          0.0  0.404762  0.914441  ...   0.822187   0.924528   \n",
       "175196  0.340492          0.0  0.365079  0.924195  ...   0.842138   0.911950   \n",
       "175197  0.302226          0.0  0.293651  0.935748  ...   0.860844   0.905660   \n",
       "175198  0.267864          0.0  0.277778  0.945597  ...   0.883671   0.905660   \n",
       "175199  0.219836          0.0  0.238095  0.958428  ...   0.908870   0.899371   \n",
       "\n",
       "        Leak_Node-31  D_node-32  P_Node-32  F_Link-32  Leak_Node-32  \\\n",
       "0                0.0   0.200000   0.913288   0.932099           0.0   \n",
       "1                0.0   0.150000   0.939471   0.938272           0.0   \n",
       "2                0.0   0.158333   0.954298   0.956790           0.0   \n",
       "3                0.0   0.116667   0.966091   0.950617           0.0   \n",
       "4                0.0   0.100000   0.974850   0.956790           0.0   \n",
       "...              ...        ...        ...        ...           ...   \n",
       "175195           0.0   0.400000   0.812875   0.925926           0.0   \n",
       "175196           0.0   0.350000   0.833990   0.919753           0.0   \n",
       "175197           0.0   0.333333   0.853510   0.925926           0.0   \n",
       "175198           0.0   0.300000   0.877346   0.944444           0.0   \n",
       "175199           0.0   0.250000   0.903841   0.944444           0.0   \n",
       "\n",
       "        F_Link-33  F_Link-34  Leak  \n",
       "0        0.074713   0.113636   0.0  \n",
       "1        0.063218   0.083333   0.0  \n",
       "2        0.040230   0.071970   0.0  \n",
       "3        0.045977   0.056818   0.0  \n",
       "4        0.040230   0.045455   0.0  \n",
       "...           ...        ...   ...  \n",
       "175195   0.097701   0.219697   0.0  \n",
       "175196   0.103448   0.200758   0.0  \n",
       "175197   0.086207   0.185606   0.0  \n",
       "175198   0.068966   0.155303   0.0  \n",
       "175199   0.063218   0.128788   0.0  \n",
       "\n",
       "[175200 rows x 131 columns]"
      ]
     },
     "execution_count": 8,
     "metadata": {},
     "output_type": "execute_result"
    }
   ],
   "source": [
    "df1.fillna(0, inplace = True)\n",
    "df1.drop('Unnamed: 0',axis=1, inplace=True)\n",
    "df1"
   ]
  },
  {
   "cell_type": "code",
   "execution_count": null,
   "metadata": {
    "id": "0Kl4tuK4RPUQ"
   },
   "outputs": [],
   "source": [
    "lcols=[]\n",
    "for i in range(32):\n",
    "\tcol= f'Leak_Node-{i+1}'\n",
    "\tlcols.append(col)\n",
    " \n",
    "dcols=[]\n",
    "for i in range(32):\n",
    "\tcol= f'D_node-{i+1}'\n",
    "\tdcols.append(col)\n",
    " \n",
    "fcols=[]\n",
    "for i in range(34):\n",
    "\tcol= f'F_Link-{i+1}'\n",
    "\tfcols.append(col)\n",
    " \n",
    "pcols=[]\n",
    "for i in range(32):\n",
    "\tcol= f'P_Node-{i+1}'\n",
    "\tpcols.append(col)"
   ]
  },
  {
   "cell_type": "markdown",
   "metadata": {
    "id": "4vZhOc-cSpZF"
   },
   "source": [
    "Creating a new dataframe with rows having leak"
   ]
  },
  {
   "cell_type": "code",
   "execution_count": null,
   "metadata": {
    "colab": {
     "base_uri": "https://localhost:8080/",
     "height": 505
    },
    "id": "Exx2_XKySg3g",
    "outputId": "1e7f48ff-68df-4688-9aed-d741039a6504"
   },
   "outputs": [
    {
     "data": {
      "text/html": [
       "\n",
       "  <div id=\"df-d09215b1-cc40-4508-a3b6-c135e912fe68\">\n",
       "    <div class=\"colab-df-container\">\n",
       "      <div>\n",
       "<style scoped>\n",
       "    .dataframe tbody tr th:only-of-type {\n",
       "        vertical-align: middle;\n",
       "    }\n",
       "\n",
       "    .dataframe tbody tr th {\n",
       "        vertical-align: top;\n",
       "    }\n",
       "\n",
       "    .dataframe thead th {\n",
       "        text-align: right;\n",
       "    }\n",
       "</style>\n",
       "<table border=\"1\" class=\"dataframe\">\n",
       "  <thead>\n",
       "    <tr style=\"text-align: right;\">\n",
       "      <th></th>\n",
       "      <th>D_node-1</th>\n",
       "      <th>P_Node-1</th>\n",
       "      <th>F_Link-1</th>\n",
       "      <th>Leak_Node-1</th>\n",
       "      <th>D_node-2</th>\n",
       "      <th>P_Node-2</th>\n",
       "      <th>F_Link-2</th>\n",
       "      <th>Leak_Node-2</th>\n",
       "      <th>D_node-3</th>\n",
       "      <th>P_Node-3</th>\n",
       "      <th>...</th>\n",
       "      <th>P_Node-31</th>\n",
       "      <th>F_Link-31</th>\n",
       "      <th>Leak_Node-31</th>\n",
       "      <th>D_node-32</th>\n",
       "      <th>P_Node-32</th>\n",
       "      <th>F_Link-32</th>\n",
       "      <th>Leak_Node-32</th>\n",
       "      <th>F_Link-33</th>\n",
       "      <th>F_Link-34</th>\n",
       "      <th>Leak</th>\n",
       "    </tr>\n",
       "  </thead>\n",
       "  <tbody>\n",
       "    <tr>\n",
       "      <th>38066</th>\n",
       "      <td>0.842342</td>\n",
       "      <td>0.0</td>\n",
       "      <td>0.157658</td>\n",
       "      <td>0.0</td>\n",
       "      <td>0.195652</td>\n",
       "      <td>0.967327</td>\n",
       "      <td>0.153065</td>\n",
       "      <td>0.0</td>\n",
       "      <td>0.158730</td>\n",
       "      <td>0.955114</td>\n",
       "      <td>...</td>\n",
       "      <td>0.923455</td>\n",
       "      <td>0.836478</td>\n",
       "      <td>0.0</td>\n",
       "      <td>0.141667</td>\n",
       "      <td>0.920327</td>\n",
       "      <td>0.901235</td>\n",
       "      <td>0.0</td>\n",
       "      <td>0.109195</td>\n",
       "      <td>0.109848</td>\n",
       "      <td>1.0</td>\n",
       "    </tr>\n",
       "    <tr>\n",
       "      <th>38067</th>\n",
       "      <td>0.876502</td>\n",
       "      <td>0.0</td>\n",
       "      <td>0.123498</td>\n",
       "      <td>0.0</td>\n",
       "      <td>0.173913</td>\n",
       "      <td>0.975362</td>\n",
       "      <td>0.118704</td>\n",
       "      <td>0.0</td>\n",
       "      <td>0.119048</td>\n",
       "      <td>0.965625</td>\n",
       "      <td>...</td>\n",
       "      <td>0.940116</td>\n",
       "      <td>0.855346</td>\n",
       "      <td>0.0</td>\n",
       "      <td>0.133333</td>\n",
       "      <td>0.937375</td>\n",
       "      <td>0.919753</td>\n",
       "      <td>0.0</td>\n",
       "      <td>0.086207</td>\n",
       "      <td>0.087121</td>\n",
       "      <td>1.0</td>\n",
       "    </tr>\n",
       "    <tr>\n",
       "      <th>38068</th>\n",
       "      <td>0.901276</td>\n",
       "      <td>0.0</td>\n",
       "      <td>0.098724</td>\n",
       "      <td>0.0</td>\n",
       "      <td>0.144928</td>\n",
       "      <td>0.980718</td>\n",
       "      <td>0.094494</td>\n",
       "      <td>0.0</td>\n",
       "      <td>0.063492</td>\n",
       "      <td>0.972443</td>\n",
       "      <td>...</td>\n",
       "      <td>0.951233</td>\n",
       "      <td>0.836478</td>\n",
       "      <td>0.0</td>\n",
       "      <td>0.075000</td>\n",
       "      <td>0.949168</td>\n",
       "      <td>0.919753</td>\n",
       "      <td>0.0</td>\n",
       "      <td>0.086207</td>\n",
       "      <td>0.064394</td>\n",
       "      <td>1.0</td>\n",
       "    </tr>\n",
       "    <tr>\n",
       "      <th>38069</th>\n",
       "      <td>0.906907</td>\n",
       "      <td>0.0</td>\n",
       "      <td>0.093093</td>\n",
       "      <td>0.0</td>\n",
       "      <td>0.130435</td>\n",
       "      <td>0.981789</td>\n",
       "      <td>0.089418</td>\n",
       "      <td>0.0</td>\n",
       "      <td>0.063492</td>\n",
       "      <td>0.973769</td>\n",
       "      <td>...</td>\n",
       "      <td>0.953486</td>\n",
       "      <td>0.836478</td>\n",
       "      <td>0.0</td>\n",
       "      <td>0.075000</td>\n",
       "      <td>0.951545</td>\n",
       "      <td>0.913580</td>\n",
       "      <td>0.0</td>\n",
       "      <td>0.086207</td>\n",
       "      <td>0.068182</td>\n",
       "      <td>1.0</td>\n",
       "    </tr>\n",
       "    <tr>\n",
       "      <th>38070</th>\n",
       "      <td>0.905030</td>\n",
       "      <td>0.0</td>\n",
       "      <td>0.094970</td>\n",
       "      <td>0.0</td>\n",
       "      <td>0.137681</td>\n",
       "      <td>0.981253</td>\n",
       "      <td>0.090980</td>\n",
       "      <td>0.0</td>\n",
       "      <td>0.071429</td>\n",
       "      <td>0.973390</td>\n",
       "      <td>...</td>\n",
       "      <td>0.953546</td>\n",
       "      <td>0.836478</td>\n",
       "      <td>0.0</td>\n",
       "      <td>0.075000</td>\n",
       "      <td>0.951514</td>\n",
       "      <td>0.919753</td>\n",
       "      <td>0.0</td>\n",
       "      <td>0.086207</td>\n",
       "      <td>0.064394</td>\n",
       "      <td>1.0</td>\n",
       "    </tr>\n",
       "    <tr>\n",
       "      <th>...</th>\n",
       "      <td>...</td>\n",
       "      <td>...</td>\n",
       "      <td>...</td>\n",
       "      <td>...</td>\n",
       "      <td>...</td>\n",
       "      <td>...</td>\n",
       "      <td>...</td>\n",
       "      <td>...</td>\n",
       "      <td>...</td>\n",
       "      <td>...</td>\n",
       "      <td>...</td>\n",
       "      <td>...</td>\n",
       "      <td>...</td>\n",
       "      <td>...</td>\n",
       "      <td>...</td>\n",
       "      <td>...</td>\n",
       "      <td>...</td>\n",
       "      <td>...</td>\n",
       "      <td>...</td>\n",
       "      <td>...</td>\n",
       "      <td>...</td>\n",
       "    </tr>\n",
       "    <tr>\n",
       "      <th>172786</th>\n",
       "      <td>0.397147</td>\n",
       "      <td>0.0</td>\n",
       "      <td>0.602853</td>\n",
       "      <td>0.0</td>\n",
       "      <td>0.297101</td>\n",
       "      <td>0.828066</td>\n",
       "      <td>0.610308</td>\n",
       "      <td>0.0</td>\n",
       "      <td>0.333333</td>\n",
       "      <td>0.822301</td>\n",
       "      <td>...</td>\n",
       "      <td>0.748192</td>\n",
       "      <td>0.949686</td>\n",
       "      <td>0.0</td>\n",
       "      <td>0.350000</td>\n",
       "      <td>0.734234</td>\n",
       "      <td>0.962963</td>\n",
       "      <td>0.0</td>\n",
       "      <td>0.057471</td>\n",
       "      <td>0.166667</td>\n",
       "      <td>1.0</td>\n",
       "    </tr>\n",
       "    <tr>\n",
       "      <th>172787</th>\n",
       "      <td>0.390390</td>\n",
       "      <td>0.0</td>\n",
       "      <td>0.609610</td>\n",
       "      <td>0.0</td>\n",
       "      <td>0.318841</td>\n",
       "      <td>0.824853</td>\n",
       "      <td>0.616556</td>\n",
       "      <td>0.0</td>\n",
       "      <td>0.396825</td>\n",
       "      <td>0.819650</td>\n",
       "      <td>...</td>\n",
       "      <td>0.742529</td>\n",
       "      <td>0.955975</td>\n",
       "      <td>0.0</td>\n",
       "      <td>0.325000</td>\n",
       "      <td>0.728322</td>\n",
       "      <td>0.956790</td>\n",
       "      <td>0.0</td>\n",
       "      <td>0.063218</td>\n",
       "      <td>0.162879</td>\n",
       "      <td>1.0</td>\n",
       "    </tr>\n",
       "    <tr>\n",
       "      <th>172788</th>\n",
       "      <td>0.378003</td>\n",
       "      <td>0.0</td>\n",
       "      <td>0.621997</td>\n",
       "      <td>0.0</td>\n",
       "      <td>0.311594</td>\n",
       "      <td>0.819497</td>\n",
       "      <td>0.629442</td>\n",
       "      <td>0.0</td>\n",
       "      <td>0.388889</td>\n",
       "      <td>0.813778</td>\n",
       "      <td>...</td>\n",
       "      <td>0.727885</td>\n",
       "      <td>0.955975</td>\n",
       "      <td>0.0</td>\n",
       "      <td>0.400000</td>\n",
       "      <td>0.712932</td>\n",
       "      <td>0.950617</td>\n",
       "      <td>0.0</td>\n",
       "      <td>0.068966</td>\n",
       "      <td>0.196970</td>\n",
       "      <td>1.0</td>\n",
       "    </tr>\n",
       "    <tr>\n",
       "      <th>172789</th>\n",
       "      <td>0.371622</td>\n",
       "      <td>0.0</td>\n",
       "      <td>0.628378</td>\n",
       "      <td>0.0</td>\n",
       "      <td>0.376812</td>\n",
       "      <td>0.816818</td>\n",
       "      <td>0.633346</td>\n",
       "      <td>0.0</td>\n",
       "      <td>0.357143</td>\n",
       "      <td>0.811979</td>\n",
       "      <td>...</td>\n",
       "      <td>0.725454</td>\n",
       "      <td>0.955975</td>\n",
       "      <td>0.0</td>\n",
       "      <td>0.433333</td>\n",
       "      <td>0.710273</td>\n",
       "      <td>0.962963</td>\n",
       "      <td>0.0</td>\n",
       "      <td>0.063218</td>\n",
       "      <td>0.212121</td>\n",
       "      <td>1.0</td>\n",
       "    </tr>\n",
       "    <tr>\n",
       "      <th>172790</th>\n",
       "      <td>0.363363</td>\n",
       "      <td>0.0</td>\n",
       "      <td>0.636637</td>\n",
       "      <td>0.0</td>\n",
       "      <td>0.362319</td>\n",
       "      <td>0.813069</td>\n",
       "      <td>0.641937</td>\n",
       "      <td>0.0</td>\n",
       "      <td>0.365079</td>\n",
       "      <td>0.808002</td>\n",
       "      <td>...</td>\n",
       "      <td>0.720651</td>\n",
       "      <td>0.955975</td>\n",
       "      <td>0.0</td>\n",
       "      <td>0.400000</td>\n",
       "      <td>0.705393</td>\n",
       "      <td>0.950617</td>\n",
       "      <td>0.0</td>\n",
       "      <td>0.074713</td>\n",
       "      <td>0.204545</td>\n",
       "      <td>1.0</td>\n",
       "    </tr>\n",
       "  </tbody>\n",
       "</table>\n",
       "<p>19734 rows × 131 columns</p>\n",
       "</div>\n",
       "      <button class=\"colab-df-convert\" onclick=\"convertToInteractive('df-d09215b1-cc40-4508-a3b6-c135e912fe68')\"\n",
       "              title=\"Convert this dataframe to an interactive table.\"\n",
       "              style=\"display:none;\">\n",
       "        \n",
       "  <svg xmlns=\"http://www.w3.org/2000/svg\" height=\"24px\"viewBox=\"0 0 24 24\"\n",
       "       width=\"24px\">\n",
       "    <path d=\"M0 0h24v24H0V0z\" fill=\"none\"/>\n",
       "    <path d=\"M18.56 5.44l.94 2.06.94-2.06 2.06-.94-2.06-.94-.94-2.06-.94 2.06-2.06.94zm-11 1L8.5 8.5l.94-2.06 2.06-.94-2.06-.94L8.5 2.5l-.94 2.06-2.06.94zm10 10l.94 2.06.94-2.06 2.06-.94-2.06-.94-.94-2.06-.94 2.06-2.06.94z\"/><path d=\"M17.41 7.96l-1.37-1.37c-.4-.4-.92-.59-1.43-.59-.52 0-1.04.2-1.43.59L10.3 9.45l-7.72 7.72c-.78.78-.78 2.05 0 2.83L4 21.41c.39.39.9.59 1.41.59.51 0 1.02-.2 1.41-.59l7.78-7.78 2.81-2.81c.8-.78.8-2.07 0-2.86zM5.41 20L4 18.59l7.72-7.72 1.47 1.35L5.41 20z\"/>\n",
       "  </svg>\n",
       "      </button>\n",
       "      \n",
       "  <style>\n",
       "    .colab-df-container {\n",
       "      display:flex;\n",
       "      flex-wrap:wrap;\n",
       "      gap: 12px;\n",
       "    }\n",
       "\n",
       "    .colab-df-convert {\n",
       "      background-color: #E8F0FE;\n",
       "      border: none;\n",
       "      border-radius: 50%;\n",
       "      cursor: pointer;\n",
       "      display: none;\n",
       "      fill: #1967D2;\n",
       "      height: 32px;\n",
       "      padding: 0 0 0 0;\n",
       "      width: 32px;\n",
       "    }\n",
       "\n",
       "    .colab-df-convert:hover {\n",
       "      background-color: #E2EBFA;\n",
       "      box-shadow: 0px 1px 2px rgba(60, 64, 67, 0.3), 0px 1px 3px 1px rgba(60, 64, 67, 0.15);\n",
       "      fill: #174EA6;\n",
       "    }\n",
       "\n",
       "    [theme=dark] .colab-df-convert {\n",
       "      background-color: #3B4455;\n",
       "      fill: #D2E3FC;\n",
       "    }\n",
       "\n",
       "    [theme=dark] .colab-df-convert:hover {\n",
       "      background-color: #434B5C;\n",
       "      box-shadow: 0px 1px 3px 1px rgba(0, 0, 0, 0.15);\n",
       "      filter: drop-shadow(0px 1px 2px rgba(0, 0, 0, 0.3));\n",
       "      fill: #FFFFFF;\n",
       "    }\n",
       "  </style>\n",
       "\n",
       "      <script>\n",
       "        const buttonEl =\n",
       "          document.querySelector('#df-d09215b1-cc40-4508-a3b6-c135e912fe68 button.colab-df-convert');\n",
       "        buttonEl.style.display =\n",
       "          google.colab.kernel.accessAllowed ? 'block' : 'none';\n",
       "\n",
       "        async function convertToInteractive(key) {\n",
       "          const element = document.querySelector('#df-d09215b1-cc40-4508-a3b6-c135e912fe68');\n",
       "          const dataTable =\n",
       "            await google.colab.kernel.invokeFunction('convertToInteractive',\n",
       "                                                     [key], {});\n",
       "          if (!dataTable) return;\n",
       "\n",
       "          const docLinkHtml = 'Like what you see? Visit the ' +\n",
       "            '<a target=\"_blank\" href=https://colab.research.google.com/notebooks/data_table.ipynb>data table notebook</a>'\n",
       "            + ' to learn more about interactive tables.';\n",
       "          element.innerHTML = '';\n",
       "          dataTable['output_type'] = 'display_data';\n",
       "          await google.colab.output.renderOutput(dataTable, element);\n",
       "          const docLink = document.createElement('div');\n",
       "          docLink.innerHTML = docLinkHtml;\n",
       "          element.appendChild(docLink);\n",
       "        }\n",
       "      </script>\n",
       "    </div>\n",
       "  </div>\n",
       "  "
      ],
      "text/plain": [
       "        D_node-1  P_Node-1  F_Link-1  Leak_Node-1  D_node-2  P_Node-2  \\\n",
       "38066   0.842342       0.0  0.157658          0.0  0.195652  0.967327   \n",
       "38067   0.876502       0.0  0.123498          0.0  0.173913  0.975362   \n",
       "38068   0.901276       0.0  0.098724          0.0  0.144928  0.980718   \n",
       "38069   0.906907       0.0  0.093093          0.0  0.130435  0.981789   \n",
       "38070   0.905030       0.0  0.094970          0.0  0.137681  0.981253   \n",
       "...          ...       ...       ...          ...       ...       ...   \n",
       "172786  0.397147       0.0  0.602853          0.0  0.297101  0.828066   \n",
       "172787  0.390390       0.0  0.609610          0.0  0.318841  0.824853   \n",
       "172788  0.378003       0.0  0.621997          0.0  0.311594  0.819497   \n",
       "172789  0.371622       0.0  0.628378          0.0  0.376812  0.816818   \n",
       "172790  0.363363       0.0  0.636637          0.0  0.362319  0.813069   \n",
       "\n",
       "        F_Link-2  Leak_Node-2  D_node-3  P_Node-3  ...  P_Node-31  F_Link-31  \\\n",
       "38066   0.153065          0.0  0.158730  0.955114  ...   0.923455   0.836478   \n",
       "38067   0.118704          0.0  0.119048  0.965625  ...   0.940116   0.855346   \n",
       "38068   0.094494          0.0  0.063492  0.972443  ...   0.951233   0.836478   \n",
       "38069   0.089418          0.0  0.063492  0.973769  ...   0.953486   0.836478   \n",
       "38070   0.090980          0.0  0.071429  0.973390  ...   0.953546   0.836478   \n",
       "...          ...          ...       ...       ...  ...        ...        ...   \n",
       "172786  0.610308          0.0  0.333333  0.822301  ...   0.748192   0.949686   \n",
       "172787  0.616556          0.0  0.396825  0.819650  ...   0.742529   0.955975   \n",
       "172788  0.629442          0.0  0.388889  0.813778  ...   0.727885   0.955975   \n",
       "172789  0.633346          0.0  0.357143  0.811979  ...   0.725454   0.955975   \n",
       "172790  0.641937          0.0  0.365079  0.808002  ...   0.720651   0.955975   \n",
       "\n",
       "        Leak_Node-31  D_node-32  P_Node-32  F_Link-32  Leak_Node-32  \\\n",
       "38066            0.0   0.141667   0.920327   0.901235           0.0   \n",
       "38067            0.0   0.133333   0.937375   0.919753           0.0   \n",
       "38068            0.0   0.075000   0.949168   0.919753           0.0   \n",
       "38069            0.0   0.075000   0.951545   0.913580           0.0   \n",
       "38070            0.0   0.075000   0.951514   0.919753           0.0   \n",
       "...              ...        ...        ...        ...           ...   \n",
       "172786           0.0   0.350000   0.734234   0.962963           0.0   \n",
       "172787           0.0   0.325000   0.728322   0.956790           0.0   \n",
       "172788           0.0   0.400000   0.712932   0.950617           0.0   \n",
       "172789           0.0   0.433333   0.710273   0.962963           0.0   \n",
       "172790           0.0   0.400000   0.705393   0.950617           0.0   \n",
       "\n",
       "        F_Link-33  F_Link-34  Leak  \n",
       "38066    0.109195   0.109848   1.0  \n",
       "38067    0.086207   0.087121   1.0  \n",
       "38068    0.086207   0.064394   1.0  \n",
       "38069    0.086207   0.068182   1.0  \n",
       "38070    0.086207   0.064394   1.0  \n",
       "...           ...        ...   ...  \n",
       "172786   0.057471   0.166667   1.0  \n",
       "172787   0.063218   0.162879   1.0  \n",
       "172788   0.068966   0.196970   1.0  \n",
       "172789   0.063218   0.212121   1.0  \n",
       "172790   0.074713   0.204545   1.0  \n",
       "\n",
       "[19734 rows x 131 columns]"
      ]
     },
     "execution_count": 10,
     "metadata": {},
     "output_type": "execute_result"
    }
   ],
   "source": [
    "df = df1[df1['Leak'] == 1]\n",
    "df"
   ]
  },
  {
   "cell_type": "code",
   "execution_count": null,
   "metadata": {
    "colab": {
     "base_uri": "https://localhost:8080/"
    },
    "id": "X1-tY-SoYiAc",
    "outputId": "173f3d8d-f7ad-4990-ab85-e81e907f8943"
   },
   "outputs": [
    {
     "data": {
      "text/plain": [
       "Leak_Node-1     0.0\n",
       "Leak_Node-2     0.0\n",
       "Leak_Node-3     0.0\n",
       "Leak_Node-4     0.0\n",
       "Leak_Node-5     0.0\n",
       "Leak_Node-6     0.0\n",
       "Leak_Node-7     0.0\n",
       "Leak_Node-8     0.0\n",
       "Leak_Node-9     0.0\n",
       "Leak_Node-10    0.0\n",
       "Leak_Node-11    0.0\n",
       "Leak_Node-12    0.0\n",
       "Leak_Node-13    0.0\n",
       "Leak_Node-14    0.0\n",
       "Leak_Node-15    0.0\n",
       "Leak_Node-16    0.0\n",
       "Leak_Node-17    0.0\n",
       "Leak_Node-18    0.0\n",
       "Leak_Node-19    0.0\n",
       "Leak_Node-20    0.0\n",
       "Leak_Node-21    0.0\n",
       "Leak_Node-22    0.0\n",
       "Leak_Node-23    0.0\n",
       "Leak_Node-24    0.0\n",
       "Leak_Node-25    0.0\n",
       "Leak_Node-26    1.0\n",
       "Leak_Node-27    0.0\n",
       "Leak_Node-28    0.0\n",
       "Leak_Node-29    0.0\n",
       "Leak_Node-30    0.0\n",
       "Leak_Node-31    0.0\n",
       "Leak_Node-32    0.0\n",
       "Name: 38066, dtype: float64"
      ]
     },
     "execution_count": 11,
     "metadata": {},
     "output_type": "execute_result"
    }
   ],
   "source": [
    "df.loc[38066,lcols]"
   ]
  },
  {
   "cell_type": "markdown",
   "metadata": {
    "id": "uyBFA5hsZ8mn"
   },
   "source": [
    "converting the lcols to binary"
   ]
  },
  {
   "cell_type": "code",
   "execution_count": null,
   "metadata": {
    "colab": {
     "base_uri": "https://localhost:8080/"
    },
    "id": "DpJd2pRrWn7y",
    "outputId": "5e753e3e-aa92-48b6-f056-973c23bf40f8"
   },
   "outputs": [
    {
     "name": "stderr",
     "output_type": "stream",
     "text": [
      "<ipython-input-12-efaa4b05d404>:2: SettingWithCopyWarning: \n",
      "A value is trying to be set on a copy of a slice from a DataFrame\n",
      "\n",
      "See the caveats in the documentation: https://pandas.pydata.org/pandas-docs/stable/user_guide/indexing.html#returning-a-view-versus-a-copy\n",
      "  df.loc[df[col]!=0,col]=1\n"
     ]
    }
   ],
   "source": [
    "for col in (lcols):\n",
    "    df.loc[df[col]!=0,col]=1"
   ]
  },
  {
   "cell_type": "code",
   "execution_count": null,
   "metadata": {
    "colab": {
     "base_uri": "https://localhost:8080/"
    },
    "id": "JeZHAxA8X2_e",
    "outputId": "96dbc57f-156b-41e5-d956-0721d878b336"
   },
   "outputs": [
    {
     "name": "stdout",
     "output_type": "stream",
     "text": [
      "0.0    19734\n",
      "Name: Leak_Node-1, dtype: int64\n",
      "0.0    19734\n",
      "Name: Leak_Node-2, dtype: int64\n",
      "0.0    19734\n",
      "Name: Leak_Node-3, dtype: int64\n",
      "0.0    19734\n",
      "Name: Leak_Node-4, dtype: int64\n",
      "0.0    19734\n",
      "Name: Leak_Node-5, dtype: int64\n",
      "0.0    19734\n",
      "Name: Leak_Node-6, dtype: int64\n",
      "0.0    19734\n",
      "Name: Leak_Node-7, dtype: int64\n",
      "0.0    19734\n",
      "Name: Leak_Node-8, dtype: int64\n",
      "0.0    19734\n",
      "Name: Leak_Node-9, dtype: int64\n",
      "0.0    19734\n",
      "Name: Leak_Node-10, dtype: int64\n",
      "0.0    19734\n",
      "Name: Leak_Node-11, dtype: int64\n",
      "0.0    19466\n",
      "1.0      268\n",
      "Name: Leak_Node-12, dtype: int64\n",
      "0.0    19734\n",
      "Name: Leak_Node-13, dtype: int64\n",
      "0.0    19418\n",
      "1.0      316\n",
      "Name: Leak_Node-14, dtype: int64\n",
      "0.0    19734\n",
      "Name: Leak_Node-15, dtype: int64\n",
      "0.0    19734\n",
      "Name: Leak_Node-16, dtype: int64\n",
      "0.0    18329\n",
      "1.0     1405\n",
      "Name: Leak_Node-17, dtype: int64\n",
      "0.0    18942\n",
      "1.0      792\n",
      "Name: Leak_Node-18, dtype: int64\n",
      "0.0    18013\n",
      "1.0     1721\n",
      "Name: Leak_Node-19, dtype: int64\n",
      "0.0    19734\n",
      "Name: Leak_Node-20, dtype: int64\n",
      "0.0    13309\n",
      "1.0     6425\n",
      "Name: Leak_Node-21, dtype: int64\n",
      "0.0    19734\n",
      "Name: Leak_Node-22, dtype: int64\n",
      "0.0    19734\n",
      "Name: Leak_Node-23, dtype: int64\n",
      "0.0    19734\n",
      "Name: Leak_Node-24, dtype: int64\n",
      "0.0    19734\n",
      "Name: Leak_Node-25, dtype: int64\n",
      "0.0    17667\n",
      "1.0     2067\n",
      "Name: Leak_Node-26, dtype: int64\n",
      "0.0    19734\n",
      "Name: Leak_Node-27, dtype: int64\n",
      "0.0    12298\n",
      "1.0     7436\n",
      "Name: Leak_Node-28, dtype: int64\n",
      "0.0    19734\n",
      "Name: Leak_Node-29, dtype: int64\n",
      "0.0    19734\n",
      "Name: Leak_Node-30, dtype: int64\n",
      "0.0    19734\n",
      "Name: Leak_Node-31, dtype: int64\n",
      "0.0    19734\n",
      "Name: Leak_Node-32, dtype: int64\n"
     ]
    }
   ],
   "source": [
    "for col in (lcols):\n",
    "    print(df[col].value_counts())"
   ]
  },
  {
   "cell_type": "code",
   "execution_count": null,
   "metadata": {
    "id": "_SYHL8vLS3Eh"
   },
   "outputs": [],
   "source": [
    "# for col in lcols:\n",
    "#     for i in range (len(df.index)):\n",
    "#         if df[col][i] != 0:\n",
    "#             df[col][i] = 1"
   ]
  },
  {
   "cell_type": "code",
   "execution_count": null,
   "metadata": {
    "colab": {
     "base_uri": "https://localhost:8080/",
     "height": 505
    },
    "id": "c4W71mUAUNq2",
    "outputId": "0d678953-4e4a-4c5d-8c00-912dc88a031f"
   },
   "outputs": [
    {
     "data": {
      "text/html": [
       "\n",
       "  <div id=\"df-8c21351f-9e6b-4672-8306-612db9110c2a\">\n",
       "    <div class=\"colab-df-container\">\n",
       "      <div>\n",
       "<style scoped>\n",
       "    .dataframe tbody tr th:only-of-type {\n",
       "        vertical-align: middle;\n",
       "    }\n",
       "\n",
       "    .dataframe tbody tr th {\n",
       "        vertical-align: top;\n",
       "    }\n",
       "\n",
       "    .dataframe thead th {\n",
       "        text-align: right;\n",
       "    }\n",
       "</style>\n",
       "<table border=\"1\" class=\"dataframe\">\n",
       "  <thead>\n",
       "    <tr style=\"text-align: right;\">\n",
       "      <th></th>\n",
       "      <th>D_node-1</th>\n",
       "      <th>P_Node-1</th>\n",
       "      <th>F_Link-1</th>\n",
       "      <th>Leak_Node-1</th>\n",
       "      <th>D_node-2</th>\n",
       "      <th>P_Node-2</th>\n",
       "      <th>F_Link-2</th>\n",
       "      <th>Leak_Node-2</th>\n",
       "      <th>D_node-3</th>\n",
       "      <th>P_Node-3</th>\n",
       "      <th>...</th>\n",
       "      <th>P_Node-31</th>\n",
       "      <th>F_Link-31</th>\n",
       "      <th>Leak_Node-31</th>\n",
       "      <th>D_node-32</th>\n",
       "      <th>P_Node-32</th>\n",
       "      <th>F_Link-32</th>\n",
       "      <th>Leak_Node-32</th>\n",
       "      <th>F_Link-33</th>\n",
       "      <th>F_Link-34</th>\n",
       "      <th>Leak</th>\n",
       "    </tr>\n",
       "  </thead>\n",
       "  <tbody>\n",
       "    <tr>\n",
       "      <th>38066</th>\n",
       "      <td>0.842342</td>\n",
       "      <td>0.0</td>\n",
       "      <td>0.157658</td>\n",
       "      <td>0.0</td>\n",
       "      <td>0.195652</td>\n",
       "      <td>0.967327</td>\n",
       "      <td>0.153065</td>\n",
       "      <td>0.0</td>\n",
       "      <td>0.158730</td>\n",
       "      <td>0.955114</td>\n",
       "      <td>...</td>\n",
       "      <td>0.923455</td>\n",
       "      <td>0.836478</td>\n",
       "      <td>0.0</td>\n",
       "      <td>0.141667</td>\n",
       "      <td>0.920327</td>\n",
       "      <td>0.901235</td>\n",
       "      <td>0.0</td>\n",
       "      <td>0.109195</td>\n",
       "      <td>0.109848</td>\n",
       "      <td>1.0</td>\n",
       "    </tr>\n",
       "    <tr>\n",
       "      <th>38067</th>\n",
       "      <td>0.876502</td>\n",
       "      <td>0.0</td>\n",
       "      <td>0.123498</td>\n",
       "      <td>0.0</td>\n",
       "      <td>0.173913</td>\n",
       "      <td>0.975362</td>\n",
       "      <td>0.118704</td>\n",
       "      <td>0.0</td>\n",
       "      <td>0.119048</td>\n",
       "      <td>0.965625</td>\n",
       "      <td>...</td>\n",
       "      <td>0.940116</td>\n",
       "      <td>0.855346</td>\n",
       "      <td>0.0</td>\n",
       "      <td>0.133333</td>\n",
       "      <td>0.937375</td>\n",
       "      <td>0.919753</td>\n",
       "      <td>0.0</td>\n",
       "      <td>0.086207</td>\n",
       "      <td>0.087121</td>\n",
       "      <td>1.0</td>\n",
       "    </tr>\n",
       "    <tr>\n",
       "      <th>38068</th>\n",
       "      <td>0.901276</td>\n",
       "      <td>0.0</td>\n",
       "      <td>0.098724</td>\n",
       "      <td>0.0</td>\n",
       "      <td>0.144928</td>\n",
       "      <td>0.980718</td>\n",
       "      <td>0.094494</td>\n",
       "      <td>0.0</td>\n",
       "      <td>0.063492</td>\n",
       "      <td>0.972443</td>\n",
       "      <td>...</td>\n",
       "      <td>0.951233</td>\n",
       "      <td>0.836478</td>\n",
       "      <td>0.0</td>\n",
       "      <td>0.075000</td>\n",
       "      <td>0.949168</td>\n",
       "      <td>0.919753</td>\n",
       "      <td>0.0</td>\n",
       "      <td>0.086207</td>\n",
       "      <td>0.064394</td>\n",
       "      <td>1.0</td>\n",
       "    </tr>\n",
       "    <tr>\n",
       "      <th>38069</th>\n",
       "      <td>0.906907</td>\n",
       "      <td>0.0</td>\n",
       "      <td>0.093093</td>\n",
       "      <td>0.0</td>\n",
       "      <td>0.130435</td>\n",
       "      <td>0.981789</td>\n",
       "      <td>0.089418</td>\n",
       "      <td>0.0</td>\n",
       "      <td>0.063492</td>\n",
       "      <td>0.973769</td>\n",
       "      <td>...</td>\n",
       "      <td>0.953486</td>\n",
       "      <td>0.836478</td>\n",
       "      <td>0.0</td>\n",
       "      <td>0.075000</td>\n",
       "      <td>0.951545</td>\n",
       "      <td>0.913580</td>\n",
       "      <td>0.0</td>\n",
       "      <td>0.086207</td>\n",
       "      <td>0.068182</td>\n",
       "      <td>1.0</td>\n",
       "    </tr>\n",
       "    <tr>\n",
       "      <th>38070</th>\n",
       "      <td>0.905030</td>\n",
       "      <td>0.0</td>\n",
       "      <td>0.094970</td>\n",
       "      <td>0.0</td>\n",
       "      <td>0.137681</td>\n",
       "      <td>0.981253</td>\n",
       "      <td>0.090980</td>\n",
       "      <td>0.0</td>\n",
       "      <td>0.071429</td>\n",
       "      <td>0.973390</td>\n",
       "      <td>...</td>\n",
       "      <td>0.953546</td>\n",
       "      <td>0.836478</td>\n",
       "      <td>0.0</td>\n",
       "      <td>0.075000</td>\n",
       "      <td>0.951514</td>\n",
       "      <td>0.919753</td>\n",
       "      <td>0.0</td>\n",
       "      <td>0.086207</td>\n",
       "      <td>0.064394</td>\n",
       "      <td>1.0</td>\n",
       "    </tr>\n",
       "    <tr>\n",
       "      <th>...</th>\n",
       "      <td>...</td>\n",
       "      <td>...</td>\n",
       "      <td>...</td>\n",
       "      <td>...</td>\n",
       "      <td>...</td>\n",
       "      <td>...</td>\n",
       "      <td>...</td>\n",
       "      <td>...</td>\n",
       "      <td>...</td>\n",
       "      <td>...</td>\n",
       "      <td>...</td>\n",
       "      <td>...</td>\n",
       "      <td>...</td>\n",
       "      <td>...</td>\n",
       "      <td>...</td>\n",
       "      <td>...</td>\n",
       "      <td>...</td>\n",
       "      <td>...</td>\n",
       "      <td>...</td>\n",
       "      <td>...</td>\n",
       "      <td>...</td>\n",
       "    </tr>\n",
       "    <tr>\n",
       "      <th>172786</th>\n",
       "      <td>0.397147</td>\n",
       "      <td>0.0</td>\n",
       "      <td>0.602853</td>\n",
       "      <td>0.0</td>\n",
       "      <td>0.297101</td>\n",
       "      <td>0.828066</td>\n",
       "      <td>0.610308</td>\n",
       "      <td>0.0</td>\n",
       "      <td>0.333333</td>\n",
       "      <td>0.822301</td>\n",
       "      <td>...</td>\n",
       "      <td>0.748192</td>\n",
       "      <td>0.949686</td>\n",
       "      <td>0.0</td>\n",
       "      <td>0.350000</td>\n",
       "      <td>0.734234</td>\n",
       "      <td>0.962963</td>\n",
       "      <td>0.0</td>\n",
       "      <td>0.057471</td>\n",
       "      <td>0.166667</td>\n",
       "      <td>1.0</td>\n",
       "    </tr>\n",
       "    <tr>\n",
       "      <th>172787</th>\n",
       "      <td>0.390390</td>\n",
       "      <td>0.0</td>\n",
       "      <td>0.609610</td>\n",
       "      <td>0.0</td>\n",
       "      <td>0.318841</td>\n",
       "      <td>0.824853</td>\n",
       "      <td>0.616556</td>\n",
       "      <td>0.0</td>\n",
       "      <td>0.396825</td>\n",
       "      <td>0.819650</td>\n",
       "      <td>...</td>\n",
       "      <td>0.742529</td>\n",
       "      <td>0.955975</td>\n",
       "      <td>0.0</td>\n",
       "      <td>0.325000</td>\n",
       "      <td>0.728322</td>\n",
       "      <td>0.956790</td>\n",
       "      <td>0.0</td>\n",
       "      <td>0.063218</td>\n",
       "      <td>0.162879</td>\n",
       "      <td>1.0</td>\n",
       "    </tr>\n",
       "    <tr>\n",
       "      <th>172788</th>\n",
       "      <td>0.378003</td>\n",
       "      <td>0.0</td>\n",
       "      <td>0.621997</td>\n",
       "      <td>0.0</td>\n",
       "      <td>0.311594</td>\n",
       "      <td>0.819497</td>\n",
       "      <td>0.629442</td>\n",
       "      <td>0.0</td>\n",
       "      <td>0.388889</td>\n",
       "      <td>0.813778</td>\n",
       "      <td>...</td>\n",
       "      <td>0.727885</td>\n",
       "      <td>0.955975</td>\n",
       "      <td>0.0</td>\n",
       "      <td>0.400000</td>\n",
       "      <td>0.712932</td>\n",
       "      <td>0.950617</td>\n",
       "      <td>0.0</td>\n",
       "      <td>0.068966</td>\n",
       "      <td>0.196970</td>\n",
       "      <td>1.0</td>\n",
       "    </tr>\n",
       "    <tr>\n",
       "      <th>172789</th>\n",
       "      <td>0.371622</td>\n",
       "      <td>0.0</td>\n",
       "      <td>0.628378</td>\n",
       "      <td>0.0</td>\n",
       "      <td>0.376812</td>\n",
       "      <td>0.816818</td>\n",
       "      <td>0.633346</td>\n",
       "      <td>0.0</td>\n",
       "      <td>0.357143</td>\n",
       "      <td>0.811979</td>\n",
       "      <td>...</td>\n",
       "      <td>0.725454</td>\n",
       "      <td>0.955975</td>\n",
       "      <td>0.0</td>\n",
       "      <td>0.433333</td>\n",
       "      <td>0.710273</td>\n",
       "      <td>0.962963</td>\n",
       "      <td>0.0</td>\n",
       "      <td>0.063218</td>\n",
       "      <td>0.212121</td>\n",
       "      <td>1.0</td>\n",
       "    </tr>\n",
       "    <tr>\n",
       "      <th>172790</th>\n",
       "      <td>0.363363</td>\n",
       "      <td>0.0</td>\n",
       "      <td>0.636637</td>\n",
       "      <td>0.0</td>\n",
       "      <td>0.362319</td>\n",
       "      <td>0.813069</td>\n",
       "      <td>0.641937</td>\n",
       "      <td>0.0</td>\n",
       "      <td>0.365079</td>\n",
       "      <td>0.808002</td>\n",
       "      <td>...</td>\n",
       "      <td>0.720651</td>\n",
       "      <td>0.955975</td>\n",
       "      <td>0.0</td>\n",
       "      <td>0.400000</td>\n",
       "      <td>0.705393</td>\n",
       "      <td>0.950617</td>\n",
       "      <td>0.0</td>\n",
       "      <td>0.074713</td>\n",
       "      <td>0.204545</td>\n",
       "      <td>1.0</td>\n",
       "    </tr>\n",
       "  </tbody>\n",
       "</table>\n",
       "<p>19734 rows × 131 columns</p>\n",
       "</div>\n",
       "      <button class=\"colab-df-convert\" onclick=\"convertToInteractive('df-8c21351f-9e6b-4672-8306-612db9110c2a')\"\n",
       "              title=\"Convert this dataframe to an interactive table.\"\n",
       "              style=\"display:none;\">\n",
       "        \n",
       "  <svg xmlns=\"http://www.w3.org/2000/svg\" height=\"24px\"viewBox=\"0 0 24 24\"\n",
       "       width=\"24px\">\n",
       "    <path d=\"M0 0h24v24H0V0z\" fill=\"none\"/>\n",
       "    <path d=\"M18.56 5.44l.94 2.06.94-2.06 2.06-.94-2.06-.94-.94-2.06-.94 2.06-2.06.94zm-11 1L8.5 8.5l.94-2.06 2.06-.94-2.06-.94L8.5 2.5l-.94 2.06-2.06.94zm10 10l.94 2.06.94-2.06 2.06-.94-2.06-.94-.94-2.06-.94 2.06-2.06.94z\"/><path d=\"M17.41 7.96l-1.37-1.37c-.4-.4-.92-.59-1.43-.59-.52 0-1.04.2-1.43.59L10.3 9.45l-7.72 7.72c-.78.78-.78 2.05 0 2.83L4 21.41c.39.39.9.59 1.41.59.51 0 1.02-.2 1.41-.59l7.78-7.78 2.81-2.81c.8-.78.8-2.07 0-2.86zM5.41 20L4 18.59l7.72-7.72 1.47 1.35L5.41 20z\"/>\n",
       "  </svg>\n",
       "      </button>\n",
       "      \n",
       "  <style>\n",
       "    .colab-df-container {\n",
       "      display:flex;\n",
       "      flex-wrap:wrap;\n",
       "      gap: 12px;\n",
       "    }\n",
       "\n",
       "    .colab-df-convert {\n",
       "      background-color: #E8F0FE;\n",
       "      border: none;\n",
       "      border-radius: 50%;\n",
       "      cursor: pointer;\n",
       "      display: none;\n",
       "      fill: #1967D2;\n",
       "      height: 32px;\n",
       "      padding: 0 0 0 0;\n",
       "      width: 32px;\n",
       "    }\n",
       "\n",
       "    .colab-df-convert:hover {\n",
       "      background-color: #E2EBFA;\n",
       "      box-shadow: 0px 1px 2px rgba(60, 64, 67, 0.3), 0px 1px 3px 1px rgba(60, 64, 67, 0.15);\n",
       "      fill: #174EA6;\n",
       "    }\n",
       "\n",
       "    [theme=dark] .colab-df-convert {\n",
       "      background-color: #3B4455;\n",
       "      fill: #D2E3FC;\n",
       "    }\n",
       "\n",
       "    [theme=dark] .colab-df-convert:hover {\n",
       "      background-color: #434B5C;\n",
       "      box-shadow: 0px 1px 3px 1px rgba(0, 0, 0, 0.15);\n",
       "      filter: drop-shadow(0px 1px 2px rgba(0, 0, 0, 0.3));\n",
       "      fill: #FFFFFF;\n",
       "    }\n",
       "  </style>\n",
       "\n",
       "      <script>\n",
       "        const buttonEl =\n",
       "          document.querySelector('#df-8c21351f-9e6b-4672-8306-612db9110c2a button.colab-df-convert');\n",
       "        buttonEl.style.display =\n",
       "          google.colab.kernel.accessAllowed ? 'block' : 'none';\n",
       "\n",
       "        async function convertToInteractive(key) {\n",
       "          const element = document.querySelector('#df-8c21351f-9e6b-4672-8306-612db9110c2a');\n",
       "          const dataTable =\n",
       "            await google.colab.kernel.invokeFunction('convertToInteractive',\n",
       "                                                     [key], {});\n",
       "          if (!dataTable) return;\n",
       "\n",
       "          const docLinkHtml = 'Like what you see? Visit the ' +\n",
       "            '<a target=\"_blank\" href=https://colab.research.google.com/notebooks/data_table.ipynb>data table notebook</a>'\n",
       "            + ' to learn more about interactive tables.';\n",
       "          element.innerHTML = '';\n",
       "          dataTable['output_type'] = 'display_data';\n",
       "          await google.colab.output.renderOutput(dataTable, element);\n",
       "          const docLink = document.createElement('div');\n",
       "          docLink.innerHTML = docLinkHtml;\n",
       "          element.appendChild(docLink);\n",
       "        }\n",
       "      </script>\n",
       "    </div>\n",
       "  </div>\n",
       "  "
      ],
      "text/plain": [
       "        D_node-1  P_Node-1  F_Link-1  Leak_Node-1  D_node-2  P_Node-2  \\\n",
       "38066   0.842342       0.0  0.157658          0.0  0.195652  0.967327   \n",
       "38067   0.876502       0.0  0.123498          0.0  0.173913  0.975362   \n",
       "38068   0.901276       0.0  0.098724          0.0  0.144928  0.980718   \n",
       "38069   0.906907       0.0  0.093093          0.0  0.130435  0.981789   \n",
       "38070   0.905030       0.0  0.094970          0.0  0.137681  0.981253   \n",
       "...          ...       ...       ...          ...       ...       ...   \n",
       "172786  0.397147       0.0  0.602853          0.0  0.297101  0.828066   \n",
       "172787  0.390390       0.0  0.609610          0.0  0.318841  0.824853   \n",
       "172788  0.378003       0.0  0.621997          0.0  0.311594  0.819497   \n",
       "172789  0.371622       0.0  0.628378          0.0  0.376812  0.816818   \n",
       "172790  0.363363       0.0  0.636637          0.0  0.362319  0.813069   \n",
       "\n",
       "        F_Link-2  Leak_Node-2  D_node-3  P_Node-3  ...  P_Node-31  F_Link-31  \\\n",
       "38066   0.153065          0.0  0.158730  0.955114  ...   0.923455   0.836478   \n",
       "38067   0.118704          0.0  0.119048  0.965625  ...   0.940116   0.855346   \n",
       "38068   0.094494          0.0  0.063492  0.972443  ...   0.951233   0.836478   \n",
       "38069   0.089418          0.0  0.063492  0.973769  ...   0.953486   0.836478   \n",
       "38070   0.090980          0.0  0.071429  0.973390  ...   0.953546   0.836478   \n",
       "...          ...          ...       ...       ...  ...        ...        ...   \n",
       "172786  0.610308          0.0  0.333333  0.822301  ...   0.748192   0.949686   \n",
       "172787  0.616556          0.0  0.396825  0.819650  ...   0.742529   0.955975   \n",
       "172788  0.629442          0.0  0.388889  0.813778  ...   0.727885   0.955975   \n",
       "172789  0.633346          0.0  0.357143  0.811979  ...   0.725454   0.955975   \n",
       "172790  0.641937          0.0  0.365079  0.808002  ...   0.720651   0.955975   \n",
       "\n",
       "        Leak_Node-31  D_node-32  P_Node-32  F_Link-32  Leak_Node-32  \\\n",
       "38066            0.0   0.141667   0.920327   0.901235           0.0   \n",
       "38067            0.0   0.133333   0.937375   0.919753           0.0   \n",
       "38068            0.0   0.075000   0.949168   0.919753           0.0   \n",
       "38069            0.0   0.075000   0.951545   0.913580           0.0   \n",
       "38070            0.0   0.075000   0.951514   0.919753           0.0   \n",
       "...              ...        ...        ...        ...           ...   \n",
       "172786           0.0   0.350000   0.734234   0.962963           0.0   \n",
       "172787           0.0   0.325000   0.728322   0.956790           0.0   \n",
       "172788           0.0   0.400000   0.712932   0.950617           0.0   \n",
       "172789           0.0   0.433333   0.710273   0.962963           0.0   \n",
       "172790           0.0   0.400000   0.705393   0.950617           0.0   \n",
       "\n",
       "        F_Link-33  F_Link-34  Leak  \n",
       "38066    0.109195   0.109848   1.0  \n",
       "38067    0.086207   0.087121   1.0  \n",
       "38068    0.086207   0.064394   1.0  \n",
       "38069    0.086207   0.068182   1.0  \n",
       "38070    0.086207   0.064394   1.0  \n",
       "...           ...        ...   ...  \n",
       "172786   0.057471   0.166667   1.0  \n",
       "172787   0.063218   0.162879   1.0  \n",
       "172788   0.068966   0.196970   1.0  \n",
       "172789   0.063218   0.212121   1.0  \n",
       "172790   0.074713   0.204545   1.0  \n",
       "\n",
       "[19734 rows x 131 columns]"
      ]
     },
     "execution_count": 15,
     "metadata": {},
     "output_type": "execute_result"
    }
   ],
   "source": [
    "df"
   ]
  },
  {
   "cell_type": "code",
   "execution_count": null,
   "metadata": {
    "id": "sQTjWP9famya"
   },
   "outputs": [],
   "source": [
    "X = df.copy()\n",
    "X.drop(lcols, axis=1,inplace=True)\n",
    "X.drop(dcols, axis=1,inplace=True)\n",
    "X.drop('Leak', axis=1,inplace=True)"
   ]
  },
  {
   "cell_type": "code",
   "execution_count": null,
   "metadata": {
    "colab": {
     "base_uri": "https://localhost:8080/"
    },
    "id": "rp5BgE4hau43",
    "outputId": "60961476-864b-4cee-8619-94c33d5ca80d"
   },
   "outputs": [
    {
     "data": {
      "text/plain": [
       "Index(['P_Node-1', 'F_Link-1', 'P_Node-2', 'F_Link-2', 'P_Node-3', 'F_Link-3',\n",
       "       'P_Node-4', 'F_Link-4', 'P_Node-5', 'F_Link-5', 'P_Node-6', 'F_Link-6',\n",
       "       'P_Node-7', 'F_Link-7', 'P_Node-8', 'F_Link-8', 'P_Node-9', 'F_Link-9',\n",
       "       'P_Node-10', 'F_Link-10', 'P_Node-11', 'F_Link-11', 'P_Node-12',\n",
       "       'F_Link-12', 'P_Node-13', 'F_Link-13', 'P_Node-14', 'F_Link-14',\n",
       "       'P_Node-15', 'F_Link-15', 'P_Node-16', 'F_Link-16', 'P_Node-17',\n",
       "       'F_Link-17', 'P_Node-18', 'F_Link-18', 'P_Node-19', 'F_Link-19',\n",
       "       'P_Node-20', 'F_Link-20', 'P_Node-21', 'F_Link-21', 'P_Node-22',\n",
       "       'F_Link-22', 'P_Node-23', 'F_Link-23', 'P_Node-24', 'F_Link-24',\n",
       "       'P_Node-25', 'F_Link-25', 'P_Node-26', 'F_Link-26', 'P_Node-27',\n",
       "       'F_Link-27', 'P_Node-28', 'F_Link-28', 'P_Node-29', 'F_Link-29',\n",
       "       'P_Node-30', 'F_Link-30', 'P_Node-31', 'F_Link-31', 'P_Node-32',\n",
       "       'F_Link-32', 'F_Link-33', 'F_Link-34'],\n",
       "      dtype='object')"
      ]
     },
     "execution_count": 17,
     "metadata": {},
     "output_type": "execute_result"
    }
   ],
   "source": [
    "X.columns"
   ]
  },
  {
   "cell_type": "code",
   "execution_count": null,
   "metadata": {
    "id": "1IOlfUCuay2a"
   },
   "outputs": [],
   "source": [
    "y = df.copy()\n",
    "y.drop(fcols, axis=1,inplace=True)\n",
    "y.drop(dcols, axis=1,inplace=True)\n",
    "y.drop(pcols, axis=1,inplace=True)\n",
    "y.drop('Leak', axis=1,inplace=True)"
   ]
  },
  {
   "cell_type": "code",
   "execution_count": null,
   "metadata": {
    "colab": {
     "base_uri": "https://localhost:8080/"
    },
    "id": "jR5MZzIVbEUj",
    "outputId": "73d72cfc-1b55-4301-8cf4-14415b3718cc"
   },
   "outputs": [
    {
     "data": {
      "text/plain": [
       "Index(['Leak_Node-1', 'Leak_Node-2', 'Leak_Node-3', 'Leak_Node-4',\n",
       "       'Leak_Node-5', 'Leak_Node-6', 'Leak_Node-7', 'Leak_Node-8',\n",
       "       'Leak_Node-9', 'Leak_Node-10', 'Leak_Node-11', 'Leak_Node-12',\n",
       "       'Leak_Node-13', 'Leak_Node-14', 'Leak_Node-15', 'Leak_Node-16',\n",
       "       'Leak_Node-17', 'Leak_Node-18', 'Leak_Node-19', 'Leak_Node-20',\n",
       "       'Leak_Node-21', 'Leak_Node-22', 'Leak_Node-23', 'Leak_Node-24',\n",
       "       'Leak_Node-25', 'Leak_Node-26', 'Leak_Node-27', 'Leak_Node-28',\n",
       "       'Leak_Node-29', 'Leak_Node-30', 'Leak_Node-31', 'Leak_Node-32'],\n",
       "      dtype='object')"
      ]
     },
     "execution_count": 19,
     "metadata": {},
     "output_type": "execute_result"
    }
   ],
   "source": [
    "y.columns"
   ]
  },
  {
   "cell_type": "code",
   "execution_count": null,
   "metadata": {
    "id": "dLS6iEdhbGOi"
   },
   "outputs": [],
   "source": [
    "#splitting testing and training data\n",
    "\n",
    "from sklearn.model_selection import train_test_split\n",
    "X_train, X_test, y_train, y_test = train_test_split(X, y, test_size=0.33)"
   ]
  },
  {
   "cell_type": "markdown",
   "metadata": {
    "id": "1fGm7YGrbT4R"
   },
   "source": [
    "Random Forest"
   ]
  },
  {
   "cell_type": "code",
   "execution_count": null,
   "metadata": {
    "id": "kNoobI5UbP7n"
   },
   "outputs": [],
   "source": [
    "from sklearn.ensemble import RandomForestClassifier\n",
    "clf = RandomForestClassifier()\n",
    "clf = clf.fit(X_train, y_train)"
   ]
  },
  {
   "cell_type": "code",
   "execution_count": null,
   "metadata": {
    "colab": {
     "base_uri": "https://localhost:8080/",
     "height": 505
    },
    "id": "2VN3LIRzbwuN",
    "outputId": "413b58ee-adb8-40b1-9719-3ad72420ff3d"
   },
   "outputs": [
    {
     "data": {
      "text/html": [
       "\n",
       "  <div id=\"df-5f547e2e-62d6-470d-9291-491d8ba39561\">\n",
       "    <div class=\"colab-df-container\">\n",
       "      <div>\n",
       "<style scoped>\n",
       "    .dataframe tbody tr th:only-of-type {\n",
       "        vertical-align: middle;\n",
       "    }\n",
       "\n",
       "    .dataframe tbody tr th {\n",
       "        vertical-align: top;\n",
       "    }\n",
       "\n",
       "    .dataframe thead th {\n",
       "        text-align: right;\n",
       "    }\n",
       "</style>\n",
       "<table border=\"1\" class=\"dataframe\">\n",
       "  <thead>\n",
       "    <tr style=\"text-align: right;\">\n",
       "      <th></th>\n",
       "      <th>Leak_Node-1</th>\n",
       "      <th>Leak_Node-2</th>\n",
       "      <th>Leak_Node-3</th>\n",
       "      <th>Leak_Node-4</th>\n",
       "      <th>Leak_Node-5</th>\n",
       "      <th>Leak_Node-6</th>\n",
       "      <th>Leak_Node-7</th>\n",
       "      <th>Leak_Node-8</th>\n",
       "      <th>Leak_Node-9</th>\n",
       "      <th>Leak_Node-10</th>\n",
       "      <th>...</th>\n",
       "      <th>Leak_Node-23</th>\n",
       "      <th>Leak_Node-24</th>\n",
       "      <th>Leak_Node-25</th>\n",
       "      <th>Leak_Node-26</th>\n",
       "      <th>Leak_Node-27</th>\n",
       "      <th>Leak_Node-28</th>\n",
       "      <th>Leak_Node-29</th>\n",
       "      <th>Leak_Node-30</th>\n",
       "      <th>Leak_Node-31</th>\n",
       "      <th>Leak_Node-32</th>\n",
       "    </tr>\n",
       "  </thead>\n",
       "  <tbody>\n",
       "    <tr>\n",
       "      <th>134447</th>\n",
       "      <td>0.0</td>\n",
       "      <td>0.0</td>\n",
       "      <td>0.0</td>\n",
       "      <td>0.0</td>\n",
       "      <td>0.0</td>\n",
       "      <td>0.0</td>\n",
       "      <td>0.0</td>\n",
       "      <td>0.0</td>\n",
       "      <td>0.0</td>\n",
       "      <td>0.0</td>\n",
       "      <td>...</td>\n",
       "      <td>0.0</td>\n",
       "      <td>0.0</td>\n",
       "      <td>0.0</td>\n",
       "      <td>0.0</td>\n",
       "      <td>0.0</td>\n",
       "      <td>0.0</td>\n",
       "      <td>0.0</td>\n",
       "      <td>0.0</td>\n",
       "      <td>0.0</td>\n",
       "      <td>0.0</td>\n",
       "    </tr>\n",
       "    <tr>\n",
       "      <th>122436</th>\n",
       "      <td>0.0</td>\n",
       "      <td>0.0</td>\n",
       "      <td>0.0</td>\n",
       "      <td>0.0</td>\n",
       "      <td>0.0</td>\n",
       "      <td>0.0</td>\n",
       "      <td>0.0</td>\n",
       "      <td>0.0</td>\n",
       "      <td>0.0</td>\n",
       "      <td>0.0</td>\n",
       "      <td>...</td>\n",
       "      <td>0.0</td>\n",
       "      <td>0.0</td>\n",
       "      <td>0.0</td>\n",
       "      <td>0.0</td>\n",
       "      <td>0.0</td>\n",
       "      <td>0.0</td>\n",
       "      <td>0.0</td>\n",
       "      <td>0.0</td>\n",
       "      <td>0.0</td>\n",
       "      <td>0.0</td>\n",
       "    </tr>\n",
       "    <tr>\n",
       "      <th>77064</th>\n",
       "      <td>0.0</td>\n",
       "      <td>0.0</td>\n",
       "      <td>0.0</td>\n",
       "      <td>0.0</td>\n",
       "      <td>0.0</td>\n",
       "      <td>0.0</td>\n",
       "      <td>0.0</td>\n",
       "      <td>0.0</td>\n",
       "      <td>0.0</td>\n",
       "      <td>0.0</td>\n",
       "      <td>...</td>\n",
       "      <td>0.0</td>\n",
       "      <td>0.0</td>\n",
       "      <td>0.0</td>\n",
       "      <td>0.0</td>\n",
       "      <td>0.0</td>\n",
       "      <td>0.0</td>\n",
       "      <td>0.0</td>\n",
       "      <td>0.0</td>\n",
       "      <td>0.0</td>\n",
       "      <td>0.0</td>\n",
       "    </tr>\n",
       "    <tr>\n",
       "      <th>171749</th>\n",
       "      <td>0.0</td>\n",
       "      <td>0.0</td>\n",
       "      <td>0.0</td>\n",
       "      <td>0.0</td>\n",
       "      <td>0.0</td>\n",
       "      <td>0.0</td>\n",
       "      <td>0.0</td>\n",
       "      <td>0.0</td>\n",
       "      <td>0.0</td>\n",
       "      <td>0.0</td>\n",
       "      <td>...</td>\n",
       "      <td>0.0</td>\n",
       "      <td>0.0</td>\n",
       "      <td>0.0</td>\n",
       "      <td>0.0</td>\n",
       "      <td>0.0</td>\n",
       "      <td>1.0</td>\n",
       "      <td>0.0</td>\n",
       "      <td>0.0</td>\n",
       "      <td>0.0</td>\n",
       "      <td>0.0</td>\n",
       "    </tr>\n",
       "    <tr>\n",
       "      <th>40343</th>\n",
       "      <td>0.0</td>\n",
       "      <td>0.0</td>\n",
       "      <td>0.0</td>\n",
       "      <td>0.0</td>\n",
       "      <td>0.0</td>\n",
       "      <td>0.0</td>\n",
       "      <td>0.0</td>\n",
       "      <td>0.0</td>\n",
       "      <td>0.0</td>\n",
       "      <td>0.0</td>\n",
       "      <td>...</td>\n",
       "      <td>0.0</td>\n",
       "      <td>0.0</td>\n",
       "      <td>0.0</td>\n",
       "      <td>1.0</td>\n",
       "      <td>0.0</td>\n",
       "      <td>0.0</td>\n",
       "      <td>0.0</td>\n",
       "      <td>0.0</td>\n",
       "      <td>0.0</td>\n",
       "      <td>0.0</td>\n",
       "    </tr>\n",
       "    <tr>\n",
       "      <th>...</th>\n",
       "      <td>...</td>\n",
       "      <td>...</td>\n",
       "      <td>...</td>\n",
       "      <td>...</td>\n",
       "      <td>...</td>\n",
       "      <td>...</td>\n",
       "      <td>...</td>\n",
       "      <td>...</td>\n",
       "      <td>...</td>\n",
       "      <td>...</td>\n",
       "      <td>...</td>\n",
       "      <td>...</td>\n",
       "      <td>...</td>\n",
       "      <td>...</td>\n",
       "      <td>...</td>\n",
       "      <td>...</td>\n",
       "      <td>...</td>\n",
       "      <td>...</td>\n",
       "      <td>...</td>\n",
       "      <td>...</td>\n",
       "      <td>...</td>\n",
       "    </tr>\n",
       "    <tr>\n",
       "      <th>136160</th>\n",
       "      <td>0.0</td>\n",
       "      <td>0.0</td>\n",
       "      <td>0.0</td>\n",
       "      <td>0.0</td>\n",
       "      <td>0.0</td>\n",
       "      <td>0.0</td>\n",
       "      <td>0.0</td>\n",
       "      <td>0.0</td>\n",
       "      <td>0.0</td>\n",
       "      <td>0.0</td>\n",
       "      <td>...</td>\n",
       "      <td>0.0</td>\n",
       "      <td>0.0</td>\n",
       "      <td>0.0</td>\n",
       "      <td>0.0</td>\n",
       "      <td>0.0</td>\n",
       "      <td>0.0</td>\n",
       "      <td>0.0</td>\n",
       "      <td>0.0</td>\n",
       "      <td>0.0</td>\n",
       "      <td>0.0</td>\n",
       "    </tr>\n",
       "    <tr>\n",
       "      <th>40838</th>\n",
       "      <td>0.0</td>\n",
       "      <td>0.0</td>\n",
       "      <td>0.0</td>\n",
       "      <td>0.0</td>\n",
       "      <td>0.0</td>\n",
       "      <td>0.0</td>\n",
       "      <td>0.0</td>\n",
       "      <td>0.0</td>\n",
       "      <td>0.0</td>\n",
       "      <td>0.0</td>\n",
       "      <td>...</td>\n",
       "      <td>0.0</td>\n",
       "      <td>0.0</td>\n",
       "      <td>0.0</td>\n",
       "      <td>1.0</td>\n",
       "      <td>0.0</td>\n",
       "      <td>0.0</td>\n",
       "      <td>0.0</td>\n",
       "      <td>0.0</td>\n",
       "      <td>0.0</td>\n",
       "      <td>0.0</td>\n",
       "    </tr>\n",
       "    <tr>\n",
       "      <th>167490</th>\n",
       "      <td>0.0</td>\n",
       "      <td>0.0</td>\n",
       "      <td>0.0</td>\n",
       "      <td>0.0</td>\n",
       "      <td>0.0</td>\n",
       "      <td>0.0</td>\n",
       "      <td>0.0</td>\n",
       "      <td>0.0</td>\n",
       "      <td>0.0</td>\n",
       "      <td>0.0</td>\n",
       "      <td>...</td>\n",
       "      <td>0.0</td>\n",
       "      <td>0.0</td>\n",
       "      <td>0.0</td>\n",
       "      <td>0.0</td>\n",
       "      <td>0.0</td>\n",
       "      <td>1.0</td>\n",
       "      <td>0.0</td>\n",
       "      <td>0.0</td>\n",
       "      <td>0.0</td>\n",
       "      <td>0.0</td>\n",
       "    </tr>\n",
       "    <tr>\n",
       "      <th>171771</th>\n",
       "      <td>0.0</td>\n",
       "      <td>0.0</td>\n",
       "      <td>0.0</td>\n",
       "      <td>0.0</td>\n",
       "      <td>0.0</td>\n",
       "      <td>0.0</td>\n",
       "      <td>0.0</td>\n",
       "      <td>0.0</td>\n",
       "      <td>0.0</td>\n",
       "      <td>0.0</td>\n",
       "      <td>...</td>\n",
       "      <td>0.0</td>\n",
       "      <td>0.0</td>\n",
       "      <td>0.0</td>\n",
       "      <td>0.0</td>\n",
       "      <td>0.0</td>\n",
       "      <td>1.0</td>\n",
       "      <td>0.0</td>\n",
       "      <td>0.0</td>\n",
       "      <td>0.0</td>\n",
       "      <td>0.0</td>\n",
       "    </tr>\n",
       "    <tr>\n",
       "      <th>49051</th>\n",
       "      <td>0.0</td>\n",
       "      <td>0.0</td>\n",
       "      <td>0.0</td>\n",
       "      <td>0.0</td>\n",
       "      <td>0.0</td>\n",
       "      <td>0.0</td>\n",
       "      <td>0.0</td>\n",
       "      <td>0.0</td>\n",
       "      <td>0.0</td>\n",
       "      <td>0.0</td>\n",
       "      <td>...</td>\n",
       "      <td>0.0</td>\n",
       "      <td>0.0</td>\n",
       "      <td>0.0</td>\n",
       "      <td>0.0</td>\n",
       "      <td>0.0</td>\n",
       "      <td>0.0</td>\n",
       "      <td>0.0</td>\n",
       "      <td>0.0</td>\n",
       "      <td>0.0</td>\n",
       "      <td>0.0</td>\n",
       "    </tr>\n",
       "  </tbody>\n",
       "</table>\n",
       "<p>13221 rows × 32 columns</p>\n",
       "</div>\n",
       "      <button class=\"colab-df-convert\" onclick=\"convertToInteractive('df-5f547e2e-62d6-470d-9291-491d8ba39561')\"\n",
       "              title=\"Convert this dataframe to an interactive table.\"\n",
       "              style=\"display:none;\">\n",
       "        \n",
       "  <svg xmlns=\"http://www.w3.org/2000/svg\" height=\"24px\"viewBox=\"0 0 24 24\"\n",
       "       width=\"24px\">\n",
       "    <path d=\"M0 0h24v24H0V0z\" fill=\"none\"/>\n",
       "    <path d=\"M18.56 5.44l.94 2.06.94-2.06 2.06-.94-2.06-.94-.94-2.06-.94 2.06-2.06.94zm-11 1L8.5 8.5l.94-2.06 2.06-.94-2.06-.94L8.5 2.5l-.94 2.06-2.06.94zm10 10l.94 2.06.94-2.06 2.06-.94-2.06-.94-.94-2.06-.94 2.06-2.06.94z\"/><path d=\"M17.41 7.96l-1.37-1.37c-.4-.4-.92-.59-1.43-.59-.52 0-1.04.2-1.43.59L10.3 9.45l-7.72 7.72c-.78.78-.78 2.05 0 2.83L4 21.41c.39.39.9.59 1.41.59.51 0 1.02-.2 1.41-.59l7.78-7.78 2.81-2.81c.8-.78.8-2.07 0-2.86zM5.41 20L4 18.59l7.72-7.72 1.47 1.35L5.41 20z\"/>\n",
       "  </svg>\n",
       "      </button>\n",
       "      \n",
       "  <style>\n",
       "    .colab-df-container {\n",
       "      display:flex;\n",
       "      flex-wrap:wrap;\n",
       "      gap: 12px;\n",
       "    }\n",
       "\n",
       "    .colab-df-convert {\n",
       "      background-color: #E8F0FE;\n",
       "      border: none;\n",
       "      border-radius: 50%;\n",
       "      cursor: pointer;\n",
       "      display: none;\n",
       "      fill: #1967D2;\n",
       "      height: 32px;\n",
       "      padding: 0 0 0 0;\n",
       "      width: 32px;\n",
       "    }\n",
       "\n",
       "    .colab-df-convert:hover {\n",
       "      background-color: #E2EBFA;\n",
       "      box-shadow: 0px 1px 2px rgba(60, 64, 67, 0.3), 0px 1px 3px 1px rgba(60, 64, 67, 0.15);\n",
       "      fill: #174EA6;\n",
       "    }\n",
       "\n",
       "    [theme=dark] .colab-df-convert {\n",
       "      background-color: #3B4455;\n",
       "      fill: #D2E3FC;\n",
       "    }\n",
       "\n",
       "    [theme=dark] .colab-df-convert:hover {\n",
       "      background-color: #434B5C;\n",
       "      box-shadow: 0px 1px 3px 1px rgba(0, 0, 0, 0.15);\n",
       "      filter: drop-shadow(0px 1px 2px rgba(0, 0, 0, 0.3));\n",
       "      fill: #FFFFFF;\n",
       "    }\n",
       "  </style>\n",
       "\n",
       "      <script>\n",
       "        const buttonEl =\n",
       "          document.querySelector('#df-5f547e2e-62d6-470d-9291-491d8ba39561 button.colab-df-convert');\n",
       "        buttonEl.style.display =\n",
       "          google.colab.kernel.accessAllowed ? 'block' : 'none';\n",
       "\n",
       "        async function convertToInteractive(key) {\n",
       "          const element = document.querySelector('#df-5f547e2e-62d6-470d-9291-491d8ba39561');\n",
       "          const dataTable =\n",
       "            await google.colab.kernel.invokeFunction('convertToInteractive',\n",
       "                                                     [key], {});\n",
       "          if (!dataTable) return;\n",
       "\n",
       "          const docLinkHtml = 'Like what you see? Visit the ' +\n",
       "            '<a target=\"_blank\" href=https://colab.research.google.com/notebooks/data_table.ipynb>data table notebook</a>'\n",
       "            + ' to learn more about interactive tables.';\n",
       "          element.innerHTML = '';\n",
       "          dataTable['output_type'] = 'display_data';\n",
       "          await google.colab.output.renderOutput(dataTable, element);\n",
       "          const docLink = document.createElement('div');\n",
       "          docLink.innerHTML = docLinkHtml;\n",
       "          element.appendChild(docLink);\n",
       "        }\n",
       "      </script>\n",
       "    </div>\n",
       "  </div>\n",
       "  "
      ],
      "text/plain": [
       "        Leak_Node-1  Leak_Node-2  Leak_Node-3  Leak_Node-4  Leak_Node-5  \\\n",
       "134447          0.0          0.0          0.0          0.0          0.0   \n",
       "122436          0.0          0.0          0.0          0.0          0.0   \n",
       "77064           0.0          0.0          0.0          0.0          0.0   \n",
       "171749          0.0          0.0          0.0          0.0          0.0   \n",
       "40343           0.0          0.0          0.0          0.0          0.0   \n",
       "...             ...          ...          ...          ...          ...   \n",
       "136160          0.0          0.0          0.0          0.0          0.0   \n",
       "40838           0.0          0.0          0.0          0.0          0.0   \n",
       "167490          0.0          0.0          0.0          0.0          0.0   \n",
       "171771          0.0          0.0          0.0          0.0          0.0   \n",
       "49051           0.0          0.0          0.0          0.0          0.0   \n",
       "\n",
       "        Leak_Node-6  Leak_Node-7  Leak_Node-8  Leak_Node-9  Leak_Node-10  ...  \\\n",
       "134447          0.0          0.0          0.0          0.0           0.0  ...   \n",
       "122436          0.0          0.0          0.0          0.0           0.0  ...   \n",
       "77064           0.0          0.0          0.0          0.0           0.0  ...   \n",
       "171749          0.0          0.0          0.0          0.0           0.0  ...   \n",
       "40343           0.0          0.0          0.0          0.0           0.0  ...   \n",
       "...             ...          ...          ...          ...           ...  ...   \n",
       "136160          0.0          0.0          0.0          0.0           0.0  ...   \n",
       "40838           0.0          0.0          0.0          0.0           0.0  ...   \n",
       "167490          0.0          0.0          0.0          0.0           0.0  ...   \n",
       "171771          0.0          0.0          0.0          0.0           0.0  ...   \n",
       "49051           0.0          0.0          0.0          0.0           0.0  ...   \n",
       "\n",
       "        Leak_Node-23  Leak_Node-24  Leak_Node-25  Leak_Node-26  Leak_Node-27  \\\n",
       "134447           0.0           0.0           0.0           0.0           0.0   \n",
       "122436           0.0           0.0           0.0           0.0           0.0   \n",
       "77064            0.0           0.0           0.0           0.0           0.0   \n",
       "171749           0.0           0.0           0.0           0.0           0.0   \n",
       "40343            0.0           0.0           0.0           1.0           0.0   \n",
       "...              ...           ...           ...           ...           ...   \n",
       "136160           0.0           0.0           0.0           0.0           0.0   \n",
       "40838            0.0           0.0           0.0           1.0           0.0   \n",
       "167490           0.0           0.0           0.0           0.0           0.0   \n",
       "171771           0.0           0.0           0.0           0.0           0.0   \n",
       "49051            0.0           0.0           0.0           0.0           0.0   \n",
       "\n",
       "        Leak_Node-28  Leak_Node-29  Leak_Node-30  Leak_Node-31  Leak_Node-32  \n",
       "134447           0.0           0.0           0.0           0.0           0.0  \n",
       "122436           0.0           0.0           0.0           0.0           0.0  \n",
       "77064            0.0           0.0           0.0           0.0           0.0  \n",
       "171749           1.0           0.0           0.0           0.0           0.0  \n",
       "40343            0.0           0.0           0.0           0.0           0.0  \n",
       "...              ...           ...           ...           ...           ...  \n",
       "136160           0.0           0.0           0.0           0.0           0.0  \n",
       "40838            0.0           0.0           0.0           0.0           0.0  \n",
       "167490           1.0           0.0           0.0           0.0           0.0  \n",
       "171771           1.0           0.0           0.0           0.0           0.0  \n",
       "49051            0.0           0.0           0.0           0.0           0.0  \n",
       "\n",
       "[13221 rows x 32 columns]"
      ]
     },
     "execution_count": 22,
     "metadata": {},
     "output_type": "execute_result"
    }
   ],
   "source": [
    "y_train"
   ]
  },
  {
   "cell_type": "code",
   "execution_count": null,
   "metadata": {
    "colab": {
     "base_uri": "https://localhost:8080/"
    },
    "id": "sTihhbn5bXBW",
    "outputId": "1a92692a-ce6a-41b4-f5a7-04d9f22c172a"
   },
   "outputs": [
    {
     "data": {
      "text/plain": [
       "array([[0., 0., 0., ..., 0., 0., 0.],\n",
       "       [0., 0., 0., ..., 0., 0., 0.],\n",
       "       [0., 0., 0., ..., 0., 0., 0.],\n",
       "       ...,\n",
       "       [0., 0., 0., ..., 0., 0., 0.],\n",
       "       [0., 0., 0., ..., 0., 0., 0.],\n",
       "       [0., 0., 0., ..., 0., 0., 0.]])"
      ]
     },
     "execution_count": 23,
     "metadata": {},
     "output_type": "execute_result"
    }
   ],
   "source": [
    "predictions = clf.predict(X_test)\n",
    "predictions"
   ]
  },
  {
   "cell_type": "code",
   "execution_count": null,
   "metadata": {
    "id": "9l3VVD05hOQ4"
   },
   "outputs": [],
   "source": [
    "# clf.predict_proba(X_test)"
   ]
  },
  {
   "cell_type": "code",
   "execution_count": null,
   "metadata": {
    "colab": {
     "base_uri": "https://localhost:8080/"
    },
    "id": "eXuPcdHRbuFw",
    "outputId": "61c9771f-d5df-4ccc-c2b3-8480394ba447"
   },
   "outputs": [
    {
     "data": {
      "text/plain": [
       "32"
      ]
     },
     "execution_count": 24,
     "metadata": {},
     "output_type": "execute_result"
    }
   ],
   "source": [
    "len(predictions[0])"
   ]
  },
  {
   "cell_type": "code",
   "execution_count": null,
   "metadata": {
    "colab": {
     "base_uri": "https://localhost:8080/"
    },
    "id": "nZWH5RGcb6G2",
    "outputId": "108ec093-72b5-4ff7-dd06-a8d9b717bcd9"
   },
   "outputs": [
    {
     "data": {
      "text/plain": [
       "0.9863350222631659"
      ]
     },
     "execution_count": 25,
     "metadata": {},
     "output_type": "execute_result"
    }
   ],
   "source": [
    "from sklearn.metrics import accuracy_score\n",
    "accuracy_score(y_test, predictions)"
   ]
  },
  {
   "cell_type": "code",
   "execution_count": null,
   "metadata": {
    "colab": {
     "base_uri": "https://localhost:8080/"
    },
    "id": "Ce4fk8eljfrB",
    "outputId": "0d461176-3d7a-4e8d-d6c7-a3938e26bc0a"
   },
   "outputs": [
    {
     "name": "stderr",
     "output_type": "stream",
     "text": [
      "/usr/local/lib/python3.9/dist-packages/sklearn/metrics/_classification.py:1396: UserWarning: Note that pos_label (set to 'positive') is ignored when average != 'binary' (got 'micro'). You may use labels=[pos_label] to specify a single positive class.\n",
      "  warnings.warn(\n"
     ]
    },
    {
     "data": {
      "text/plain": [
       "0.9946332737030411"
      ]
     },
     "execution_count": 40,
     "metadata": {},
     "output_type": "execute_result"
    }
   ],
   "source": [
    "from sklearn.metrics import precision_score\n",
    "precision_score(y_test, predictions, pos_label='positive', average='micro')"
   ]
  },
  {
   "cell_type": "code",
   "execution_count": null,
   "metadata": {
    "colab": {
     "base_uri": "https://localhost:8080/"
    },
    "id": "rKKBTRkfixsU",
    "outputId": "6eea76e9-f634-482b-ab4a-7135fc11c35b"
   },
   "outputs": [
    {
     "name": "stderr",
     "output_type": "stream",
     "text": [
      "/usr/local/lib/python3.9/dist-packages/sklearn/metrics/_classification.py:1396: UserWarning: Note that pos_label (set to 'positive') is ignored when average != 'binary' (got 'micro'). You may use labels=[pos_label] to specify a single positive class.\n",
      "  warnings.warn(\n"
     ]
    },
    {
     "data": {
      "text/plain": [
       "0.991971454058876"
      ]
     },
     "execution_count": 39,
     "metadata": {},
     "output_type": "execute_result"
    }
   ],
   "source": [
    "from sklearn.metrics import recall_score\n",
    "recall_score(y_test, predictions, pos_label='positive', average='micro')"
   ]
  },
  {
   "cell_type": "code",
   "execution_count": null,
   "metadata": {
    "colab": {
     "base_uri": "https://localhost:8080/"
    },
    "id": "soK3hmMCiyW5",
    "outputId": "6c1c7820-e349-458b-fa5c-46695b4d6e93"
   },
   "outputs": [
    {
     "name": "stdout",
     "output_type": "stream",
     "text": [
      "              precision    recall  f1-score   support\n",
      "\n",
      "           0       0.00      0.00      0.00         0\n",
      "           1       0.00      0.00      0.00         0\n",
      "           2       0.00      0.00      0.00         0\n",
      "           3       0.00      0.00      0.00         0\n",
      "           4       0.00      0.00      0.00         0\n",
      "           5       0.00      0.00      0.00         0\n",
      "           6       0.00      0.00      0.00         0\n",
      "           7       0.00      0.00      0.00         0\n",
      "           8       0.00      0.00      0.00         0\n",
      "           9       0.00      0.00      0.00         0\n",
      "          10       0.00      0.00      0.00         0\n",
      "          11       1.00      1.00      1.00        87\n",
      "          12       0.00      0.00      0.00         0\n",
      "          13       1.00      1.00      1.00        96\n",
      "          14       0.00      0.00      0.00         0\n",
      "          15       0.00      0.00      0.00         0\n",
      "          16       1.00      1.00      1.00       432\n",
      "          17       1.00      1.00      1.00       286\n",
      "          18       1.00      1.00      1.00       570\n",
      "          19       0.00      0.00      0.00         0\n",
      "          20       0.98      0.98      0.98      2127\n",
      "          21       0.00      0.00      0.00         0\n",
      "          22       0.00      0.00      0.00         0\n",
      "          23       0.00      0.00      0.00         0\n",
      "          24       0.00      0.00      0.00         0\n",
      "          25       1.00      1.00      1.00       669\n",
      "          26       0.00      0.00      0.00         0\n",
      "          27       1.00      1.00      1.00      2459\n",
      "          28       0.00      0.00      0.00         0\n",
      "          29       0.00      0.00      0.00         0\n",
      "          30       0.00      0.00      0.00         0\n",
      "          31       0.00      0.00      0.00         0\n",
      "\n",
      "   micro avg       0.99      0.99      0.99      6726\n",
      "   macro avg       0.25      0.25      0.25      6726\n",
      "weighted avg       0.99      0.99      0.99      6726\n",
      " samples avg       1.00      1.00      1.00      6726\n",
      "\n"
     ]
    },
    {
     "name": "stderr",
     "output_type": "stream",
     "text": [
      "/usr/local/lib/python3.9/dist-packages/sklearn/metrics/_classification.py:1344: UndefinedMetricWarning: Precision and F-score are ill-defined and being set to 0.0 in labels with no predicted samples. Use `zero_division` parameter to control this behavior.\n",
      "  _warn_prf(average, modifier, msg_start, len(result))\n",
      "/usr/local/lib/python3.9/dist-packages/sklearn/metrics/_classification.py:1344: UndefinedMetricWarning: Recall and F-score are ill-defined and being set to 0.0 in labels with no true samples. Use `zero_division` parameter to control this behavior.\n",
      "  _warn_prf(average, modifier, msg_start, len(result))\n",
      "/usr/local/lib/python3.9/dist-packages/sklearn/metrics/_classification.py:1344: UndefinedMetricWarning: Precision and F-score are ill-defined and being set to 0.0 in samples with no predicted labels. Use `zero_division` parameter to control this behavior.\n",
      "  _warn_prf(average, modifier, msg_start, len(result))\n"
     ]
    }
   ],
   "source": [
    "from sklearn.metrics import classification_report\n",
    "print(classification_report(y_test, predictions))"
   ]
  },
  {
   "cell_type": "code",
   "execution_count": null,
   "metadata": {
    "colab": {
     "base_uri": "https://localhost:8080/"
    },
    "id": "OmTMwFfZcER1",
    "outputId": "d6829ca3-839e-4f8e-fdef-0c79b1c27401"
   },
   "outputs": [
    {
     "data": {
      "text/plain": [
       "6513"
      ]
     },
     "execution_count": 26,
     "metadata": {},
     "output_type": "execute_result"
    }
   ],
   "source": [
    "len(predictions)"
   ]
  },
  {
   "cell_type": "code",
   "execution_count": null,
   "metadata": {
    "id": "8h4OAdKofSIz"
   },
   "outputs": [],
   "source": [
    "# sames=[]\n",
    "# for i,p in enumerate(predictions):\n",
    "#     # print(i)\n",
    "#     same =1\n",
    "#     for j in range(32):\n",
    "#         if(p[j]!=y_test.loc[i,lcols[j]]):\n",
    "#             same=0\n",
    "#     sames.append(same)"
   ]
  },
  {
   "cell_type": "code",
   "execution_count": null,
   "metadata": {
    "colab": {
     "base_uri": "https://localhost:8080/"
    },
    "id": "OUdaRpZEfNP9",
    "outputId": "7d6620df-abbd-4f19-daa0-a6ecf44ff582"
   },
   "outputs": [
    {
     "data": {
      "text/plain": [
       "0"
      ]
     },
     "execution_count": 29,
     "metadata": {},
     "output_type": "execute_result"
    }
   ],
   "source": [
    "# sum(sames)"
   ]
  },
  {
   "cell_type": "code",
   "execution_count": null,
   "metadata": {
    "colab": {
     "base_uri": "https://localhost:8080/"
    },
    "id": "3_Cx2iMmfOc1",
    "outputId": "786c9448-3c20-402c-81ae-d8cdf3fdac14"
   },
   "outputs": [
    {
     "data": {
      "text/plain": [
       "0.9840319361277445"
      ]
     },
     "execution_count": 30,
     "metadata": {},
     "output_type": "execute_result"
    }
   ],
   "source": [
    "6409/6513"
   ]
  },
  {
   "cell_type": "code",
   "execution_count": null,
   "metadata": {
    "id": "P0vaWYf8idSr"
   },
   "outputs": [],
   "source": [
    "# len(clf.predict_proba(X_test)[0])"
   ]
  },
  {
   "cell_type": "markdown",
   "metadata": {
    "id": "aVB4JuHgj1iy"
   },
   "source": [
    "# Only Flow as input"
   ]
  },
  {
   "cell_type": "code",
   "execution_count": null,
   "metadata": {
    "id": "HVXdZ6dxfvMX"
   },
   "outputs": [],
   "source": [
    "X1 = df.copy()\n",
    "X1.drop(lcols, axis=1,inplace=True)\n",
    "X1.drop(dcols, axis=1,inplace=True)\n",
    "X1.drop(pcols, axis=1,inplace=True)\n",
    "X1.drop('Leak', axis=1,inplace=True)"
   ]
  },
  {
   "cell_type": "code",
   "execution_count": null,
   "metadata": {
    "colab": {
     "base_uri": "https://localhost:8080/"
    },
    "id": "itppR1HonFwU",
    "outputId": "ec7f4fcb-99d4-427f-8677-965419852bc4"
   },
   "outputs": [
    {
     "data": {
      "text/plain": [
       "Index(['F_Link-1', 'F_Link-2', 'F_Link-3', 'F_Link-4', 'F_Link-5', 'F_Link-6',\n",
       "       'F_Link-7', 'F_Link-8', 'F_Link-9', 'F_Link-10', 'F_Link-11',\n",
       "       'F_Link-12', 'F_Link-13', 'F_Link-14', 'F_Link-15', 'F_Link-16',\n",
       "       'F_Link-17', 'F_Link-18', 'F_Link-19', 'F_Link-20', 'F_Link-21',\n",
       "       'F_Link-22', 'F_Link-23', 'F_Link-24', 'F_Link-25', 'F_Link-26',\n",
       "       'F_Link-27', 'F_Link-28', 'F_Link-29', 'F_Link-30', 'F_Link-31',\n",
       "       'F_Link-32', 'F_Link-33', 'F_Link-34'],\n",
       "      dtype='object')"
      ]
     },
     "execution_count": 48,
     "metadata": {},
     "output_type": "execute_result"
    }
   ],
   "source": [
    "X1.columns"
   ]
  },
  {
   "cell_type": "code",
   "execution_count": null,
   "metadata": {
    "id": "vUONpduwnIGq"
   },
   "outputs": [],
   "source": [
    "y1 = df.copy()\n",
    "y1.drop(fcols, axis=1,inplace=True)\n",
    "y1.drop(dcols, axis=1,inplace=True)\n",
    "y1.drop(pcols, axis=1,inplace=True)\n",
    "y1.drop('Leak', axis=1,inplace=True)"
   ]
  },
  {
   "cell_type": "code",
   "execution_count": null,
   "metadata": {
    "colab": {
     "base_uri": "https://localhost:8080/"
    },
    "id": "pVJ03oownazE",
    "outputId": "06d6627e-1e3b-47e8-867f-042f6b299083"
   },
   "outputs": [
    {
     "data": {
      "text/plain": [
       "Index(['Leak_Node-1', 'Leak_Node-2', 'Leak_Node-3', 'Leak_Node-4',\n",
       "       'Leak_Node-5', 'Leak_Node-6', 'Leak_Node-7', 'Leak_Node-8',\n",
       "       'Leak_Node-9', 'Leak_Node-10', 'Leak_Node-11', 'Leak_Node-12',\n",
       "       'Leak_Node-13', 'Leak_Node-14', 'Leak_Node-15', 'Leak_Node-16',\n",
       "       'Leak_Node-17', 'Leak_Node-18', 'Leak_Node-19', 'Leak_Node-20',\n",
       "       'Leak_Node-21', 'Leak_Node-22', 'Leak_Node-23', 'Leak_Node-24',\n",
       "       'Leak_Node-25', 'Leak_Node-26', 'Leak_Node-27', 'Leak_Node-28',\n",
       "       'Leak_Node-29', 'Leak_Node-30', 'Leak_Node-31', 'Leak_Node-32'],\n",
       "      dtype='object')"
      ]
     },
     "execution_count": 50,
     "metadata": {},
     "output_type": "execute_result"
    }
   ],
   "source": [
    "y1.columns"
   ]
  },
  {
   "cell_type": "code",
   "execution_count": null,
   "metadata": {
    "id": "nMbb4rO7ndLm"
   },
   "outputs": [],
   "source": [
    "#splitting testing and training data\n",
    "\n",
    "from sklearn.model_selection import train_test_split\n",
    "X1_train, X1_test, y1_train, y1_test = train_test_split(X1, y1, test_size=0.33)"
   ]
  },
  {
   "cell_type": "markdown",
   "metadata": {
    "id": "_d1iDLTynq5B"
   },
   "source": [
    "Random Forest"
   ]
  },
  {
   "cell_type": "code",
   "execution_count": null,
   "metadata": {
    "id": "X4TBX1Ylnjkq"
   },
   "outputs": [],
   "source": [
    "from sklearn.ensemble import RandomForestClassifier\n",
    "clf1 = RandomForestClassifier()\n",
    "clf1 = clf1.fit(X1_train, y1_train)"
   ]
  },
  {
   "cell_type": "code",
   "execution_count": null,
   "metadata": {
    "colab": {
     "base_uri": "https://localhost:8080/"
    },
    "id": "iKOS6GU3nxGg",
    "outputId": "8ff43223-050a-4742-a0bd-f13a0e501354"
   },
   "outputs": [
    {
     "data": {
      "text/plain": [
       "array([[0., 0., 0., ..., 0., 0., 0.],\n",
       "       [0., 0., 0., ..., 0., 0., 0.],\n",
       "       [0., 0., 0., ..., 0., 0., 0.],\n",
       "       ...,\n",
       "       [0., 0., 0., ..., 0., 0., 0.],\n",
       "       [0., 0., 0., ..., 0., 0., 0.],\n",
       "       [0., 0., 0., ..., 0., 0., 0.]])"
      ]
     },
     "execution_count": 54,
     "metadata": {},
     "output_type": "execute_result"
    }
   ],
   "source": [
    "predictions1 = clf1.predict(X1_test)\n",
    "predictions1"
   ]
  },
  {
   "cell_type": "code",
   "execution_count": null,
   "metadata": {
    "colab": {
     "base_uri": "https://localhost:8080/"
    },
    "id": "eAHK5tv2oDRr",
    "outputId": "0a5d4f20-e62d-4d38-ae88-2040ce38a789"
   },
   "outputs": [
    {
     "data": {
      "text/plain": [
       "0.9849531705819131"
      ]
     },
     "execution_count": 55,
     "metadata": {},
     "output_type": "execute_result"
    }
   ],
   "source": [
    "from sklearn.metrics import accuracy_score\n",
    "accuracy_score(y1_test, predictions1)"
   ]
  },
  {
   "cell_type": "code",
   "execution_count": null,
   "metadata": {
    "colab": {
     "base_uri": "https://localhost:8080/"
    },
    "id": "lSqZvloboHuj",
    "outputId": "94d9c9f1-4337-4555-fa5c-48acc1d8d3db"
   },
   "outputs": [
    {
     "name": "stderr",
     "output_type": "stream",
     "text": [
      "/usr/local/lib/python3.9/dist-packages/sklearn/metrics/_classification.py:1396: UserWarning: Note that pos_label (set to 'positive') is ignored when average != 'binary' (got 'micro'). You may use labels=[pos_label] to specify a single positive class.\n",
      "  warnings.warn(\n"
     ]
    },
    {
     "data": {
      "text/plain": [
       "0.9950892857142857"
      ]
     },
     "execution_count": 57,
     "metadata": {},
     "output_type": "execute_result"
    }
   ],
   "source": [
    "from sklearn.metrics import precision_score\n",
    "precision_score(y1_test, predictions1, pos_label='positive', average='micro')"
   ]
  },
  {
   "cell_type": "code",
   "execution_count": null,
   "metadata": {
    "colab": {
     "base_uri": "https://localhost:8080/"
    },
    "id": "XaBXRexBoUKK",
    "outputId": "7b0d2b4f-20da-4cea-b317-d4e36b43be65"
   },
   "outputs": [
    {
     "name": "stderr",
     "output_type": "stream",
     "text": [
      "/usr/local/lib/python3.9/dist-packages/sklearn/metrics/_classification.py:1396: UserWarning: Note that pos_label (set to 'positive') is ignored when average != 'binary' (got 'micro'). You may use labels=[pos_label] to specify a single positive class.\n",
      "  warnings.warn(\n"
     ]
    },
    {
     "data": {
      "text/plain": [
       "0.9899333826794967"
      ]
     },
     "execution_count": 58,
     "metadata": {},
     "output_type": "execute_result"
    }
   ],
   "source": [
    "from sklearn.metrics import recall_score\n",
    "recall_score(y1_test, predictions1, pos_label='positive', average='micro')"
   ]
  },
  {
   "cell_type": "code",
   "execution_count": null,
   "metadata": {
    "colab": {
     "base_uri": "https://localhost:8080/"
    },
    "id": "7WovFziMog74",
    "outputId": "bf4487e3-585d-4ffa-9c73-1a77f8f9f564"
   },
   "outputs": [
    {
     "name": "stdout",
     "output_type": "stream",
     "text": [
      "              precision    recall  f1-score   support\n",
      "\n",
      "           0       0.00      0.00      0.00         0\n",
      "           1       0.00      0.00      0.00         0\n",
      "           2       0.00      0.00      0.00         0\n",
      "           3       0.00      0.00      0.00         0\n",
      "           4       0.00      0.00      0.00         0\n",
      "           5       0.00      0.00      0.00         0\n",
      "           6       0.00      0.00      0.00         0\n",
      "           7       0.00      0.00      0.00         0\n",
      "           8       0.00      0.00      0.00         0\n",
      "           9       0.00      0.00      0.00         0\n",
      "          10       0.00      0.00      0.00         0\n",
      "          11       1.00      1.00      1.00        90\n",
      "          12       0.00      0.00      0.00         0\n",
      "          13       1.00      1.00      1.00        97\n",
      "          14       0.00      0.00      0.00         0\n",
      "          15       0.00      0.00      0.00         0\n",
      "          16       1.00      1.00      1.00       462\n",
      "          17       1.00      1.00      1.00       253\n",
      "          18       1.00      1.00      1.00       557\n",
      "          19       0.00      0.00      0.00         0\n",
      "          20       0.99      0.97      0.98      2134\n",
      "          21       0.00      0.00      0.00         0\n",
      "          22       0.00      0.00      0.00         0\n",
      "          23       0.00      0.00      0.00         0\n",
      "          24       0.00      0.00      0.00         0\n",
      "          25       1.00      1.00      1.00       678\n",
      "          26       0.00      0.00      0.00         0\n",
      "          27       1.00      1.00      1.00      2484\n",
      "          28       0.00      0.00      0.00         0\n",
      "          29       0.00      0.00      0.00         0\n",
      "          30       0.00      0.00      0.00         0\n",
      "          31       0.00      0.00      0.00         0\n",
      "\n",
      "   micro avg       1.00      0.99      0.99      6755\n",
      "   macro avg       0.25      0.25      0.25      6755\n",
      "weighted avg       1.00      0.99      0.99      6755\n",
      " samples avg       1.00      0.99      0.99      6755\n",
      "\n"
     ]
    },
    {
     "name": "stderr",
     "output_type": "stream",
     "text": [
      "/usr/local/lib/python3.9/dist-packages/sklearn/metrics/_classification.py:1344: UndefinedMetricWarning: Precision and F-score are ill-defined and being set to 0.0 in labels with no predicted samples. Use `zero_division` parameter to control this behavior.\n",
      "  _warn_prf(average, modifier, msg_start, len(result))\n",
      "/usr/local/lib/python3.9/dist-packages/sklearn/metrics/_classification.py:1344: UndefinedMetricWarning: Recall and F-score are ill-defined and being set to 0.0 in labels with no true samples. Use `zero_division` parameter to control this behavior.\n",
      "  _warn_prf(average, modifier, msg_start, len(result))\n"
     ]
    }
   ],
   "source": [
    "from sklearn.metrics import classification_report\n",
    "print(classification_report(y1_test, predictions1))"
   ]
  },
  {
   "cell_type": "code",
   "execution_count": null,
   "metadata": {
    "id": "e0qaUzbeom7l"
   },
   "outputs": [],
   "source": []
  },
  {
   "cell_type": "markdown",
   "metadata": {
    "id": "poHWLjHto5b9"
   },
   "source": [
    "# Only pressure as input"
   ]
  },
  {
   "cell_type": "code",
   "execution_count": null,
   "metadata": {
    "id": "yqFLMafNo9Nt"
   },
   "outputs": [],
   "source": [
    "X2 = df.copy()\n",
    "X2.drop(lcols, axis=1,inplace=True)\n",
    "X2.drop(dcols, axis=1,inplace=True)\n",
    "X2.drop(fcols, axis=1,inplace=True)\n",
    "X2.drop('Leak', axis=1,inplace=True)"
   ]
  },
  {
   "cell_type": "code",
   "execution_count": null,
   "metadata": {
    "colab": {
     "base_uri": "https://localhost:8080/"
    },
    "id": "Hc0i1WIYpKYO",
    "outputId": "d98ff658-6a82-4ced-f587-8742dd95000d"
   },
   "outputs": [
    {
     "data": {
      "text/plain": [
       "Index(['P_Node-1', 'P_Node-2', 'P_Node-3', 'P_Node-4', 'P_Node-5', 'P_Node-6',\n",
       "       'P_Node-7', 'P_Node-8', 'P_Node-9', 'P_Node-10', 'P_Node-11',\n",
       "       'P_Node-12', 'P_Node-13', 'P_Node-14', 'P_Node-15', 'P_Node-16',\n",
       "       'P_Node-17', 'P_Node-18', 'P_Node-19', 'P_Node-20', 'P_Node-21',\n",
       "       'P_Node-22', 'P_Node-23', 'P_Node-24', 'P_Node-25', 'P_Node-26',\n",
       "       'P_Node-27', 'P_Node-28', 'P_Node-29', 'P_Node-30', 'P_Node-31',\n",
       "       'P_Node-32'],\n",
       "      dtype='object')"
      ]
     },
     "execution_count": 62,
     "metadata": {},
     "output_type": "execute_result"
    }
   ],
   "source": [
    "X2.columns"
   ]
  },
  {
   "cell_type": "code",
   "execution_count": null,
   "metadata": {
    "id": "Sae2bbs5o__O"
   },
   "outputs": [],
   "source": [
    "y2 = df.copy()\n",
    "y2.drop(fcols, axis=1,inplace=True)\n",
    "y2.drop(dcols, axis=1,inplace=True)\n",
    "y2.drop(pcols, axis=1,inplace=True)\n",
    "y2.drop('Leak', axis=1,inplace=True)"
   ]
  },
  {
   "cell_type": "code",
   "execution_count": null,
   "metadata": {
    "colab": {
     "base_uri": "https://localhost:8080/"
    },
    "id": "udWDCvTcpHRd",
    "outputId": "fb4560ee-e476-418e-caf4-0488517c7f8b"
   },
   "outputs": [
    {
     "data": {
      "text/plain": [
       "Index(['Leak_Node-1', 'Leak_Node-2', 'Leak_Node-3', 'Leak_Node-4',\n",
       "       'Leak_Node-5', 'Leak_Node-6', 'Leak_Node-7', 'Leak_Node-8',\n",
       "       'Leak_Node-9', 'Leak_Node-10', 'Leak_Node-11', 'Leak_Node-12',\n",
       "       'Leak_Node-13', 'Leak_Node-14', 'Leak_Node-15', 'Leak_Node-16',\n",
       "       'Leak_Node-17', 'Leak_Node-18', 'Leak_Node-19', 'Leak_Node-20',\n",
       "       'Leak_Node-21', 'Leak_Node-22', 'Leak_Node-23', 'Leak_Node-24',\n",
       "       'Leak_Node-25', 'Leak_Node-26', 'Leak_Node-27', 'Leak_Node-28',\n",
       "       'Leak_Node-29', 'Leak_Node-30', 'Leak_Node-31', 'Leak_Node-32'],\n",
       "      dtype='object')"
      ]
     },
     "execution_count": 63,
     "metadata": {},
     "output_type": "execute_result"
    }
   ],
   "source": [
    "y2.columns"
   ]
  },
  {
   "cell_type": "code",
   "execution_count": null,
   "metadata": {
    "id": "1mO_LUlwpO0Q"
   },
   "outputs": [],
   "source": [
    "#splitting testing and training data\n",
    "\n",
    "from sklearn.model_selection import train_test_split\n",
    "X2_train, X2_test, y2_train, y2_test = train_test_split(X2, y2, test_size=0.33)"
   ]
  },
  {
   "cell_type": "markdown",
   "metadata": {
    "id": "60wsoKR8pWUm"
   },
   "source": [
    "Random Forest"
   ]
  },
  {
   "cell_type": "code",
   "execution_count": null,
   "metadata": {
    "id": "NJNSY5y8pV0_"
   },
   "outputs": [],
   "source": [
    "from sklearn.ensemble import RandomForestClassifier\n",
    "clf2 = RandomForestClassifier()\n",
    "clf2 = clf2.fit(X2_train, y2_train)"
   ]
  },
  {
   "cell_type": "code",
   "execution_count": null,
   "metadata": {
    "colab": {
     "base_uri": "https://localhost:8080/"
    },
    "id": "MSo2f0X_pT4M",
    "outputId": "3fa5d707-f125-4b53-c1fa-e1470c78667c"
   },
   "outputs": [
    {
     "data": {
      "text/plain": [
       "array([[0., 0., 0., ..., 0., 0., 0.],\n",
       "       [0., 0., 0., ..., 0., 0., 0.],\n",
       "       [0., 0., 0., ..., 0., 0., 0.],\n",
       "       ...,\n",
       "       [0., 0., 0., ..., 0., 0., 0.],\n",
       "       [0., 0., 0., ..., 0., 0., 0.],\n",
       "       [0., 0., 0., ..., 0., 0., 0.]])"
      ]
     },
     "execution_count": 66,
     "metadata": {},
     "output_type": "execute_result"
    }
   ],
   "source": [
    "predictions2 = clf2.predict(X2_test)\n",
    "predictions2"
   ]
  },
  {
   "cell_type": "code",
   "execution_count": null,
   "metadata": {
    "id": "_hV76HR_pgCE"
   },
   "outputs": [],
   "source": [
    "# clf2.predict_proba(X2_test)"
   ]
  },
  {
   "cell_type": "code",
   "execution_count": null,
   "metadata": {
    "colab": {
     "base_uri": "https://localhost:8080/"
    },
    "id": "iXq7ELOopjqB",
    "outputId": "424604d7-4e37-4625-c1b3-0772df88f695"
   },
   "outputs": [
    {
     "data": {
      "text/plain": [
       "0.9742054352832796"
      ]
     },
     "execution_count": 69,
     "metadata": {},
     "output_type": "execute_result"
    }
   ],
   "source": [
    "from sklearn.metrics import accuracy_score\n",
    "accuracy_score(y2_test, predictions2)"
   ]
  },
  {
   "cell_type": "code",
   "execution_count": null,
   "metadata": {
    "colab": {
     "base_uri": "https://localhost:8080/"
    },
    "id": "8MBHKsGZpw_U",
    "outputId": "b5394df7-0739-4a8f-cd23-e549d3c44e2a"
   },
   "outputs": [
    {
     "name": "stderr",
     "output_type": "stream",
     "text": [
      "/usr/local/lib/python3.9/dist-packages/sklearn/metrics/_classification.py:1396: UserWarning: Note that pos_label (set to 'positive') is ignored when average != 'binary' (got 'micro'). You may use labels=[pos_label] to specify a single positive class.\n",
      "  warnings.warn(\n"
     ]
    },
    {
     "data": {
      "text/plain": [
       "0.9950892857142857"
      ]
     },
     "execution_count": 70,
     "metadata": {},
     "output_type": "execute_result"
    }
   ],
   "source": [
    "from sklearn.metrics import precision_score\n",
    "precision_score(y1_test, predictions1, pos_label='positive', average='micro')"
   ]
  },
  {
   "cell_type": "code",
   "execution_count": null,
   "metadata": {
    "colab": {
     "base_uri": "https://localhost:8080/"
    },
    "id": "Ryx4F4EFqJBl",
    "outputId": "7571cf43-b742-4bbf-c5ce-5524573a7161"
   },
   "outputs": [
    {
     "name": "stderr",
     "output_type": "stream",
     "text": [
      "/usr/local/lib/python3.9/dist-packages/sklearn/metrics/_classification.py:1396: UserWarning: Note that pos_label (set to 'positive') is ignored when average != 'binary' (got 'micro'). You may use labels=[pos_label] to specify a single positive class.\n",
      "  warnings.warn(\n"
     ]
    },
    {
     "data": {
      "text/plain": [
       "0.9899333826794967"
      ]
     },
     "execution_count": 71,
     "metadata": {},
     "output_type": "execute_result"
    }
   ],
   "source": [
    "from sklearn.metrics import recall_score\n",
    "recall_score(y1_test, predictions1, pos_label='positive', average='micro')"
   ]
  },
  {
   "cell_type": "code",
   "execution_count": null,
   "metadata": {
    "colab": {
     "base_uri": "https://localhost:8080/"
    },
    "id": "9G0kft7dqKlz",
    "outputId": "56e9f1c5-50b9-4630-f764-0e066c437e69"
   },
   "outputs": [
    {
     "name": "stdout",
     "output_type": "stream",
     "text": [
      "              precision    recall  f1-score   support\n",
      "\n",
      "           0       0.00      0.00      0.00         0\n",
      "           1       0.00      0.00      0.00         0\n",
      "           2       0.00      0.00      0.00         0\n",
      "           3       0.00      0.00      0.00         0\n",
      "           4       0.00      0.00      0.00         0\n",
      "           5       0.00      0.00      0.00         0\n",
      "           6       0.00      0.00      0.00         0\n",
      "           7       0.00      0.00      0.00         0\n",
      "           8       0.00      0.00      0.00         0\n",
      "           9       0.00      0.00      0.00         0\n",
      "          10       0.00      0.00      0.00         0\n",
      "          11       1.00      1.00      1.00        90\n",
      "          12       0.00      0.00      0.00         0\n",
      "          13       1.00      1.00      1.00        97\n",
      "          14       0.00      0.00      0.00         0\n",
      "          15       0.00      0.00      0.00         0\n",
      "          16       1.00      1.00      1.00       462\n",
      "          17       1.00      1.00      1.00       253\n",
      "          18       1.00      1.00      1.00       557\n",
      "          19       0.00      0.00      0.00         0\n",
      "          20       0.99      0.97      0.98      2134\n",
      "          21       0.00      0.00      0.00         0\n",
      "          22       0.00      0.00      0.00         0\n",
      "          23       0.00      0.00      0.00         0\n",
      "          24       0.00      0.00      0.00         0\n",
      "          25       1.00      1.00      1.00       678\n",
      "          26       0.00      0.00      0.00         0\n",
      "          27       1.00      1.00      1.00      2484\n",
      "          28       0.00      0.00      0.00         0\n",
      "          29       0.00      0.00      0.00         0\n",
      "          30       0.00      0.00      0.00         0\n",
      "          31       0.00      0.00      0.00         0\n",
      "\n",
      "   micro avg       1.00      0.99      0.99      6755\n",
      "   macro avg       0.25      0.25      0.25      6755\n",
      "weighted avg       1.00      0.99      0.99      6755\n",
      " samples avg       1.00      0.99      0.99      6755\n",
      "\n"
     ]
    },
    {
     "name": "stderr",
     "output_type": "stream",
     "text": [
      "/usr/local/lib/python3.9/dist-packages/sklearn/metrics/_classification.py:1344: UndefinedMetricWarning: Precision and F-score are ill-defined and being set to 0.0 in labels with no predicted samples. Use `zero_division` parameter to control this behavior.\n",
      "  _warn_prf(average, modifier, msg_start, len(result))\n",
      "/usr/local/lib/python3.9/dist-packages/sklearn/metrics/_classification.py:1344: UndefinedMetricWarning: Recall and F-score are ill-defined and being set to 0.0 in labels with no true samples. Use `zero_division` parameter to control this behavior.\n",
      "  _warn_prf(average, modifier, msg_start, len(result))\n"
     ]
    }
   ],
   "source": [
    "from sklearn.metrics import classification_report\n",
    "print(classification_report(y1_test, predictions1))"
   ]
  },
  {
   "cell_type": "markdown",
   "metadata": {
    "id": "JwG6i7QTvCzp"
   },
   "source": [
    "# Detecting the leak node"
   ]
  },
  {
   "cell_type": "code",
   "execution_count": null,
   "metadata": {
    "id": "OPbtOTC1qdi_"
   },
   "outputs": [],
   "source": [
    "def detect_leak_node(arr):\n",
    "    leak_nodes = []\n",
    "    for i in range(32):\n",
    "        if arr[i] == 1:\n",
    "            leak_nodes.append(i+1)\n",
    "\n",
    "    print(leak_nodes)"
   ]
  },
  {
   "cell_type": "code",
   "execution_count": null,
   "metadata": {
    "colab": {
     "base_uri": "https://localhost:8080/"
    },
    "id": "muC3haLhqMrs",
    "outputId": "3b3432e1-c36a-402f-b94d-c5b4f723602b"
   },
   "outputs": [
    {
     "name": "stdout",
     "output_type": "stream",
     "text": [
      "[12]\n",
      "[28]\n",
      "[21]\n",
      "[26]\n",
      "[28]\n"
     ]
    }
   ],
   "source": [
    "detect_leak_node(predictions[0])\n",
    "detect_leak_node(predictions1[0])\n",
    "detect_leak_node(predictions2[0])\n",
    "detect_leak_node(predictions2[256])\n",
    "detect_leak_node(predictions2[146])"
   ]
  },
  {
   "cell_type": "code",
   "execution_count": null,
   "metadata": {
    "colab": {
     "base_uri": "https://localhost:8080/"
    },
    "id": "YEoKew8Qt08s",
    "outputId": "c752c1ee-7cb9-4b15-9d24-e4bf1f00ba44"
   },
   "outputs": [
    {
     "data": {
      "text/plain": [
       "array([0., 0., 0., 0., 0., 0., 0., 0., 0., 0., 0., 0., 0., 0., 0., 0., 0.,\n",
       "       0., 0., 0., 0., 0., 0., 0., 0., 0., 0., 1., 0., 0., 0., 0.])"
      ]
     },
     "execution_count": 84,
     "metadata": {},
     "output_type": "execute_result"
    }
   ],
   "source": [
    "predictions1[1000]"
   ]
  }
 ],
 "metadata": {
  "colab": {
   "provenance": []
  },
  "kernelspec": {
   "display_name": "Python 3 (ipykernel)",
   "language": "python",
   "name": "python3"
  },
  "language_info": {
   "codemirror_mode": {
    "name": "ipython",
    "version": 3
   },
   "file_extension": ".py",
   "mimetype": "text/x-python",
   "name": "python",
   "nbconvert_exporter": "python",
   "pygments_lexer": "ipython3",
   "version": "3.9.13"
  }
 },
 "nbformat": 4,
 "nbformat_minor": 1
}
