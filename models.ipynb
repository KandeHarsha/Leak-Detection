{
 "cells": [
  {
   "cell_type": "code",
   "execution_count": null,
   "metadata": {
    "colab": {
     "base_uri": "https://localhost:8080/"
    },
    "id": "d-94LnnMS6Zs",
    "outputId": "e427ed79-b65f-4bde-a34c-c156c280ad62"
   },
   "outputs": [
    {
     "name": "stdout",
     "output_type": "stream",
     "text": [
      "Mounted at /content/drive\n"
     ]
    }
   ],
   "source": [
    "import pandas as pd\n",
    "from google.colab import drive\n",
    "drive.mount('/content/drive')"
   ]
  },
  {
   "cell_type": "code",
   "execution_count": null,
   "metadata": {
    "id": "o0ci2w1BTCzD"
   },
   "outputs": [],
   "source": [
    "endpoint = '/content/drive/MyDrive/Leak_detection_code/Hanoi_CMH'"
   ]
  },
  {
   "cell_type": "code",
   "execution_count": null,
   "metadata": {
    "id": "4wHvaELsTFdo"
   },
   "outputs": [],
   "source": [
    "df = pd.read_csv(f\"{endpoint}/normalised_csv_file.csv\")"
   ]
  },
  {
   "cell_type": "code",
   "execution_count": null,
   "metadata": {
    "colab": {
     "base_uri": "https://localhost:8080/",
     "height": 505
    },
    "id": "zFR_leGkTJLi",
    "outputId": "54b689b5-543e-4c83-ab3f-c0f98ab973f4"
   },
   "outputs": [
    {
     "data": {
      "text/html": [
       "\n",
       "  <div id=\"df-0db91c8a-200e-45e2-a41f-6db783c45570\">\n",
       "    <div class=\"colab-df-container\">\n",
       "      <div>\n",
       "<style scoped>\n",
       "    .dataframe tbody tr th:only-of-type {\n",
       "        vertical-align: middle;\n",
       "    }\n",
       "\n",
       "    .dataframe tbody tr th {\n",
       "        vertical-align: top;\n",
       "    }\n",
       "\n",
       "    .dataframe thead th {\n",
       "        text-align: right;\n",
       "    }\n",
       "</style>\n",
       "<table border=\"1\" class=\"dataframe\">\n",
       "  <thead>\n",
       "    <tr style=\"text-align: right;\">\n",
       "      <th></th>\n",
       "      <th>D_node-1</th>\n",
       "      <th>P_Node-1</th>\n",
       "      <th>F_Link-1</th>\n",
       "      <th>Leak_Node-1</th>\n",
       "      <th>D_node-2</th>\n",
       "      <th>P_Node-2</th>\n",
       "      <th>F_Link-2</th>\n",
       "      <th>Leak_Node-2</th>\n",
       "      <th>D_node-3</th>\n",
       "      <th>P_Node-3</th>\n",
       "      <th>...</th>\n",
       "      <th>P_Node-31</th>\n",
       "      <th>F_Link-31</th>\n",
       "      <th>Leak_Node-31</th>\n",
       "      <th>D_node-32</th>\n",
       "      <th>P_Node-32</th>\n",
       "      <th>F_Link-32</th>\n",
       "      <th>Leak_Node-32</th>\n",
       "      <th>F_Link-33</th>\n",
       "      <th>F_Link-34</th>\n",
       "      <th>Leak</th>\n",
       "    </tr>\n",
       "  </thead>\n",
       "  <tbody>\n",
       "    <tr>\n",
       "      <th>0</th>\n",
       "      <td>0.848724</td>\n",
       "      <td>0.0</td>\n",
       "      <td>0.151276</td>\n",
       "      <td>0.0</td>\n",
       "      <td>0.181159</td>\n",
       "      <td>0.961435</td>\n",
       "      <td>0.147599</td>\n",
       "      <td>0.0</td>\n",
       "      <td>0.166667</td>\n",
       "      <td>0.911553</td>\n",
       "      <td>...</td>\n",
       "      <td>0.917526</td>\n",
       "      <td>0.867925</td>\n",
       "      <td>0.0</td>\n",
       "      <td>0.200000</td>\n",
       "      <td>0.913288</td>\n",
       "      <td>0.932099</td>\n",
       "      <td>0.0</td>\n",
       "      <td>0.074713</td>\n",
       "      <td>0.113636</td>\n",
       "      <td>0.0</td>\n",
       "    </tr>\n",
       "    <tr>\n",
       "      <th>1</th>\n",
       "      <td>0.894144</td>\n",
       "      <td>0.0</td>\n",
       "      <td>0.105856</td>\n",
       "      <td>0.0</td>\n",
       "      <td>0.195652</td>\n",
       "      <td>0.973219</td>\n",
       "      <td>0.098790</td>\n",
       "      <td>0.0</td>\n",
       "      <td>0.103175</td>\n",
       "      <td>0.936695</td>\n",
       "      <td>...</td>\n",
       "      <td>0.942458</td>\n",
       "      <td>0.861635</td>\n",
       "      <td>0.0</td>\n",
       "      <td>0.150000</td>\n",
       "      <td>0.939471</td>\n",
       "      <td>0.938272</td>\n",
       "      <td>0.0</td>\n",
       "      <td>0.063218</td>\n",
       "      <td>0.083333</td>\n",
       "      <td>0.0</td>\n",
       "    </tr>\n",
       "    <tr>\n",
       "      <th>2</th>\n",
       "      <td>0.926802</td>\n",
       "      <td>0.0</td>\n",
       "      <td>0.073198</td>\n",
       "      <td>0.0</td>\n",
       "      <td>0.137681</td>\n",
       "      <td>0.980718</td>\n",
       "      <td>0.068333</td>\n",
       "      <td>0.0</td>\n",
       "      <td>0.087302</td>\n",
       "      <td>0.950994</td>\n",
       "      <td>...</td>\n",
       "      <td>0.956807</td>\n",
       "      <td>0.855346</td>\n",
       "      <td>0.0</td>\n",
       "      <td>0.158333</td>\n",
       "      <td>0.954298</td>\n",
       "      <td>0.956790</td>\n",
       "      <td>0.0</td>\n",
       "      <td>0.040230</td>\n",
       "      <td>0.071970</td>\n",
       "      <td>0.0</td>\n",
       "    </tr>\n",
       "    <tr>\n",
       "      <th>3</th>\n",
       "      <td>0.953453</td>\n",
       "      <td>0.0</td>\n",
       "      <td>0.046547</td>\n",
       "      <td>0.0</td>\n",
       "      <td>0.101449</td>\n",
       "      <td>0.986610</td>\n",
       "      <td>0.042171</td>\n",
       "      <td>0.0</td>\n",
       "      <td>0.063492</td>\n",
       "      <td>0.962074</td>\n",
       "      <td>...</td>\n",
       "      <td>0.967894</td>\n",
       "      <td>0.855346</td>\n",
       "      <td>0.0</td>\n",
       "      <td>0.116667</td>\n",
       "      <td>0.966091</td>\n",
       "      <td>0.950617</td>\n",
       "      <td>0.0</td>\n",
       "      <td>0.045977</td>\n",
       "      <td>0.056818</td>\n",
       "      <td>0.0</td>\n",
       "    </tr>\n",
       "    <tr>\n",
       "      <th>4</th>\n",
       "      <td>0.974474</td>\n",
       "      <td>0.0</td>\n",
       "      <td>0.025526</td>\n",
       "      <td>0.0</td>\n",
       "      <td>0.108696</td>\n",
       "      <td>0.990894</td>\n",
       "      <td>0.020305</td>\n",
       "      <td>0.0</td>\n",
       "      <td>0.055556</td>\n",
       "      <td>0.970644</td>\n",
       "      <td>...</td>\n",
       "      <td>0.976343</td>\n",
       "      <td>0.849057</td>\n",
       "      <td>0.0</td>\n",
       "      <td>0.100000</td>\n",
       "      <td>0.974850</td>\n",
       "      <td>0.956790</td>\n",
       "      <td>0.0</td>\n",
       "      <td>0.040230</td>\n",
       "      <td>0.045455</td>\n",
       "      <td>0.0</td>\n",
       "    </tr>\n",
       "    <tr>\n",
       "      <th>...</th>\n",
       "      <td>...</td>\n",
       "      <td>...</td>\n",
       "      <td>...</td>\n",
       "      <td>...</td>\n",
       "      <td>...</td>\n",
       "      <td>...</td>\n",
       "      <td>...</td>\n",
       "      <td>...</td>\n",
       "      <td>...</td>\n",
       "      <td>...</td>\n",
       "      <td>...</td>\n",
       "      <td>...</td>\n",
       "      <td>...</td>\n",
       "      <td>...</td>\n",
       "      <td>...</td>\n",
       "      <td>...</td>\n",
       "      <td>...</td>\n",
       "      <td>...</td>\n",
       "      <td>...</td>\n",
       "      <td>...</td>\n",
       "      <td>...</td>\n",
       "    </tr>\n",
       "    <tr>\n",
       "      <th>175195</th>\n",
       "      <td>0.624625</td>\n",
       "      <td>0.0</td>\n",
       "      <td>0.375375</td>\n",
       "      <td>0.0</td>\n",
       "      <td>0.362319</td>\n",
       "      <td>0.913230</td>\n",
       "      <td>0.370558</td>\n",
       "      <td>0.0</td>\n",
       "      <td>0.404762</td>\n",
       "      <td>0.914441</td>\n",
       "      <td>...</td>\n",
       "      <td>0.822187</td>\n",
       "      <td>0.924528</td>\n",
       "      <td>0.0</td>\n",
       "      <td>0.400000</td>\n",
       "      <td>0.812875</td>\n",
       "      <td>0.925926</td>\n",
       "      <td>0.0</td>\n",
       "      <td>0.097701</td>\n",
       "      <td>0.219697</td>\n",
       "      <td>0.0</td>\n",
       "    </tr>\n",
       "    <tr>\n",
       "      <th>175196</th>\n",
       "      <td>0.656156</td>\n",
       "      <td>0.0</td>\n",
       "      <td>0.343844</td>\n",
       "      <td>0.0</td>\n",
       "      <td>0.318841</td>\n",
       "      <td>0.923407</td>\n",
       "      <td>0.340492</td>\n",
       "      <td>0.0</td>\n",
       "      <td>0.365079</td>\n",
       "      <td>0.924195</td>\n",
       "      <td>...</td>\n",
       "      <td>0.842138</td>\n",
       "      <td>0.911950</td>\n",
       "      <td>0.0</td>\n",
       "      <td>0.350000</td>\n",
       "      <td>0.833990</td>\n",
       "      <td>0.919753</td>\n",
       "      <td>0.0</td>\n",
       "      <td>0.103448</td>\n",
       "      <td>0.200758</td>\n",
       "      <td>0.0</td>\n",
       "    </tr>\n",
       "    <tr>\n",
       "      <th>175197</th>\n",
       "      <td>0.692192</td>\n",
       "      <td>0.0</td>\n",
       "      <td>0.307808</td>\n",
       "      <td>0.0</td>\n",
       "      <td>0.326087</td>\n",
       "      <td>0.934119</td>\n",
       "      <td>0.302226</td>\n",
       "      <td>0.0</td>\n",
       "      <td>0.293651</td>\n",
       "      <td>0.935748</td>\n",
       "      <td>...</td>\n",
       "      <td>0.860844</td>\n",
       "      <td>0.905660</td>\n",
       "      <td>0.0</td>\n",
       "      <td>0.333333</td>\n",
       "      <td>0.853510</td>\n",
       "      <td>0.925926</td>\n",
       "      <td>0.0</td>\n",
       "      <td>0.086207</td>\n",
       "      <td>0.185606</td>\n",
       "      <td>0.0</td>\n",
       "    </tr>\n",
       "    <tr>\n",
       "      <th>175198</th>\n",
       "      <td>0.727102</td>\n",
       "      <td>0.0</td>\n",
       "      <td>0.272898</td>\n",
       "      <td>0.0</td>\n",
       "      <td>0.282609</td>\n",
       "      <td>0.944296</td>\n",
       "      <td>0.267864</td>\n",
       "      <td>0.0</td>\n",
       "      <td>0.277778</td>\n",
       "      <td>0.945597</td>\n",
       "      <td>...</td>\n",
       "      <td>0.883671</td>\n",
       "      <td>0.905660</td>\n",
       "      <td>0.0</td>\n",
       "      <td>0.300000</td>\n",
       "      <td>0.877346</td>\n",
       "      <td>0.944444</td>\n",
       "      <td>0.0</td>\n",
       "      <td>0.068966</td>\n",
       "      <td>0.155303</td>\n",
       "      <td>0.0</td>\n",
       "    </tr>\n",
       "    <tr>\n",
       "      <th>175199</th>\n",
       "      <td>0.775526</td>\n",
       "      <td>0.0</td>\n",
       "      <td>0.224474</td>\n",
       "      <td>0.0</td>\n",
       "      <td>0.246377</td>\n",
       "      <td>0.956615</td>\n",
       "      <td>0.219836</td>\n",
       "      <td>0.0</td>\n",
       "      <td>0.238095</td>\n",
       "      <td>0.958428</td>\n",
       "      <td>...</td>\n",
       "      <td>0.908870</td>\n",
       "      <td>0.899371</td>\n",
       "      <td>0.0</td>\n",
       "      <td>0.250000</td>\n",
       "      <td>0.903841</td>\n",
       "      <td>0.944444</td>\n",
       "      <td>0.0</td>\n",
       "      <td>0.063218</td>\n",
       "      <td>0.128788</td>\n",
       "      <td>0.0</td>\n",
       "    </tr>\n",
       "  </tbody>\n",
       "</table>\n",
       "<p>175200 rows × 131 columns</p>\n",
       "</div>\n",
       "      <button class=\"colab-df-convert\" onclick=\"convertToInteractive('df-0db91c8a-200e-45e2-a41f-6db783c45570')\"\n",
       "              title=\"Convert this dataframe to an interactive table.\"\n",
       "              style=\"display:none;\">\n",
       "        \n",
       "  <svg xmlns=\"http://www.w3.org/2000/svg\" height=\"24px\"viewBox=\"0 0 24 24\"\n",
       "       width=\"24px\">\n",
       "    <path d=\"M0 0h24v24H0V0z\" fill=\"none\"/>\n",
       "    <path d=\"M18.56 5.44l.94 2.06.94-2.06 2.06-.94-2.06-.94-.94-2.06-.94 2.06-2.06.94zm-11 1L8.5 8.5l.94-2.06 2.06-.94-2.06-.94L8.5 2.5l-.94 2.06-2.06.94zm10 10l.94 2.06.94-2.06 2.06-.94-2.06-.94-.94-2.06-.94 2.06-2.06.94z\"/><path d=\"M17.41 7.96l-1.37-1.37c-.4-.4-.92-.59-1.43-.59-.52 0-1.04.2-1.43.59L10.3 9.45l-7.72 7.72c-.78.78-.78 2.05 0 2.83L4 21.41c.39.39.9.59 1.41.59.51 0 1.02-.2 1.41-.59l7.78-7.78 2.81-2.81c.8-.78.8-2.07 0-2.86zM5.41 20L4 18.59l7.72-7.72 1.47 1.35L5.41 20z\"/>\n",
       "  </svg>\n",
       "      </button>\n",
       "      \n",
       "  <style>\n",
       "    .colab-df-container {\n",
       "      display:flex;\n",
       "      flex-wrap:wrap;\n",
       "      gap: 12px;\n",
       "    }\n",
       "\n",
       "    .colab-df-convert {\n",
       "      background-color: #E8F0FE;\n",
       "      border: none;\n",
       "      border-radius: 50%;\n",
       "      cursor: pointer;\n",
       "      display: none;\n",
       "      fill: #1967D2;\n",
       "      height: 32px;\n",
       "      padding: 0 0 0 0;\n",
       "      width: 32px;\n",
       "    }\n",
       "\n",
       "    .colab-df-convert:hover {\n",
       "      background-color: #E2EBFA;\n",
       "      box-shadow: 0px 1px 2px rgba(60, 64, 67, 0.3), 0px 1px 3px 1px rgba(60, 64, 67, 0.15);\n",
       "      fill: #174EA6;\n",
       "    }\n",
       "\n",
       "    [theme=dark] .colab-df-convert {\n",
       "      background-color: #3B4455;\n",
       "      fill: #D2E3FC;\n",
       "    }\n",
       "\n",
       "    [theme=dark] .colab-df-convert:hover {\n",
       "      background-color: #434B5C;\n",
       "      box-shadow: 0px 1px 3px 1px rgba(0, 0, 0, 0.15);\n",
       "      filter: drop-shadow(0px 1px 2px rgba(0, 0, 0, 0.3));\n",
       "      fill: #FFFFFF;\n",
       "    }\n",
       "  </style>\n",
       "\n",
       "      <script>\n",
       "        const buttonEl =\n",
       "          document.querySelector('#df-0db91c8a-200e-45e2-a41f-6db783c45570 button.colab-df-convert');\n",
       "        buttonEl.style.display =\n",
       "          google.colab.kernel.accessAllowed ? 'block' : 'none';\n",
       "\n",
       "        async function convertToInteractive(key) {\n",
       "          const element = document.querySelector('#df-0db91c8a-200e-45e2-a41f-6db783c45570');\n",
       "          const dataTable =\n",
       "            await google.colab.kernel.invokeFunction('convertToInteractive',\n",
       "                                                     [key], {});\n",
       "          if (!dataTable) return;\n",
       "\n",
       "          const docLinkHtml = 'Like what you see? Visit the ' +\n",
       "            '<a target=\"_blank\" href=https://colab.research.google.com/notebooks/data_table.ipynb>data table notebook</a>'\n",
       "            + ' to learn more about interactive tables.';\n",
       "          element.innerHTML = '';\n",
       "          dataTable['output_type'] = 'display_data';\n",
       "          await google.colab.output.renderOutput(dataTable, element);\n",
       "          const docLink = document.createElement('div');\n",
       "          docLink.innerHTML = docLinkHtml;\n",
       "          element.appendChild(docLink);\n",
       "        }\n",
       "      </script>\n",
       "    </div>\n",
       "  </div>\n",
       "  "
      ],
      "text/plain": [
       "        D_node-1  P_Node-1  F_Link-1  Leak_Node-1  D_node-2  P_Node-2  \\\n",
       "0       0.848724       0.0  0.151276          0.0  0.181159  0.961435   \n",
       "1       0.894144       0.0  0.105856          0.0  0.195652  0.973219   \n",
       "2       0.926802       0.0  0.073198          0.0  0.137681  0.980718   \n",
       "3       0.953453       0.0  0.046547          0.0  0.101449  0.986610   \n",
       "4       0.974474       0.0  0.025526          0.0  0.108696  0.990894   \n",
       "...          ...       ...       ...          ...       ...       ...   \n",
       "175195  0.624625       0.0  0.375375          0.0  0.362319  0.913230   \n",
       "175196  0.656156       0.0  0.343844          0.0  0.318841  0.923407   \n",
       "175197  0.692192       0.0  0.307808          0.0  0.326087  0.934119   \n",
       "175198  0.727102       0.0  0.272898          0.0  0.282609  0.944296   \n",
       "175199  0.775526       0.0  0.224474          0.0  0.246377  0.956615   \n",
       "\n",
       "        F_Link-2  Leak_Node-2  D_node-3  P_Node-3  ...  P_Node-31  F_Link-31  \\\n",
       "0       0.147599          0.0  0.166667  0.911553  ...   0.917526   0.867925   \n",
       "1       0.098790          0.0  0.103175  0.936695  ...   0.942458   0.861635   \n",
       "2       0.068333          0.0  0.087302  0.950994  ...   0.956807   0.855346   \n",
       "3       0.042171          0.0  0.063492  0.962074  ...   0.967894   0.855346   \n",
       "4       0.020305          0.0  0.055556  0.970644  ...   0.976343   0.849057   \n",
       "...          ...          ...       ...       ...  ...        ...        ...   \n",
       "175195  0.370558          0.0  0.404762  0.914441  ...   0.822187   0.924528   \n",
       "175196  0.340492          0.0  0.365079  0.924195  ...   0.842138   0.911950   \n",
       "175197  0.302226          0.0  0.293651  0.935748  ...   0.860844   0.905660   \n",
       "175198  0.267864          0.0  0.277778  0.945597  ...   0.883671   0.905660   \n",
       "175199  0.219836          0.0  0.238095  0.958428  ...   0.908870   0.899371   \n",
       "\n",
       "        Leak_Node-31  D_node-32  P_Node-32  F_Link-32  Leak_Node-32  \\\n",
       "0                0.0   0.200000   0.913288   0.932099           0.0   \n",
       "1                0.0   0.150000   0.939471   0.938272           0.0   \n",
       "2                0.0   0.158333   0.954298   0.956790           0.0   \n",
       "3                0.0   0.116667   0.966091   0.950617           0.0   \n",
       "4                0.0   0.100000   0.974850   0.956790           0.0   \n",
       "...              ...        ...        ...        ...           ...   \n",
       "175195           0.0   0.400000   0.812875   0.925926           0.0   \n",
       "175196           0.0   0.350000   0.833990   0.919753           0.0   \n",
       "175197           0.0   0.333333   0.853510   0.925926           0.0   \n",
       "175198           0.0   0.300000   0.877346   0.944444           0.0   \n",
       "175199           0.0   0.250000   0.903841   0.944444           0.0   \n",
       "\n",
       "        F_Link-33  F_Link-34  Leak  \n",
       "0        0.074713   0.113636   0.0  \n",
       "1        0.063218   0.083333   0.0  \n",
       "2        0.040230   0.071970   0.0  \n",
       "3        0.045977   0.056818   0.0  \n",
       "4        0.040230   0.045455   0.0  \n",
       "...           ...        ...   ...  \n",
       "175195   0.097701   0.219697   0.0  \n",
       "175196   0.103448   0.200758   0.0  \n",
       "175197   0.086207   0.185606   0.0  \n",
       "175198   0.068966   0.155303   0.0  \n",
       "175199   0.063218   0.128788   0.0  \n",
       "\n",
       "[175200 rows x 131 columns]"
      ]
     },
     "execution_count": 4,
     "metadata": {},
     "output_type": "execute_result"
    }
   ],
   "source": [
    "df.fillna(0, inplace = True)\n",
    "df.drop('Unnamed: 0',axis=1, inplace=True)\n",
    "df"
   ]
  },
  {
   "cell_type": "markdown",
   "metadata": {
    "id": "jhXL9AXZVHXI"
   },
   "source": [
    "INPUTS"
   ]
  },
  {
   "cell_type": "code",
   "execution_count": null,
   "metadata": {
    "id": "S_r6ljsuVQg1"
   },
   "outputs": [],
   "source": [
    "lcols=[]\n",
    "for i in range(32):\n",
    "\tcol= f'Leak_Node-{i+1}'\n",
    "\tlcols.append(col)"
   ]
  },
  {
   "cell_type": "code",
   "execution_count": null,
   "metadata": {
    "id": "Zgp1r0rpWbWZ"
   },
   "outputs": [],
   "source": [
    "dcols=[]\n",
    "for i in range(32):\n",
    "\tcol= f'D_node-{i+1}'\n",
    "\tdcols.append(col)"
   ]
  },
  {
   "cell_type": "code",
   "execution_count": null,
   "metadata": {
    "id": "outwOB3RvKJU"
   },
   "outputs": [],
   "source": [
    "fcols=[]\n",
    "for i in range(34):\n",
    "\tcol= f'F_Link-{i+1}'\n",
    "\tfcols.append(col)"
   ]
  },
  {
   "cell_type": "code",
   "execution_count": null,
   "metadata": {
    "id": "wIM74IO3vJr4"
   },
   "outputs": [],
   "source": [
    "pcols=[]\n",
    "for i in range(32):\n",
    "\tcol= f'P_Node-{i+1}'\n",
    "\tpcols.append(col)"
   ]
  },
  {
   "cell_type": "code",
   "execution_count": null,
   "metadata": {
    "id": "4P8sKJNETcRf"
   },
   "outputs": [],
   "source": [
    "X = df.copy()\n",
    "X.drop(lcols, axis=1,inplace=True)\n",
    "X.drop(dcols, axis=1,inplace=True)\n",
    "X.drop('Leak', axis=1,inplace=True)"
   ]
  },
  {
   "cell_type": "code",
   "execution_count": null,
   "metadata": {
    "colab": {
     "base_uri": "https://localhost:8080/"
    },
    "id": "orDUr8UpVkep",
    "outputId": "9f9b7429-ff98-4a3a-c3b2-53b854a84ac8"
   },
   "outputs": [
    {
     "data": {
      "text/plain": [
       "Index(['P_Node-1', 'F_Link-1', 'P_Node-2', 'F_Link-2', 'P_Node-3', 'F_Link-3',\n",
       "       'P_Node-4', 'F_Link-4', 'P_Node-5', 'F_Link-5', 'P_Node-6', 'F_Link-6',\n",
       "       'P_Node-7', 'F_Link-7', 'P_Node-8', 'F_Link-8', 'P_Node-9', 'F_Link-9',\n",
       "       'P_Node-10', 'F_Link-10', 'P_Node-11', 'F_Link-11', 'P_Node-12',\n",
       "       'F_Link-12', 'P_Node-13', 'F_Link-13', 'P_Node-14', 'F_Link-14',\n",
       "       'P_Node-15', 'F_Link-15', 'P_Node-16', 'F_Link-16', 'P_Node-17',\n",
       "       'F_Link-17', 'P_Node-18', 'F_Link-18', 'P_Node-19', 'F_Link-19',\n",
       "       'P_Node-20', 'F_Link-20', 'P_Node-21', 'F_Link-21', 'P_Node-22',\n",
       "       'F_Link-22', 'P_Node-23', 'F_Link-23', 'P_Node-24', 'F_Link-24',\n",
       "       'P_Node-25', 'F_Link-25', 'P_Node-26', 'F_Link-26', 'P_Node-27',\n",
       "       'F_Link-27', 'P_Node-28', 'F_Link-28', 'P_Node-29', 'F_Link-29',\n",
       "       'P_Node-30', 'F_Link-30', 'P_Node-31', 'F_Link-31', 'P_Node-32',\n",
       "       'F_Link-32', 'F_Link-33', 'F_Link-34'],\n",
       "      dtype='object')"
      ]
     },
     "execution_count": 10,
     "metadata": {},
     "output_type": "execute_result"
    }
   ],
   "source": [
    "X.columns"
   ]
  },
  {
   "cell_type": "code",
   "execution_count": null,
   "metadata": {
    "id": "LqRko3U5V3bU"
   },
   "outputs": [],
   "source": [
    "y = df[['Leak']].copy()"
   ]
  },
  {
   "cell_type": "code",
   "execution_count": null,
   "metadata": {
    "colab": {
     "base_uri": "https://localhost:8080/"
    },
    "id": "r79zSzLBXUKE",
    "outputId": "310c0b0a-eb49-45b7-fed7-be47c1002f19"
   },
   "outputs": [
    {
     "data": {
      "text/plain": [
       "Index(['Leak'], dtype='object')"
      ]
     },
     "execution_count": 12,
     "metadata": {},
     "output_type": "execute_result"
    }
   ],
   "source": [
    "y.columns"
   ]
  },
  {
   "cell_type": "code",
   "execution_count": null,
   "metadata": {
    "id": "O5fJ28eJXWV5"
   },
   "outputs": [],
   "source": [
    "#splitting testing and training data\n",
    "\n",
    "from sklearn.model_selection import train_test_split\n",
    "X_train, X_test, y_train, y_test = train_test_split(X, y, test_size=0.33)"
   ]
  },
  {
   "cell_type": "markdown",
   "metadata": {
    "id": "XWpgQaPPYIMv"
   },
   "source": [
    "Random Forest"
   ]
  },
  {
   "cell_type": "code",
   "execution_count": null,
   "metadata": {
    "colab": {
     "base_uri": "https://localhost:8080/"
    },
    "id": "W2X_9ALXXyic",
    "outputId": "f3bdd68d-6e07-4351-f031-f06296fe1513"
   },
   "outputs": [
    {
     "name": "stderr",
     "output_type": "stream",
     "text": [
      "<ipython-input-26-ad55e8953be3>:3: DataConversionWarning: A column-vector y was passed when a 1d array was expected. Please change the shape of y to (n_samples,), for example using ravel().\n",
      "  clf = clf.fit(X_train, y_train)\n"
     ]
    }
   ],
   "source": [
    "from sklearn.ensemble import RandomForestClassifier\n",
    "clf = RandomForestClassifier()\n",
    "clf = clf.fit(X_train, y_train)"
   ]
  },
  {
   "cell_type": "code",
   "execution_count": null,
   "metadata": {
    "colab": {
     "base_uri": "https://localhost:8080/"
    },
    "id": "0A1gF--sYycJ",
    "outputId": "b8fa9eec-1aa2-459b-e5c7-5c8e066671c0"
   },
   "outputs": [
    {
     "data": {
      "text/plain": [
       "{'bootstrap': True,\n",
       " 'ccp_alpha': 0.0,\n",
       " 'class_weight': None,\n",
       " 'criterion': 'gini',\n",
       " 'max_depth': None,\n",
       " 'max_features': 'sqrt',\n",
       " 'max_leaf_nodes': None,\n",
       " 'max_samples': None,\n",
       " 'min_impurity_decrease': 0.0,\n",
       " 'min_samples_leaf': 1,\n",
       " 'min_samples_split': 2,\n",
       " 'min_weight_fraction_leaf': 0.0,\n",
       " 'n_estimators': 100,\n",
       " 'n_jobs': None,\n",
       " 'oob_score': False,\n",
       " 'random_state': None,\n",
       " 'verbose': 0,\n",
       " 'warm_start': False}"
      ]
     },
     "execution_count": 27,
     "metadata": {},
     "output_type": "execute_result"
    }
   ],
   "source": [
    "clf.get_params()"
   ]
  },
  {
   "cell_type": "code",
   "execution_count": null,
   "metadata": {
    "colab": {
     "base_uri": "https://localhost:8080/",
     "height": 505
    },
    "id": "YFY58CyEeWO0",
    "outputId": "d4d79e40-726b-4a87-a2e6-df07b4c74623"
   },
   "outputs": [
    {
     "data": {
      "text/html": [
       "\n",
       "  <div id=\"df-9c411457-c81e-4498-8da3-2edff1ae7b5f\">\n",
       "    <div class=\"colab-df-container\">\n",
       "      <div>\n",
       "<style scoped>\n",
       "    .dataframe tbody tr th:only-of-type {\n",
       "        vertical-align: middle;\n",
       "    }\n",
       "\n",
       "    .dataframe tbody tr th {\n",
       "        vertical-align: top;\n",
       "    }\n",
       "\n",
       "    .dataframe thead th {\n",
       "        text-align: right;\n",
       "    }\n",
       "</style>\n",
       "<table border=\"1\" class=\"dataframe\">\n",
       "  <thead>\n",
       "    <tr style=\"text-align: right;\">\n",
       "      <th></th>\n",
       "      <th>P_Node-1</th>\n",
       "      <th>F_Link-1</th>\n",
       "      <th>P_Node-2</th>\n",
       "      <th>F_Link-2</th>\n",
       "      <th>P_Node-3</th>\n",
       "      <th>F_Link-3</th>\n",
       "      <th>P_Node-4</th>\n",
       "      <th>F_Link-4</th>\n",
       "      <th>P_Node-5</th>\n",
       "      <th>F_Link-5</th>\n",
       "      <th>...</th>\n",
       "      <th>P_Node-29</th>\n",
       "      <th>F_Link-29</th>\n",
       "      <th>P_Node-30</th>\n",
       "      <th>F_Link-30</th>\n",
       "      <th>P_Node-31</th>\n",
       "      <th>F_Link-31</th>\n",
       "      <th>P_Node-32</th>\n",
       "      <th>F_Link-32</th>\n",
       "      <th>F_Link-33</th>\n",
       "      <th>F_Link-34</th>\n",
       "    </tr>\n",
       "  </thead>\n",
       "  <tbody>\n",
       "    <tr>\n",
       "      <th>101740</th>\n",
       "      <td>0.0</td>\n",
       "      <td>0.362988</td>\n",
       "      <td>0.685592</td>\n",
       "      <td>0.358454</td>\n",
       "      <td>0.804167</td>\n",
       "      <td>0.321849</td>\n",
       "      <td>0.801195</td>\n",
       "      <td>0.319492</td>\n",
       "      <td>0.815698</td>\n",
       "      <td>0.306050</td>\n",
       "      <td>...</td>\n",
       "      <td>0.868037</td>\n",
       "      <td>0.118687</td>\n",
       "      <td>0.801117</td>\n",
       "      <td>0.827411</td>\n",
       "      <td>0.793964</td>\n",
       "      <td>0.899371</td>\n",
       "      <td>0.784722</td>\n",
       "      <td>0.901235</td>\n",
       "      <td>0.120690</td>\n",
       "      <td>0.246212</td>\n",
       "    </tr>\n",
       "    <tr>\n",
       "      <th>1910</th>\n",
       "      <td>0.0</td>\n",
       "      <td>0.489865</td>\n",
       "      <td>0.831280</td>\n",
       "      <td>0.479110</td>\n",
       "      <td>0.657907</td>\n",
       "      <td>0.462185</td>\n",
       "      <td>0.636733</td>\n",
       "      <td>0.460169</td>\n",
       "      <td>0.650832</td>\n",
       "      <td>0.432384</td>\n",
       "      <td>...</td>\n",
       "      <td>0.781127</td>\n",
       "      <td>0.143939</td>\n",
       "      <td>0.674891</td>\n",
       "      <td>0.852792</td>\n",
       "      <td>0.661449</td>\n",
       "      <td>0.886792</td>\n",
       "      <td>0.645802</td>\n",
       "      <td>0.845679</td>\n",
       "      <td>0.172414</td>\n",
       "      <td>0.314394</td>\n",
       "    </tr>\n",
       "    <tr>\n",
       "      <th>136958</th>\n",
       "      <td>0.0</td>\n",
       "      <td>0.423799</td>\n",
       "      <td>0.910552</td>\n",
       "      <td>0.420539</td>\n",
       "      <td>0.716146</td>\n",
       "      <td>0.378992</td>\n",
       "      <td>0.670528</td>\n",
       "      <td>0.377966</td>\n",
       "      <td>0.679679</td>\n",
       "      <td>0.368327</td>\n",
       "      <td>...</td>\n",
       "      <td>0.777950</td>\n",
       "      <td>0.080808</td>\n",
       "      <td>0.676848</td>\n",
       "      <td>0.751269</td>\n",
       "      <td>0.667141</td>\n",
       "      <td>0.767296</td>\n",
       "      <td>0.655061</td>\n",
       "      <td>0.771605</td>\n",
       "      <td>0.252874</td>\n",
       "      <td>0.306818</td>\n",
       "    </tr>\n",
       "    <tr>\n",
       "      <th>32402</th>\n",
       "      <td>0.0</td>\n",
       "      <td>0.076952</td>\n",
       "      <td>0.968399</td>\n",
       "      <td>0.071066</td>\n",
       "      <td>0.983949</td>\n",
       "      <td>0.072269</td>\n",
       "      <td>0.984083</td>\n",
       "      <td>0.070339</td>\n",
       "      <td>0.984426</td>\n",
       "      <td>0.071174</td>\n",
       "      <td>...</td>\n",
       "      <td>0.984253</td>\n",
       "      <td>0.030303</td>\n",
       "      <td>0.977143</td>\n",
       "      <td>0.710660</td>\n",
       "      <td>0.976135</td>\n",
       "      <td>0.842767</td>\n",
       "      <td>0.975507</td>\n",
       "      <td>0.932099</td>\n",
       "      <td>0.068966</td>\n",
       "      <td>0.053030</td>\n",
       "    </tr>\n",
       "    <tr>\n",
       "      <th>135165</th>\n",
       "      <td>0.0</td>\n",
       "      <td>0.365240</td>\n",
       "      <td>0.927691</td>\n",
       "      <td>0.364701</td>\n",
       "      <td>0.764015</td>\n",
       "      <td>0.344538</td>\n",
       "      <td>0.723297</td>\n",
       "      <td>0.344068</td>\n",
       "      <td>0.730224</td>\n",
       "      <td>0.334520</td>\n",
       "      <td>...</td>\n",
       "      <td>0.820543</td>\n",
       "      <td>0.068182</td>\n",
       "      <td>0.738472</td>\n",
       "      <td>0.730964</td>\n",
       "      <td>0.730197</td>\n",
       "      <td>0.786164</td>\n",
       "      <td>0.720033</td>\n",
       "      <td>0.808642</td>\n",
       "      <td>0.218391</td>\n",
       "      <td>0.265152</td>\n",
       "    </tr>\n",
       "    <tr>\n",
       "      <th>...</th>\n",
       "      <td>...</td>\n",
       "      <td>...</td>\n",
       "      <td>...</td>\n",
       "      <td>...</td>\n",
       "      <td>...</td>\n",
       "      <td>...</td>\n",
       "      <td>...</td>\n",
       "      <td>...</td>\n",
       "      <td>...</td>\n",
       "      <td>...</td>\n",
       "      <td>...</td>\n",
       "      <td>...</td>\n",
       "      <td>...</td>\n",
       "      <td>...</td>\n",
       "      <td>...</td>\n",
       "      <td>...</td>\n",
       "      <td>...</td>\n",
       "      <td>...</td>\n",
       "      <td>...</td>\n",
       "      <td>...</td>\n",
       "      <td>...</td>\n",
       "    </tr>\n",
       "    <tr>\n",
       "      <th>25594</th>\n",
       "      <td>0.0</td>\n",
       "      <td>0.212087</td>\n",
       "      <td>0.918586</td>\n",
       "      <td>0.204998</td>\n",
       "      <td>0.948390</td>\n",
       "      <td>0.182353</td>\n",
       "      <td>0.945818</td>\n",
       "      <td>0.179661</td>\n",
       "      <td>0.944976</td>\n",
       "      <td>0.175267</td>\n",
       "      <td>...</td>\n",
       "      <td>0.951073</td>\n",
       "      <td>0.063131</td>\n",
       "      <td>0.927202</td>\n",
       "      <td>0.751269</td>\n",
       "      <td>0.924048</td>\n",
       "      <td>0.867925</td>\n",
       "      <td>0.921390</td>\n",
       "      <td>0.913580</td>\n",
       "      <td>0.091954</td>\n",
       "      <td>0.117424</td>\n",
       "    </tr>\n",
       "    <tr>\n",
       "      <th>82497</th>\n",
       "      <td>0.0</td>\n",
       "      <td>0.397523</td>\n",
       "      <td>0.932512</td>\n",
       "      <td>0.391253</td>\n",
       "      <td>0.722017</td>\n",
       "      <td>0.318487</td>\n",
       "      <td>0.721153</td>\n",
       "      <td>0.316949</td>\n",
       "      <td>0.714855</td>\n",
       "      <td>0.298043</td>\n",
       "      <td>...</td>\n",
       "      <td>0.829899</td>\n",
       "      <td>0.111111</td>\n",
       "      <td>0.744711</td>\n",
       "      <td>0.807107</td>\n",
       "      <td>0.733517</td>\n",
       "      <td>0.893082</td>\n",
       "      <td>0.719376</td>\n",
       "      <td>0.919753</td>\n",
       "      <td>0.103448</td>\n",
       "      <td>0.238636</td>\n",
       "    </tr>\n",
       "    <tr>\n",
       "      <th>119315</th>\n",
       "      <td>0.0</td>\n",
       "      <td>0.369369</td>\n",
       "      <td>0.850562</td>\n",
       "      <td>0.366263</td>\n",
       "      <td>0.835606</td>\n",
       "      <td>0.310084</td>\n",
       "      <td>0.822631</td>\n",
       "      <td>0.308475</td>\n",
       "      <td>0.814218</td>\n",
       "      <td>0.290925</td>\n",
       "      <td>...</td>\n",
       "      <td>0.881111</td>\n",
       "      <td>0.098485</td>\n",
       "      <td>0.824769</td>\n",
       "      <td>0.802030</td>\n",
       "      <td>0.819430</td>\n",
       "      <td>0.867925</td>\n",
       "      <td>0.815878</td>\n",
       "      <td>0.833333</td>\n",
       "      <td>0.183908</td>\n",
       "      <td>0.223485</td>\n",
       "    </tr>\n",
       "    <tr>\n",
       "      <th>74737</th>\n",
       "      <td>0.0</td>\n",
       "      <td>0.398273</td>\n",
       "      <td>0.931976</td>\n",
       "      <td>0.400625</td>\n",
       "      <td>0.713731</td>\n",
       "      <td>0.167227</td>\n",
       "      <td>0.720423</td>\n",
       "      <td>0.166102</td>\n",
       "      <td>0.732854</td>\n",
       "      <td>0.159253</td>\n",
       "      <td>...</td>\n",
       "      <td>0.834721</td>\n",
       "      <td>0.063131</td>\n",
       "      <td>0.757189</td>\n",
       "      <td>0.741117</td>\n",
       "      <td>0.746591</td>\n",
       "      <td>0.855346</td>\n",
       "      <td>0.732952</td>\n",
       "      <td>0.913580</td>\n",
       "      <td>0.091954</td>\n",
       "      <td>0.136364</td>\n",
       "    </tr>\n",
       "    <tr>\n",
       "      <th>55532</th>\n",
       "      <td>0.0</td>\n",
       "      <td>0.316441</td>\n",
       "      <td>0.848956</td>\n",
       "      <td>0.312768</td>\n",
       "      <td>0.923106</td>\n",
       "      <td>0.267227</td>\n",
       "      <td>0.911429</td>\n",
       "      <td>0.266102</td>\n",
       "      <td>0.904993</td>\n",
       "      <td>0.250000</td>\n",
       "      <td>...</td>\n",
       "      <td>0.934377</td>\n",
       "      <td>0.098485</td>\n",
       "      <td>0.899892</td>\n",
       "      <td>0.796954</td>\n",
       "      <td>0.895737</td>\n",
       "      <td>0.880503</td>\n",
       "      <td>0.890953</td>\n",
       "      <td>0.907407</td>\n",
       "      <td>0.114943</td>\n",
       "      <td>0.196970</td>\n",
       "    </tr>\n",
       "  </tbody>\n",
       "</table>\n",
       "<p>57816 rows × 66 columns</p>\n",
       "</div>\n",
       "      <button class=\"colab-df-convert\" onclick=\"convertToInteractive('df-9c411457-c81e-4498-8da3-2edff1ae7b5f')\"\n",
       "              title=\"Convert this dataframe to an interactive table.\"\n",
       "              style=\"display:none;\">\n",
       "        \n",
       "  <svg xmlns=\"http://www.w3.org/2000/svg\" height=\"24px\"viewBox=\"0 0 24 24\"\n",
       "       width=\"24px\">\n",
       "    <path d=\"M0 0h24v24H0V0z\" fill=\"none\"/>\n",
       "    <path d=\"M18.56 5.44l.94 2.06.94-2.06 2.06-.94-2.06-.94-.94-2.06-.94 2.06-2.06.94zm-11 1L8.5 8.5l.94-2.06 2.06-.94-2.06-.94L8.5 2.5l-.94 2.06-2.06.94zm10 10l.94 2.06.94-2.06 2.06-.94-2.06-.94-.94-2.06-.94 2.06-2.06.94z\"/><path d=\"M17.41 7.96l-1.37-1.37c-.4-.4-.92-.59-1.43-.59-.52 0-1.04.2-1.43.59L10.3 9.45l-7.72 7.72c-.78.78-.78 2.05 0 2.83L4 21.41c.39.39.9.59 1.41.59.51 0 1.02-.2 1.41-.59l7.78-7.78 2.81-2.81c.8-.78.8-2.07 0-2.86zM5.41 20L4 18.59l7.72-7.72 1.47 1.35L5.41 20z\"/>\n",
       "  </svg>\n",
       "      </button>\n",
       "      \n",
       "  <style>\n",
       "    .colab-df-container {\n",
       "      display:flex;\n",
       "      flex-wrap:wrap;\n",
       "      gap: 12px;\n",
       "    }\n",
       "\n",
       "    .colab-df-convert {\n",
       "      background-color: #E8F0FE;\n",
       "      border: none;\n",
       "      border-radius: 50%;\n",
       "      cursor: pointer;\n",
       "      display: none;\n",
       "      fill: #1967D2;\n",
       "      height: 32px;\n",
       "      padding: 0 0 0 0;\n",
       "      width: 32px;\n",
       "    }\n",
       "\n",
       "    .colab-df-convert:hover {\n",
       "      background-color: #E2EBFA;\n",
       "      box-shadow: 0px 1px 2px rgba(60, 64, 67, 0.3), 0px 1px 3px 1px rgba(60, 64, 67, 0.15);\n",
       "      fill: #174EA6;\n",
       "    }\n",
       "\n",
       "    [theme=dark] .colab-df-convert {\n",
       "      background-color: #3B4455;\n",
       "      fill: #D2E3FC;\n",
       "    }\n",
       "\n",
       "    [theme=dark] .colab-df-convert:hover {\n",
       "      background-color: #434B5C;\n",
       "      box-shadow: 0px 1px 3px 1px rgba(0, 0, 0, 0.15);\n",
       "      filter: drop-shadow(0px 1px 2px rgba(0, 0, 0, 0.3));\n",
       "      fill: #FFFFFF;\n",
       "    }\n",
       "  </style>\n",
       "\n",
       "      <script>\n",
       "        const buttonEl =\n",
       "          document.querySelector('#df-9c411457-c81e-4498-8da3-2edff1ae7b5f button.colab-df-convert');\n",
       "        buttonEl.style.display =\n",
       "          google.colab.kernel.accessAllowed ? 'block' : 'none';\n",
       "\n",
       "        async function convertToInteractive(key) {\n",
       "          const element = document.querySelector('#df-9c411457-c81e-4498-8da3-2edff1ae7b5f');\n",
       "          const dataTable =\n",
       "            await google.colab.kernel.invokeFunction('convertToInteractive',\n",
       "                                                     [key], {});\n",
       "          if (!dataTable) return;\n",
       "\n",
       "          const docLinkHtml = 'Like what you see? Visit the ' +\n",
       "            '<a target=\"_blank\" href=https://colab.research.google.com/notebooks/data_table.ipynb>data table notebook</a>'\n",
       "            + ' to learn more about interactive tables.';\n",
       "          element.innerHTML = '';\n",
       "          dataTable['output_type'] = 'display_data';\n",
       "          await google.colab.output.renderOutput(dataTable, element);\n",
       "          const docLink = document.createElement('div');\n",
       "          docLink.innerHTML = docLinkHtml;\n",
       "          element.appendChild(docLink);\n",
       "        }\n",
       "      </script>\n",
       "    </div>\n",
       "  </div>\n",
       "  "
      ],
      "text/plain": [
       "        P_Node-1  F_Link-1  P_Node-2  F_Link-2  P_Node-3  F_Link-3  P_Node-4  \\\n",
       "101740       0.0  0.362988  0.685592  0.358454  0.804167  0.321849  0.801195   \n",
       "1910         0.0  0.489865  0.831280  0.479110  0.657907  0.462185  0.636733   \n",
       "136958       0.0  0.423799  0.910552  0.420539  0.716146  0.378992  0.670528   \n",
       "32402        0.0  0.076952  0.968399  0.071066  0.983949  0.072269  0.984083   \n",
       "135165       0.0  0.365240  0.927691  0.364701  0.764015  0.344538  0.723297   \n",
       "...          ...       ...       ...       ...       ...       ...       ...   \n",
       "25594        0.0  0.212087  0.918586  0.204998  0.948390  0.182353  0.945818   \n",
       "82497        0.0  0.397523  0.932512  0.391253  0.722017  0.318487  0.721153   \n",
       "119315       0.0  0.369369  0.850562  0.366263  0.835606  0.310084  0.822631   \n",
       "74737        0.0  0.398273  0.931976  0.400625  0.713731  0.167227  0.720423   \n",
       "55532        0.0  0.316441  0.848956  0.312768  0.923106  0.267227  0.911429   \n",
       "\n",
       "        F_Link-4  P_Node-5  F_Link-5  ...  P_Node-29  F_Link-29  P_Node-30  \\\n",
       "101740  0.319492  0.815698  0.306050  ...   0.868037   0.118687   0.801117   \n",
       "1910    0.460169  0.650832  0.432384  ...   0.781127   0.143939   0.674891   \n",
       "136958  0.377966  0.679679  0.368327  ...   0.777950   0.080808   0.676848   \n",
       "32402   0.070339  0.984426  0.071174  ...   0.984253   0.030303   0.977143   \n",
       "135165  0.344068  0.730224  0.334520  ...   0.820543   0.068182   0.738472   \n",
       "...          ...       ...       ...  ...        ...        ...        ...   \n",
       "25594   0.179661  0.944976  0.175267  ...   0.951073   0.063131   0.927202   \n",
       "82497   0.316949  0.714855  0.298043  ...   0.829899   0.111111   0.744711   \n",
       "119315  0.308475  0.814218  0.290925  ...   0.881111   0.098485   0.824769   \n",
       "74737   0.166102  0.732854  0.159253  ...   0.834721   0.063131   0.757189   \n",
       "55532   0.266102  0.904993  0.250000  ...   0.934377   0.098485   0.899892   \n",
       "\n",
       "        F_Link-30  P_Node-31  F_Link-31  P_Node-32  F_Link-32  F_Link-33  \\\n",
       "101740   0.827411   0.793964   0.899371   0.784722   0.901235   0.120690   \n",
       "1910     0.852792   0.661449   0.886792   0.645802   0.845679   0.172414   \n",
       "136958   0.751269   0.667141   0.767296   0.655061   0.771605   0.252874   \n",
       "32402    0.710660   0.976135   0.842767   0.975507   0.932099   0.068966   \n",
       "135165   0.730964   0.730197   0.786164   0.720033   0.808642   0.218391   \n",
       "...           ...        ...        ...        ...        ...        ...   \n",
       "25594    0.751269   0.924048   0.867925   0.921390   0.913580   0.091954   \n",
       "82497    0.807107   0.733517   0.893082   0.719376   0.919753   0.103448   \n",
       "119315   0.802030   0.819430   0.867925   0.815878   0.833333   0.183908   \n",
       "74737    0.741117   0.746591   0.855346   0.732952   0.913580   0.091954   \n",
       "55532    0.796954   0.895737   0.880503   0.890953   0.907407   0.114943   \n",
       "\n",
       "        F_Link-34  \n",
       "101740   0.246212  \n",
       "1910     0.314394  \n",
       "136958   0.306818  \n",
       "32402    0.053030  \n",
       "135165   0.265152  \n",
       "...           ...  \n",
       "25594    0.117424  \n",
       "82497    0.238636  \n",
       "119315   0.223485  \n",
       "74737    0.136364  \n",
       "55532    0.196970  \n",
       "\n",
       "[57816 rows x 66 columns]"
      ]
     },
     "execution_count": 28,
     "metadata": {},
     "output_type": "execute_result"
    }
   ],
   "source": [
    "X_test"
   ]
  },
  {
   "cell_type": "code",
   "execution_count": null,
   "metadata": {
    "colab": {
     "base_uri": "https://localhost:8080/"
    },
    "id": "wzqN8g-IZceI",
    "outputId": "b1be141a-2331-472c-f19f-b778b8206eee"
   },
   "outputs": [
    {
     "data": {
      "text/plain": [
       "array([0., 0., 0., ..., 0., 1., 0.])"
      ]
     },
     "execution_count": 29,
     "metadata": {},
     "output_type": "execute_result"
    }
   ],
   "source": [
    "predictions = clf.predict(X_test)\n",
    "predictions"
   ]
  },
  {
   "cell_type": "code",
   "execution_count": null,
   "metadata": {
    "colab": {
     "base_uri": "https://localhost:8080/",
     "height": 166
    },
    "id": "wglRrfxRaA2O",
    "outputId": "437bd05b-6aed-4288-9ff4-6994381d9414"
   },
   "outputs": [
    {
     "ename": "NameError",
     "evalue": "ignored",
     "output_type": "error",
     "traceback": [
      "\u001b[0;31m---------------------------------------------------------------------------\u001b[0m",
      "\u001b[0;31mNameError\u001b[0m                                 Traceback (most recent call last)",
      "\u001b[0;32m<ipython-input-1-73ecc42441ca>\u001b[0m in \u001b[0;36m<cell line: 1>\u001b[0;34m()\u001b[0m\n\u001b[0;32m----> 1\u001b[0;31m \u001b[0mclf\u001b[0m\u001b[0;34m.\u001b[0m\u001b[0mpredict_proba\u001b[0m\u001b[0;34m(\u001b[0m\u001b[0mX_test\u001b[0m\u001b[0;34m)\u001b[0m\u001b[0;34m\u001b[0m\u001b[0;34m\u001b[0m\u001b[0m\n\u001b[0m",
      "\u001b[0;31mNameError\u001b[0m: name 'clf' is not defined"
     ]
    }
   ],
   "source": [
    "clf.predict_proba(X_test)"
   ]
  },
  {
   "cell_type": "code",
   "execution_count": null,
   "metadata": {
    "id": "yLhOxO8jib44"
   },
   "outputs": [],
   "source": []
  },
  {
   "cell_type": "code",
   "execution_count": null,
   "metadata": {
    "colab": {
     "base_uri": "https://localhost:8080/"
    },
    "id": "UnARtg6iaU09",
    "outputId": "1f010cac-e395-4b63-8657-85bf1523ae56"
   },
   "outputs": [
    {
     "data": {
      "text/plain": [
       "0.9906254324062543"
      ]
     },
     "execution_count": 31,
     "metadata": {},
     "output_type": "execute_result"
    }
   ],
   "source": [
    "from sklearn.metrics import accuracy_score\n",
    "accuracy_score(y_test, predictions)"
   ]
  },
  {
   "cell_type": "code",
   "execution_count": null,
   "metadata": {
    "colab": {
     "base_uri": "https://localhost:8080/"
    },
    "id": "7MZw47uNe_J5",
    "outputId": "60c03646-3f77-4259-9b12-4b2910444fa6"
   },
   "outputs": [
    {
     "data": {
      "text/plain": [
       "0.9248704663212435"
      ]
     },
     "execution_count": 32,
     "metadata": {},
     "output_type": "execute_result"
    }
   ],
   "source": [
    "from sklearn.metrics import recall_score\n",
    "recall_score(y_test, predictions)"
   ]
  },
  {
   "cell_type": "code",
   "execution_count": null,
   "metadata": {
    "colab": {
     "base_uri": "https://localhost:8080/"
    },
    "id": "mSpW0kw-fRSi",
    "outputId": "0fedd1a2-b311-4b6b-c02e-98afa7434503"
   },
   "outputs": [
    {
     "data": {
      "text/plain": [
       "0.9919908466819222"
      ]
     },
     "execution_count": 33,
     "metadata": {},
     "output_type": "execute_result"
    }
   ],
   "source": [
    "from sklearn.metrics import precision_score\n",
    "precision_score(y_test, predictions)"
   ]
  },
  {
   "cell_type": "code",
   "execution_count": null,
   "metadata": {
    "colab": {
     "base_uri": "https://localhost:8080/"
    },
    "id": "QThtB4xPfpTd",
    "outputId": "b616f9f0-eeaf-4d8c-aab9-40ad3c845f7e"
   },
   "outputs": [
    {
     "name": "stdout",
     "output_type": "stream",
     "text": [
      "              precision    recall  f1-score   support\n",
      "\n",
      "         0.0       0.99      1.00      0.99     51254\n",
      "         1.0       0.99      0.92      0.96      6562\n",
      "\n",
      "    accuracy                           0.99     57816\n",
      "   macro avg       0.99      0.96      0.98     57816\n",
      "weighted avg       0.99      0.99      0.99     57816\n",
      "\n"
     ]
    }
   ],
   "source": [
    "from sklearn.metrics import classification_report\n",
    "print(classification_report(y_test, predictions))"
   ]
  },
  {
   "cell_type": "code",
   "execution_count": null,
   "metadata": {
    "colab": {
     "base_uri": "https://localhost:8080/"
    },
    "id": "fMP7vQjCbQ6p",
    "outputId": "e1b01bd6-3005-4895-d8e6-f6f9fc4b6115"
   },
   "outputs": [
    {
     "name": "stdout",
     "output_type": "stream",
     "text": [
      "[[51205    49]\n",
      " [  493  6069]]\n"
     ]
    }
   ],
   "source": [
    "from sklearn.metrics import confusion_matrix\n",
    "cfmat = confusion_matrix(y_test, predictions, labels=[0,1])\n",
    "print(cfmat)\n",
    "# [[TN,   FP],\n",
    "#  [FN,    TP]]"
   ]
  },
  {
   "cell_type": "code",
   "execution_count": null,
   "metadata": {
    "colab": {
     "base_uri": "https://localhost:8080/"
    },
    "id": "bRbutqlv5Q6Y",
    "outputId": "1fd4d50f-31d1-4f58-ea64-c5af94aef9ff"
   },
   "outputs": [
    {
     "data": {
      "text/plain": [
       "array([[0.999, 0.001],\n",
       "       [0.075, 0.925]])"
      ]
     },
     "execution_count": 89,
     "metadata": {},
     "output_type": "execute_result"
    }
   ],
   "source": [
    "import numpy as np\n",
    "cfmat_norm = np.round(cfmat/np.sum(cfmat, axis=1).reshape(-1,1), 3)\n",
    "cfmat_norm"
   ]
  },
  {
   "cell_type": "code",
   "execution_count": null,
   "metadata": {
    "colab": {
     "base_uri": "https://localhost:8080/",
     "height": 449
    },
    "id": "R0dmu8tU-WSr",
    "outputId": "aebe89c8-fe86-4864-e597-4889db31124f"
   },
   "outputs": [
    {
     "data": {
      "image/png": "[encoded data removed]",
      "text/plain": [
       "<Figure size 640x480 with 2 Axes>"
      ]
     },
     "metadata": {},
     "output_type": "display_data"
    }
   ],
   "source": [
    "import seaborn as sns\n",
    "import matplotlib.pyplot as plt\n",
    "sns.heatmap(cfmat_norm, annot = True, xticklabels = [0,1], yticklabels = [0,1], cmap='Greens')\n",
    "plt.xlabel('Predicted')\n",
    "plt.ylabel('Actual')\n",
    "plt.show()"
   ]
  },
  {
   "cell_type": "markdown",
   "metadata": {
    "id": "9V8DMPdv0gMP"
   },
   "source": [
    "# Only Flow as input"
   ]
  },
  {
   "cell_type": "code",
   "execution_count": null,
   "metadata": {
    "id": "UD2FJwmj0f0R"
   },
   "outputs": [],
   "source": [
    "X1 = df.copy()\n",
    "X1.drop(lcols, axis=1,inplace=True)\n",
    "X1.drop(dcols, axis=1,inplace=True)\n",
    "X1.drop(pcols, axis=1,inplace=True)\n",
    "X1.drop('Leak', axis=1,inplace=True)"
   ]
  },
  {
   "cell_type": "code",
   "execution_count": null,
   "metadata": {
    "colab": {
     "base_uri": "https://localhost:8080/"
    },
    "id": "eHRzwcJmi5CW",
    "outputId": "7ec8c7a2-e139-4f83-a9ed-638f81c0d416"
   },
   "outputs": [
    {
     "data": {
      "text/plain": [
       "Index(['F_Link-1', 'F_Link-2', 'F_Link-3', 'F_Link-4', 'F_Link-5', 'F_Link-6',\n",
       "       'F_Link-7', 'F_Link-8', 'F_Link-9', 'F_Link-10', 'F_Link-11',\n",
       "       'F_Link-12', 'F_Link-13', 'F_Link-14', 'F_Link-15', 'F_Link-16',\n",
       "       'F_Link-17', 'F_Link-18', 'F_Link-19', 'F_Link-20', 'F_Link-21',\n",
       "       'F_Link-22', 'F_Link-23', 'F_Link-24', 'F_Link-25', 'F_Link-26',\n",
       "       'F_Link-27', 'F_Link-28', 'F_Link-29', 'F_Link-30', 'F_Link-31',\n",
       "       'F_Link-32', 'F_Link-33', 'F_Link-34'],\n",
       "      dtype='object')"
      ]
     },
     "execution_count": 47,
     "metadata": {},
     "output_type": "execute_result"
    }
   ],
   "source": [
    "X1.columns"
   ]
  },
  {
   "cell_type": "code",
   "execution_count": null,
   "metadata": {
    "id": "ur8wLQNYyuLQ"
   },
   "outputs": [],
   "source": [
    "y1 = df[['Leak']].copy()"
   ]
  },
  {
   "cell_type": "code",
   "execution_count": null,
   "metadata": {
    "colab": {
     "base_uri": "https://localhost:8080/"
    },
    "id": "yalV9qEk1D6w",
    "outputId": "9b0081d9-5e63-4269-98e1-90419d0d775f"
   },
   "outputs": [
    {
     "data": {
      "text/plain": [
       "Index(['Leak'], dtype='object')"
      ]
     },
     "execution_count": 51,
     "metadata": {},
     "output_type": "execute_result"
    }
   ],
   "source": [
    "y1.columns"
   ]
  },
  {
   "cell_type": "code",
   "execution_count": null,
   "metadata": {
    "id": "xSkW1ujS1H5H"
   },
   "outputs": [],
   "source": [
    "#splitting testing and training data\n",
    "\n",
    "from sklearn.model_selection import train_test_split\n",
    "X1_train, X1_test, y1_train, y1_test = train_test_split(X1, y1, test_size=0.33)"
   ]
  },
  {
   "cell_type": "markdown",
   "metadata": {
    "id": "uilEYYEb1e2l"
   },
   "source": [
    "Random Forest"
   ]
  },
  {
   "cell_type": "code",
   "execution_count": null,
   "metadata": {
    "id": "xEgvhV3a1aLP"
   },
   "outputs": [],
   "source": [
    "from sklearn.ensemble import RandomForestClassifier\n",
    "clf1 = RandomForestClassifier()\n",
    "clf1 = clf1.fit(X1_train, y1_train.values.ravel())"
   ]
  },
  {
   "cell_type": "code",
   "execution_count": null,
   "metadata": {
    "colab": {
     "base_uri": "https://localhost:8080/",
     "height": 505
    },
    "id": "Kr4HhyY-1-nC",
    "outputId": "d206a0a0-f52d-44de-f353-4b581dd2f6b6"
   },
   "outputs": [
    {
     "data": {
      "text/html": [
       "\n",
       "  <div id=\"df-eabca378-46b4-4eae-b00e-ad4d83db1f9e\">\n",
       "    <div class=\"colab-df-container\">\n",
       "      <div>\n",
       "<style scoped>\n",
       "    .dataframe tbody tr th:only-of-type {\n",
       "        vertical-align: middle;\n",
       "    }\n",
       "\n",
       "    .dataframe tbody tr th {\n",
       "        vertical-align: top;\n",
       "    }\n",
       "\n",
       "    .dataframe thead th {\n",
       "        text-align: right;\n",
       "    }\n",
       "</style>\n",
       "<table border=\"1\" class=\"dataframe\">\n",
       "  <thead>\n",
       "    <tr style=\"text-align: right;\">\n",
       "      <th></th>\n",
       "      <th>F_Link-1</th>\n",
       "      <th>F_Link-2</th>\n",
       "      <th>F_Link-3</th>\n",
       "      <th>F_Link-4</th>\n",
       "      <th>F_Link-5</th>\n",
       "      <th>F_Link-6</th>\n",
       "      <th>F_Link-7</th>\n",
       "      <th>F_Link-8</th>\n",
       "      <th>F_Link-9</th>\n",
       "      <th>F_Link-10</th>\n",
       "      <th>...</th>\n",
       "      <th>F_Link-25</th>\n",
       "      <th>F_Link-26</th>\n",
       "      <th>F_Link-27</th>\n",
       "      <th>F_Link-28</th>\n",
       "      <th>F_Link-29</th>\n",
       "      <th>F_Link-30</th>\n",
       "      <th>F_Link-31</th>\n",
       "      <th>F_Link-32</th>\n",
       "      <th>F_Link-33</th>\n",
       "      <th>F_Link-34</th>\n",
       "    </tr>\n",
       "  </thead>\n",
       "  <tbody>\n",
       "    <tr>\n",
       "      <th>130558</th>\n",
       "      <td>0.375375</td>\n",
       "      <td>0.375635</td>\n",
       "      <td>0.356303</td>\n",
       "      <td>0.354237</td>\n",
       "      <td>0.343416</td>\n",
       "      <td>0.323272</td>\n",
       "      <td>0.267606</td>\n",
       "      <td>0.236301</td>\n",
       "      <td>0.214709</td>\n",
       "      <td>0.123337</td>\n",
       "      <td>...</td>\n",
       "      <td>0.346939</td>\n",
       "      <td>0.589431</td>\n",
       "      <td>0.558140</td>\n",
       "      <td>0.514451</td>\n",
       "      <td>0.073232</td>\n",
       "      <td>0.730964</td>\n",
       "      <td>0.779874</td>\n",
       "      <td>0.783951</td>\n",
       "      <td>0.235632</td>\n",
       "      <td>0.261364</td>\n",
       "    </tr>\n",
       "    <tr>\n",
       "      <th>109889</th>\n",
       "      <td>0.528529</td>\n",
       "      <td>0.524014</td>\n",
       "      <td>0.436975</td>\n",
       "      <td>0.433051</td>\n",
       "      <td>0.400356</td>\n",
       "      <td>0.372931</td>\n",
       "      <td>0.335861</td>\n",
       "      <td>0.304795</td>\n",
       "      <td>0.270463</td>\n",
       "      <td>0.151149</td>\n",
       "      <td>...</td>\n",
       "      <td>0.571429</td>\n",
       "      <td>0.361789</td>\n",
       "      <td>0.453488</td>\n",
       "      <td>0.456647</td>\n",
       "      <td>0.143939</td>\n",
       "      <td>0.852792</td>\n",
       "      <td>0.867925</td>\n",
       "      <td>0.796296</td>\n",
       "      <td>0.229885</td>\n",
       "      <td>0.329545</td>\n",
       "    </tr>\n",
       "    <tr>\n",
       "      <th>27745</th>\n",
       "      <td>0.228979</td>\n",
       "      <td>0.225303</td>\n",
       "      <td>0.207563</td>\n",
       "      <td>0.204237</td>\n",
       "      <td>0.195730</td>\n",
       "      <td>0.175268</td>\n",
       "      <td>0.146262</td>\n",
       "      <td>0.134703</td>\n",
       "      <td>0.123369</td>\n",
       "      <td>0.064087</td>\n",
       "      <td>...</td>\n",
       "      <td>0.177843</td>\n",
       "      <td>0.658537</td>\n",
       "      <td>0.604651</td>\n",
       "      <td>0.526012</td>\n",
       "      <td>0.065657</td>\n",
       "      <td>0.756345</td>\n",
       "      <td>0.855346</td>\n",
       "      <td>0.895062</td>\n",
       "      <td>0.109195</td>\n",
       "      <td>0.117424</td>\n",
       "    </tr>\n",
       "    <tr>\n",
       "      <th>12068</th>\n",
       "      <td>0.487613</td>\n",
       "      <td>0.474815</td>\n",
       "      <td>0.457983</td>\n",
       "      <td>0.455932</td>\n",
       "      <td>0.433274</td>\n",
       "      <td>0.395326</td>\n",
       "      <td>0.353196</td>\n",
       "      <td>0.323059</td>\n",
       "      <td>0.302491</td>\n",
       "      <td>0.177751</td>\n",
       "      <td>...</td>\n",
       "      <td>0.443149</td>\n",
       "      <td>0.528455</td>\n",
       "      <td>0.627907</td>\n",
       "      <td>0.630058</td>\n",
       "      <td>0.136364</td>\n",
       "      <td>0.852792</td>\n",
       "      <td>0.905660</td>\n",
       "      <td>0.864198</td>\n",
       "      <td>0.155172</td>\n",
       "      <td>0.329545</td>\n",
       "    </tr>\n",
       "    <tr>\n",
       "      <th>142517</th>\n",
       "      <td>0.048799</td>\n",
       "      <td>0.044514</td>\n",
       "      <td>0.050420</td>\n",
       "      <td>0.050000</td>\n",
       "      <td>0.045374</td>\n",
       "      <td>0.037001</td>\n",
       "      <td>0.039003</td>\n",
       "      <td>0.037671</td>\n",
       "      <td>0.036773</td>\n",
       "      <td>0.027811</td>\n",
       "      <td>...</td>\n",
       "      <td>0.087464</td>\n",
       "      <td>0.703252</td>\n",
       "      <td>0.616279</td>\n",
       "      <td>0.491329</td>\n",
       "      <td>0.032828</td>\n",
       "      <td>0.715736</td>\n",
       "      <td>0.874214</td>\n",
       "      <td>0.938272</td>\n",
       "      <td>0.057471</td>\n",
       "      <td>0.053030</td>\n",
       "    </tr>\n",
       "    <tr>\n",
       "      <th>...</th>\n",
       "      <td>...</td>\n",
       "      <td>...</td>\n",
       "      <td>...</td>\n",
       "      <td>...</td>\n",
       "      <td>...</td>\n",
       "      <td>...</td>\n",
       "      <td>...</td>\n",
       "      <td>...</td>\n",
       "      <td>...</td>\n",
       "      <td>...</td>\n",
       "      <td>...</td>\n",
       "      <td>...</td>\n",
       "      <td>...</td>\n",
       "      <td>...</td>\n",
       "      <td>...</td>\n",
       "      <td>...</td>\n",
       "      <td>...</td>\n",
       "      <td>...</td>\n",
       "      <td>...</td>\n",
       "      <td>...</td>\n",
       "      <td>...</td>\n",
       "    </tr>\n",
       "    <tr>\n",
       "      <th>65860</th>\n",
       "      <td>0.042417</td>\n",
       "      <td>0.041390</td>\n",
       "      <td>0.045378</td>\n",
       "      <td>0.045763</td>\n",
       "      <td>0.046263</td>\n",
       "      <td>0.038948</td>\n",
       "      <td>0.040087</td>\n",
       "      <td>0.041096</td>\n",
       "      <td>0.037960</td>\n",
       "      <td>0.019347</td>\n",
       "      <td>...</td>\n",
       "      <td>0.069971</td>\n",
       "      <td>0.752033</td>\n",
       "      <td>0.587209</td>\n",
       "      <td>0.445087</td>\n",
       "      <td>0.032828</td>\n",
       "      <td>0.720812</td>\n",
       "      <td>0.849057</td>\n",
       "      <td>0.938272</td>\n",
       "      <td>0.063218</td>\n",
       "      <td>0.083333</td>\n",
       "    </tr>\n",
       "    <tr>\n",
       "      <th>69130</th>\n",
       "      <td>0.131757</td>\n",
       "      <td>0.128075</td>\n",
       "      <td>0.120168</td>\n",
       "      <td>0.119492</td>\n",
       "      <td>0.114769</td>\n",
       "      <td>0.103213</td>\n",
       "      <td>0.098592</td>\n",
       "      <td>0.095890</td>\n",
       "      <td>0.087782</td>\n",
       "      <td>0.042322</td>\n",
       "      <td>...</td>\n",
       "      <td>0.131195</td>\n",
       "      <td>0.682927</td>\n",
       "      <td>0.558140</td>\n",
       "      <td>0.456647</td>\n",
       "      <td>0.047980</td>\n",
       "      <td>0.736041</td>\n",
       "      <td>0.855346</td>\n",
       "      <td>0.932099</td>\n",
       "      <td>0.074713</td>\n",
       "      <td>0.090909</td>\n",
       "    </tr>\n",
       "    <tr>\n",
       "      <th>174521</th>\n",
       "      <td>0.403529</td>\n",
       "      <td>0.401015</td>\n",
       "      <td>0.346218</td>\n",
       "      <td>0.344915</td>\n",
       "      <td>0.330961</td>\n",
       "      <td>0.296008</td>\n",
       "      <td>0.253521</td>\n",
       "      <td>0.235160</td>\n",
       "      <td>0.215896</td>\n",
       "      <td>0.133011</td>\n",
       "      <td>...</td>\n",
       "      <td>0.341108</td>\n",
       "      <td>0.552846</td>\n",
       "      <td>0.633721</td>\n",
       "      <td>0.578035</td>\n",
       "      <td>0.128788</td>\n",
       "      <td>0.857868</td>\n",
       "      <td>0.918239</td>\n",
       "      <td>0.925926</td>\n",
       "      <td>0.097701</td>\n",
       "      <td>0.227273</td>\n",
       "    </tr>\n",
       "    <tr>\n",
       "      <th>161150</th>\n",
       "      <td>0.454955</td>\n",
       "      <td>0.446310</td>\n",
       "      <td>0.395798</td>\n",
       "      <td>0.394068</td>\n",
       "      <td>0.377224</td>\n",
       "      <td>0.339825</td>\n",
       "      <td>0.286024</td>\n",
       "      <td>0.264840</td>\n",
       "      <td>0.239620</td>\n",
       "      <td>0.151149</td>\n",
       "      <td>...</td>\n",
       "      <td>0.399417</td>\n",
       "      <td>0.520325</td>\n",
       "      <td>0.598837</td>\n",
       "      <td>0.572254</td>\n",
       "      <td>0.138889</td>\n",
       "      <td>0.873096</td>\n",
       "      <td>0.937107</td>\n",
       "      <td>0.901235</td>\n",
       "      <td>0.126437</td>\n",
       "      <td>0.261364</td>\n",
       "    </tr>\n",
       "    <tr>\n",
       "      <th>171540</th>\n",
       "      <td>0.582958</td>\n",
       "      <td>0.586099</td>\n",
       "      <td>0.370588</td>\n",
       "      <td>0.367797</td>\n",
       "      <td>0.355872</td>\n",
       "      <td>0.328140</td>\n",
       "      <td>0.283857</td>\n",
       "      <td>0.262557</td>\n",
       "      <td>0.246738</td>\n",
       "      <td>0.136638</td>\n",
       "      <td>...</td>\n",
       "      <td>0.577259</td>\n",
       "      <td>0.808943</td>\n",
       "      <td>0.953488</td>\n",
       "      <td>0.913295</td>\n",
       "      <td>0.979798</td>\n",
       "      <td>0.157360</td>\n",
       "      <td>0.056604</td>\n",
       "      <td>0.037037</td>\n",
       "      <td>0.925287</td>\n",
       "      <td>0.768939</td>\n",
       "    </tr>\n",
       "  </tbody>\n",
       "</table>\n",
       "<p>57816 rows × 34 columns</p>\n",
       "</div>\n",
       "      <button class=\"colab-df-convert\" onclick=\"convertToInteractive('df-eabca378-46b4-4eae-b00e-ad4d83db1f9e')\"\n",
       "              title=\"Convert this dataframe to an interactive table.\"\n",
       "              style=\"display:none;\">\n",
       "        \n",
       "  <svg xmlns=\"http://www.w3.org/2000/svg\" height=\"24px\"viewBox=\"0 0 24 24\"\n",
       "       width=\"24px\">\n",
       "    <path d=\"M0 0h24v24H0V0z\" fill=\"none\"/>\n",
       "    <path d=\"M18.56 5.44l.94 2.06.94-2.06 2.06-.94-2.06-.94-.94-2.06-.94 2.06-2.06.94zm-11 1L8.5 8.5l.94-2.06 2.06-.94-2.06-.94L8.5 2.5l-.94 2.06-2.06.94zm10 10l.94 2.06.94-2.06 2.06-.94-2.06-.94-.94-2.06-.94 2.06-2.06.94z\"/><path d=\"M17.41 7.96l-1.37-1.37c-.4-.4-.92-.59-1.43-.59-.52 0-1.04.2-1.43.59L10.3 9.45l-7.72 7.72c-.78.78-.78 2.05 0 2.83L4 21.41c.39.39.9.59 1.41.59.51 0 1.02-.2 1.41-.59l7.78-7.78 2.81-2.81c.8-.78.8-2.07 0-2.86zM5.41 20L4 18.59l7.72-7.72 1.47 1.35L5.41 20z\"/>\n",
       "  </svg>\n",
       "      </button>\n",
       "      \n",
       "  <style>\n",
       "    .colab-df-container {\n",
       "      display:flex;\n",
       "      flex-wrap:wrap;\n",
       "      gap: 12px;\n",
       "    }\n",
       "\n",
       "    .colab-df-convert {\n",
       "      background-color: #E8F0FE;\n",
       "      border: none;\n",
       "      border-radius: 50%;\n",
       "      cursor: pointer;\n",
       "      display: none;\n",
       "      fill: #1967D2;\n",
       "      height: 32px;\n",
       "      padding: 0 0 0 0;\n",
       "      width: 32px;\n",
       "    }\n",
       "\n",
       "    .colab-df-convert:hover {\n",
       "      background-color: #E2EBFA;\n",
       "      box-shadow: 0px 1px 2px rgba(60, 64, 67, 0.3), 0px 1px 3px 1px rgba(60, 64, 67, 0.15);\n",
       "      fill: #174EA6;\n",
       "    }\n",
       "\n",
       "    [theme=dark] .colab-df-convert {\n",
       "      background-color: #3B4455;\n",
       "      fill: #D2E3FC;\n",
       "    }\n",
       "\n",
       "    [theme=dark] .colab-df-convert:hover {\n",
       "      background-color: #434B5C;\n",
       "      box-shadow: 0px 1px 3px 1px rgba(0, 0, 0, 0.15);\n",
       "      filter: drop-shadow(0px 1px 2px rgba(0, 0, 0, 0.3));\n",
       "      fill: #FFFFFF;\n",
       "    }\n",
       "  </style>\n",
       "\n",
       "      <script>\n",
       "        const buttonEl =\n",
       "          document.querySelector('#df-eabca378-46b4-4eae-b00e-ad4d83db1f9e button.colab-df-convert');\n",
       "        buttonEl.style.display =\n",
       "          google.colab.kernel.accessAllowed ? 'block' : 'none';\n",
       "\n",
       "        async function convertToInteractive(key) {\n",
       "          const element = document.querySelector('#df-eabca378-46b4-4eae-b00e-ad4d83db1f9e');\n",
       "          const dataTable =\n",
       "            await google.colab.kernel.invokeFunction('convertToInteractive',\n",
       "                                                     [key], {});\n",
       "          if (!dataTable) return;\n",
       "\n",
       "          const docLinkHtml = 'Like what you see? Visit the ' +\n",
       "            '<a target=\"_blank\" href=https://colab.research.google.com/notebooks/data_table.ipynb>data table notebook</a>'\n",
       "            + ' to learn more about interactive tables.';\n",
       "          element.innerHTML = '';\n",
       "          dataTable['output_type'] = 'display_data';\n",
       "          await google.colab.output.renderOutput(dataTable, element);\n",
       "          const docLink = document.createElement('div');\n",
       "          docLink.innerHTML = docLinkHtml;\n",
       "          element.appendChild(docLink);\n",
       "        }\n",
       "      </script>\n",
       "    </div>\n",
       "  </div>\n",
       "  "
      ],
      "text/plain": [
       "        F_Link-1  F_Link-2  F_Link-3  F_Link-4  F_Link-5  F_Link-6  F_Link-7  \\\n",
       "130558  0.375375  0.375635  0.356303  0.354237  0.343416  0.323272  0.267606   \n",
       "109889  0.528529  0.524014  0.436975  0.433051  0.400356  0.372931  0.335861   \n",
       "27745   0.228979  0.225303  0.207563  0.204237  0.195730  0.175268  0.146262   \n",
       "12068   0.487613  0.474815  0.457983  0.455932  0.433274  0.395326  0.353196   \n",
       "142517  0.048799  0.044514  0.050420  0.050000  0.045374  0.037001  0.039003   \n",
       "...          ...       ...       ...       ...       ...       ...       ...   \n",
       "65860   0.042417  0.041390  0.045378  0.045763  0.046263  0.038948  0.040087   \n",
       "69130   0.131757  0.128075  0.120168  0.119492  0.114769  0.103213  0.098592   \n",
       "174521  0.403529  0.401015  0.346218  0.344915  0.330961  0.296008  0.253521   \n",
       "161150  0.454955  0.446310  0.395798  0.394068  0.377224  0.339825  0.286024   \n",
       "171540  0.582958  0.586099  0.370588  0.367797  0.355872  0.328140  0.283857   \n",
       "\n",
       "        F_Link-8  F_Link-9  F_Link-10  ...  F_Link-25  F_Link-26  F_Link-27  \\\n",
       "130558  0.236301  0.214709   0.123337  ...   0.346939   0.589431   0.558140   \n",
       "109889  0.304795  0.270463   0.151149  ...   0.571429   0.361789   0.453488   \n",
       "27745   0.134703  0.123369   0.064087  ...   0.177843   0.658537   0.604651   \n",
       "12068   0.323059  0.302491   0.177751  ...   0.443149   0.528455   0.627907   \n",
       "142517  0.037671  0.036773   0.027811  ...   0.087464   0.703252   0.616279   \n",
       "...          ...       ...        ...  ...        ...        ...        ...   \n",
       "65860   0.041096  0.037960   0.019347  ...   0.069971   0.752033   0.587209   \n",
       "69130   0.095890  0.087782   0.042322  ...   0.131195   0.682927   0.558140   \n",
       "174521  0.235160  0.215896   0.133011  ...   0.341108   0.552846   0.633721   \n",
       "161150  0.264840  0.239620   0.151149  ...   0.399417   0.520325   0.598837   \n",
       "171540  0.262557  0.246738   0.136638  ...   0.577259   0.808943   0.953488   \n",
       "\n",
       "        F_Link-28  F_Link-29  F_Link-30  F_Link-31  F_Link-32  F_Link-33  \\\n",
       "130558   0.514451   0.073232   0.730964   0.779874   0.783951   0.235632   \n",
       "109889   0.456647   0.143939   0.852792   0.867925   0.796296   0.229885   \n",
       "27745    0.526012   0.065657   0.756345   0.855346   0.895062   0.109195   \n",
       "12068    0.630058   0.136364   0.852792   0.905660   0.864198   0.155172   \n",
       "142517   0.491329   0.032828   0.715736   0.874214   0.938272   0.057471   \n",
       "...           ...        ...        ...        ...        ...        ...   \n",
       "65860    0.445087   0.032828   0.720812   0.849057   0.938272   0.063218   \n",
       "69130    0.456647   0.047980   0.736041   0.855346   0.932099   0.074713   \n",
       "174521   0.578035   0.128788   0.857868   0.918239   0.925926   0.097701   \n",
       "161150   0.572254   0.138889   0.873096   0.937107   0.901235   0.126437   \n",
       "171540   0.913295   0.979798   0.157360   0.056604   0.037037   0.925287   \n",
       "\n",
       "        F_Link-34  \n",
       "130558   0.261364  \n",
       "109889   0.329545  \n",
       "27745    0.117424  \n",
       "12068    0.329545  \n",
       "142517   0.053030  \n",
       "...           ...  \n",
       "65860    0.083333  \n",
       "69130    0.090909  \n",
       "174521   0.227273  \n",
       "161150   0.261364  \n",
       "171540   0.768939  \n",
       "\n",
       "[57816 rows x 34 columns]"
      ]
     },
     "execution_count": 54,
     "metadata": {},
     "output_type": "execute_result"
    }
   ],
   "source": [
    "X1_test"
   ]
  },
  {
   "cell_type": "code",
   "execution_count": null,
   "metadata": {
    "colab": {
     "base_uri": "https://localhost:8080/"
    },
    "id": "OBmi4Xwf2T5w",
    "outputId": "1f3ae5c7-7c5b-48ef-80d8-dfe89dab6af1"
   },
   "outputs": [
    {
     "data": {
      "text/plain": [
       "array([0., 0., 0., ..., 0., 0., 1.])"
      ]
     },
     "execution_count": 57,
     "metadata": {},
     "output_type": "execute_result"
    }
   ],
   "source": [
    "predictions1 = clf1.predict(X1_test)\n",
    "predictions1"
   ]
  },
  {
   "cell_type": "code",
   "execution_count": null,
   "metadata": {
    "colab": {
     "base_uri": "https://localhost:8080/"
    },
    "id": "gir3yMy-2arl",
    "outputId": "10a0dea4-e853-4557-a7c5-9bd8d5e4c3dd"
   },
   "outputs": [
    {
     "data": {
      "text/plain": [
       "array([[0.9, 0.1],\n",
       "       [1. , 0. ],\n",
       "       [1. , 0. ],\n",
       "       ...,\n",
       "       [1. , 0. ],\n",
       "       [1. , 0. ],\n",
       "       [0. , 1. ]])"
      ]
     },
     "execution_count": 58,
     "metadata": {},
     "output_type": "execute_result"
    }
   ],
   "source": [
    "clf1.predict_proba(X1_test)"
   ]
  },
  {
   "cell_type": "code",
   "execution_count": null,
   "metadata": {
    "colab": {
     "base_uri": "https://localhost:8080/"
    },
    "id": "976TH9wp2qhL",
    "outputId": "f8a0c4b2-cd91-48a5-9396-d267d690790b"
   },
   "outputs": [
    {
     "data": {
      "text/plain": [
       "0.9912826899128269"
      ]
     },
     "execution_count": 59,
     "metadata": {},
     "output_type": "execute_result"
    }
   ],
   "source": [
    "from sklearn.metrics import accuracy_score\n",
    "accuracy_score(y1_test, predictions1)"
   ]
  },
  {
   "cell_type": "code",
   "execution_count": null,
   "metadata": {
    "colab": {
     "base_uri": "https://localhost:8080/"
    },
    "id": "R5QWzKfI2zw7",
    "outputId": "2792d02d-3c5b-4714-bc7e-33475341eebd"
   },
   "outputs": [
    {
     "data": {
      "text/plain": [
       "0.9283614420547733"
      ]
     },
     "execution_count": 60,
     "metadata": {},
     "output_type": "execute_result"
    }
   ],
   "source": [
    "from sklearn.metrics import recall_score\n",
    "recall_score(y1_test, predictions1)"
   ]
  },
  {
   "cell_type": "code",
   "execution_count": null,
   "metadata": {
    "colab": {
     "base_uri": "https://localhost:8080/"
    },
    "id": "gLp4eiLT27Ni",
    "outputId": "1b593fca-c764-4d15-95aa-fd210a8e1dc0"
   },
   "outputs": [
    {
     "data": {
      "text/plain": [
       "0.9932130441979805"
      ]
     },
     "execution_count": 61,
     "metadata": {},
     "output_type": "execute_result"
    }
   ],
   "source": [
    "from sklearn.metrics import precision_score\n",
    "precision_score(y1_test, predictions1)"
   ]
  },
  {
   "cell_type": "code",
   "execution_count": null,
   "metadata": {
    "colab": {
     "base_uri": "https://localhost:8080/"
    },
    "id": "eMuckIka3EiK",
    "outputId": "756b777f-8598-4ef1-a89f-329e2787c83d"
   },
   "outputs": [
    {
     "name": "stdout",
     "output_type": "stream",
     "text": [
      "              precision    recall  f1-score   support\n",
      "\n",
      "         0.0       0.99      1.00      1.00     51353\n",
      "         1.0       0.99      0.93      0.96      6463\n",
      "\n",
      "    accuracy                           0.99     57816\n",
      "   macro avg       0.99      0.96      0.98     57816\n",
      "weighted avg       0.99      0.99      0.99     57816\n",
      "\n"
     ]
    }
   ],
   "source": [
    "from sklearn.metrics import classification_report\n",
    "print(classification_report(y1_test, predictions1))"
   ]
  },
  {
   "cell_type": "code",
   "execution_count": null,
   "metadata": {
    "colab": {
     "base_uri": "https://localhost:8080/"
    },
    "id": "V4aIZvJY3OrI",
    "outputId": "4031f6a8-4755-4039-edab-66e3cc8064dc"
   },
   "outputs": [
    {
     "name": "stdout",
     "output_type": "stream",
     "text": [
      "[[51312    41]\n",
      " [  463  6000]]\n"
     ]
    }
   ],
   "source": [
    "from sklearn.metrics import confusion_matrix\n",
    "cfmat1 = confusion_matrix(y1_test, predictions1, labels=[0,1])\n",
    "print(cfmat1)\n",
    "# [[TN,   FP],\n",
    "#  [FN,    TP]]"
   ]
  },
  {
   "cell_type": "code",
   "execution_count": null,
   "metadata": {
    "colab": {
     "base_uri": "https://localhost:8080/"
    },
    "id": "fXbmfAQe3Xkh",
    "outputId": "de3cb24c-ee64-452a-8b61-fc4af279c24d"
   },
   "outputs": [
    {
     "name": "stdout",
     "output_type": "stream",
     "text": [
      "[[0.999 0.001]\n",
      " [0.072 0.928]]\n"
     ]
    }
   ],
   "source": [
    "import numpy as np\n",
    "cfmat1_norm = np.round(cfmat1/np.sum(cfmat1, axis=1).reshape(-1,1), 3)\n",
    "print(cfmat1_norm)"
   ]
  },
  {
   "cell_type": "code",
   "execution_count": null,
   "metadata": {
    "colab": {
     "base_uri": "https://localhost:8080/",
     "height": 449
    },
    "id": "RvWAVkqZ-Axj",
    "outputId": "a34c933d-b649-48f2-8fc8-4a23090a8b18"
   },
   "outputs": [
    {
     "data": {
      "image/png": "[encoded data removed]",
      "text/plain": [
       "<Figure size 640x480 with 2 Axes>"
      ]
     },
     "metadata": {},
     "output_type": "display_data"
    }
   ],
   "source": [
    "import seaborn as sns\n",
    "import matplotlib.pyplot as plt\n",
    "sns.heatmap(cfmat1_norm, annot = True, xticklabels = [0,1], yticklabels = [0,1], cmap='Greens')\n",
    "plt.xlabel('Predicted')\n",
    "plt.ylabel('Actual')\n",
    "plt.show()"
   ]
  },
  {
   "cell_type": "markdown",
   "metadata": {
    "id": "JsF8NV7r5fOU"
   },
   "source": [
    "# Only pressure as input"
   ]
  },
  {
   "cell_type": "code",
   "execution_count": null,
   "metadata": {
    "id": "GToFBf9q5GDS"
   },
   "outputs": [],
   "source": [
    "X2 = df.copy()\n",
    "X2.drop(lcols, axis=1,inplace=True)\n",
    "X2.drop(dcols, axis=1,inplace=True)\n",
    "X2.drop(fcols, axis=1,inplace=True)\n",
    "X2.drop('Leak', axis=1,inplace=True)"
   ]
  },
  {
   "cell_type": "code",
   "execution_count": null,
   "metadata": {
    "colab": {
     "base_uri": "https://localhost:8080/"
    },
    "id": "DxNG_oKV55h-",
    "outputId": "4b5a85f3-3c07-4e29-fba1-dbde7ddfc6f3"
   },
   "outputs": [
    {
     "data": {
      "text/plain": [
       "Index(['P_Node-1', 'P_Node-2', 'P_Node-3', 'P_Node-4', 'P_Node-5', 'P_Node-6',\n",
       "       'P_Node-7', 'P_Node-8', 'P_Node-9', 'P_Node-10', 'P_Node-11',\n",
       "       'P_Node-12', 'P_Node-13', 'P_Node-14', 'P_Node-15', 'P_Node-16',\n",
       "       'P_Node-17', 'P_Node-18', 'P_Node-19', 'P_Node-20', 'P_Node-21',\n",
       "       'P_Node-22', 'P_Node-23', 'P_Node-24', 'P_Node-25', 'P_Node-26',\n",
       "       'P_Node-27', 'P_Node-28', 'P_Node-29', 'P_Node-30', 'P_Node-31',\n",
       "       'P_Node-32'],\n",
       "      dtype='object')"
      ]
     },
     "execution_count": 72,
     "metadata": {},
     "output_type": "execute_result"
    }
   ],
   "source": [
    "X2.columns"
   ]
  },
  {
   "cell_type": "code",
   "execution_count": null,
   "metadata": {
    "id": "SrxaG_LI5y7B"
   },
   "outputs": [],
   "source": [
    "y2 = df[['Leak']].copy()"
   ]
  },
  {
   "cell_type": "code",
   "execution_count": null,
   "metadata": {
    "id": "s_Sn0y7J54dB"
   },
   "outputs": [],
   "source": [
    "#splitting testing and training data\n",
    "\n",
    "from sklearn.model_selection import train_test_split\n",
    "X2_train, X2_test, y2_train, y2_test = train_test_split(X2, y2, test_size=0.33)"
   ]
  },
  {
   "cell_type": "markdown",
   "metadata": {
    "id": "AcNTwYpP6MTG"
   },
   "source": [
    "Random Forest"
   ]
  },
  {
   "cell_type": "code",
   "execution_count": null,
   "metadata": {
    "id": "B6UtLbZl6HJW"
   },
   "outputs": [],
   "source": [
    "from sklearn.ensemble import RandomForestClassifier\n",
    "clf2 = RandomForestClassifier()\n",
    "clf2 = clf2.fit(X2_train, y2_train.values.ravel())"
   ]
  },
  {
   "cell_type": "code",
   "execution_count": null,
   "metadata": {
    "colab": {
     "base_uri": "https://localhost:8080/"
    },
    "id": "W27J7VpS6UBQ",
    "outputId": "9f4ea538-ded5-47e6-90d6-af10bece0cbd"
   },
   "outputs": [
    {
     "data": {
      "text/plain": [
       "array([0., 0., 1., ..., 0., 0., 0.])"
      ]
     },
     "execution_count": 75,
     "metadata": {},
     "output_type": "execute_result"
    }
   ],
   "source": [
    "predictions2 = clf2.predict(X2_test)\n",
    "predictions2"
   ]
  },
  {
   "cell_type": "code",
   "execution_count": null,
   "metadata": {
    "colab": {
     "base_uri": "https://localhost:8080/"
    },
    "id": "W3Zoprvk6yZ6",
    "outputId": "33dd4fc4-c22f-4be8-a64b-fb810478e1bf"
   },
   "outputs": [
    {
     "data": {
      "text/plain": [
       "array([[1.  , 0.  ],\n",
       "       [0.99, 0.01],\n",
       "       [0.  , 1.  ],\n",
       "       ...,\n",
       "       [1.  , 0.  ],\n",
       "       [1.  , 0.  ],\n",
       "       [1.  , 0.  ]])"
      ]
     },
     "execution_count": 76,
     "metadata": {},
     "output_type": "execute_result"
    }
   ],
   "source": [
    "clf2.predict_proba(X2_test)"
   ]
  },
  {
   "cell_type": "code",
   "execution_count": null,
   "metadata": {
    "colab": {
     "base_uri": "https://localhost:8080/"
    },
    "id": "WadK5KnH66JU",
    "outputId": "8503bf06-4c0e-4b32-a868-a762573c7420"
   },
   "outputs": [
    {
     "data": {
      "text/plain": [
       "0.9819773073197731"
      ]
     },
     "execution_count": 77,
     "metadata": {},
     "output_type": "execute_result"
    }
   ],
   "source": [
    "from sklearn.metrics import accuracy_score\n",
    "accuracy_score(y2_test, predictions2)"
   ]
  },
  {
   "cell_type": "code",
   "execution_count": null,
   "metadata": {
    "colab": {
     "base_uri": "https://localhost:8080/"
    },
    "id": "wFnevtHe7Bt6",
    "outputId": "822cf127-db7a-468f-e3ca-a5a8a06dcac6"
   },
   "outputs": [
    {
     "data": {
      "text/plain": [
       "0.8615548455804047"
      ]
     },
     "execution_count": 78,
     "metadata": {},
     "output_type": "execute_result"
    }
   ],
   "source": [
    "from sklearn.metrics import recall_score\n",
    "recall_score(y2_test, predictions2)"
   ]
  },
  {
   "cell_type": "code",
   "execution_count": null,
   "metadata": {
    "colab": {
     "base_uri": "https://localhost:8080/"
    },
    "id": "VwbE1ogB7II7",
    "outputId": "c3d82de3-4298-489a-8ac4-5a5155309d4c"
   },
   "outputs": [
    {
     "data": {
      "text/plain": [
       "0.9772217428817946"
      ]
     },
     "execution_count": 79,
     "metadata": {},
     "output_type": "execute_result"
    }
   ],
   "source": [
    "from sklearn.metrics import precision_score\n",
    "precision_score(y2_test, predictions2)"
   ]
  },
  {
   "cell_type": "code",
   "execution_count": null,
   "metadata": {
    "colab": {
     "base_uri": "https://localhost:8080/"
    },
    "id": "4KYxLxwd7QCz",
    "outputId": "5caeb2b0-a831-4c70-d817-bdf6df42d5d3"
   },
   "outputs": [
    {
     "name": "stdout",
     "output_type": "stream",
     "text": [
      "              precision    recall  f1-score   support\n",
      "\n",
      "         0.0       0.98      1.00      0.99     51243\n",
      "         1.0       0.98      0.86      0.92      6573\n",
      "\n",
      "    accuracy                           0.98     57816\n",
      "   macro avg       0.98      0.93      0.95     57816\n",
      "weighted avg       0.98      0.98      0.98     57816\n",
      "\n"
     ]
    }
   ],
   "source": [
    "from sklearn.metrics import classification_report\n",
    "print(classification_report(y2_test, predictions2))"
   ]
  },
  {
   "cell_type": "code",
   "execution_count": null,
   "metadata": {
    "colab": {
     "base_uri": "https://localhost:8080/"
    },
    "id": "ToWIsJEZ7XnY",
    "outputId": "a1b4af85-cd3e-4aef-880c-d9e7c4c57c75"
   },
   "outputs": [
    {
     "name": "stdout",
     "output_type": "stream",
     "text": [
      "[[51111   132]\n",
      " [  910  5663]]\n"
     ]
    }
   ],
   "source": [
    "from sklearn.metrics import confusion_matrix\n",
    "cfmat2 = confusion_matrix(y2_test, predictions2, labels=[0,1])\n",
    "print(cfmat2)\n",
    "# [[TN,   FP],\n",
    "#  [FN,    TP]]"
   ]
  },
  {
   "cell_type": "code",
   "execution_count": null,
   "metadata": {
    "colab": {
     "base_uri": "https://localhost:8080/"
    },
    "id": "CbMFcAqV7g2A",
    "outputId": "976009cd-3d66-4882-9ec8-3202b4a63200"
   },
   "outputs": [
    {
     "data": {
      "text/plain": [
       "array([[0.997, 0.003],\n",
       "       [0.138, 0.862]])"
      ]
     },
     "execution_count": 83,
     "metadata": {},
     "output_type": "execute_result"
    }
   ],
   "source": [
    "import numpy as np\n",
    "cfmat2_norm = np.round(cfmat2/np.sum(cfmat2, axis=1).reshape(-1,1), 3)\n",
    "cfmat2_norm"
   ]
  },
  {
   "cell_type": "code",
   "execution_count": null,
   "metadata": {
    "colab": {
     "base_uri": "https://localhost:8080/",
     "height": 449
    },
    "id": "uji_gTQc7nvG",
    "outputId": "0901367b-6223-453c-cc8d-c2d7c68b64cf"
   },
   "outputs": [
    {
     "data": {
      "image/png": "[encoded data removed]",
      "text/plain": [
       "<Figure size 640x480 with 2 Axes>"
      ]
     },
     "metadata": {},
     "output_type": "display_data"
    }
   ],
   "source": [
    "import seaborn as sns\n",
    "import matplotlib.pyplot as plt\n",
    "sns.heatmap(cfmat2_norm, annot = True, xticklabels = [0,1], yticklabels = [0,1], cmap='Greens')\n",
    "plt.xlabel('Predicted')\n",
    "plt.ylabel('Actual')\n",
    "plt.show()"
   ]
  },
  {
   "cell_type": "code",
   "execution_count": null,
   "metadata": {
    "id": "0oNB0l5c9plp"
   },
   "outputs": [],
   "source": []
  }
 ],
 "metadata": {
  "colab": {
   "provenance": []
  },
  "kernelspec": {
   "display_name": "Python 3 (ipykernel)",
   "language": "python",
   "name": "python3"
  },
  "language_info": {
   "codemirror_mode": {
    "name": "ipython",
    "version": 3
   },
   "file_extension": ".py",
   "mimetype": "text/x-python",
   "name": "python",
   "nbconvert_exporter": "python",
   "pygments_lexer": "ipython3",
   "version": "3.9.13"
  }
 },
 "nbformat": 4,
 "nbformat_minor": 1
}
